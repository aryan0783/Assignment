{
 "cells": [
  {
   "cell_type": "markdown",
   "id": "eb622bf9",
   "metadata": {},
   "source": [
    "### 1. What is a lambda function in Python, and how does it differ from a regular function?"
   ]
  },
  {
   "cell_type": "markdown",
   "id": "c5ff6176",
   "metadata": {},
   "source": [
    "- lambda function has no name but regular function always have a name.\n",
    "- lambda function is defined in one line whereas regular function is defined in multiple lines.\n",
    "- lambda function is quite tricky to implement whereas regular function is easy to implement."
   ]
  },
  {
   "cell_type": "markdown",
   "id": "4ee6ac45",
   "metadata": {},
   "source": [
    "### 2. Can a lambda function in Python have multiple arguments? If yes, how can you define and use them?"
   ]
  },
  {
   "cell_type": "markdown",
   "id": "d4dcd0ca",
   "metadata": {},
   "source": [
    "- lambda function can have multiple arguments in it\n",
    "<br>\n",
    "\n",
    "- lambda function in multiple arguments are defined by using lambda keyword following by arguments seperated by comma followed by colon and then return value."
   ]
  },
  {
   "cell_type": "code",
   "execution_count": 8,
   "id": "72bd8797",
   "metadata": {},
   "outputs": [],
   "source": [
    "# eg :\n",
    "\n",
    "x = lambda a,b,c,d : (a+b+c)/d"
   ]
  },
  {
   "cell_type": "code",
   "execution_count": 9,
   "id": "f1a25209",
   "metadata": {},
   "outputs": [
    {
     "data": {
      "text/plain": [
       "51.0"
      ]
     },
     "execution_count": 9,
     "metadata": {},
     "output_type": "execute_result"
    }
   ],
   "source": [
    "x(23,34,45,2)"
   ]
  },
  {
   "cell_type": "markdown",
   "id": "fb26a9c9",
   "metadata": {},
   "source": [
    "### 3. How are lambda functions typically used in Python? Provide an example use case."
   ]
  },
  {
   "cell_type": "markdown",
   "id": "16919845",
   "metadata": {},
   "source": [
    "- lambda function can be typically used in the scenerio where we have a one liner logic to implement in the function, eg : summation function , multiply , squaring etc..."
   ]
  },
  {
   "cell_type": "code",
   "execution_count": 10,
   "id": "acba53ba",
   "metadata": {},
   "outputs": [
    {
     "data": {
      "text/plain": [
       "20"
      ]
     },
     "execution_count": 10,
     "metadata": {},
     "output_type": "execute_result"
    }
   ],
   "source": [
    "# eg :\n",
    "\n",
    "x = lambda a,b : a*b\n",
    "\n",
    "x(4,5)"
   ]
  },
  {
   "cell_type": "code",
   "execution_count": 11,
   "id": "00f30453",
   "metadata": {},
   "outputs": [
    {
     "data": {
      "text/plain": [
       "101"
      ]
     },
     "execution_count": 11,
     "metadata": {},
     "output_type": "execute_result"
    }
   ],
   "source": [
    "# eg :\n",
    "\n",
    "x = lambda a,b : a+b\n",
    "\n",
    "x(45,56)"
   ]
  },
  {
   "cell_type": "code",
   "execution_count": 12,
   "id": "747c97e8",
   "metadata": {},
   "outputs": [
    {
     "data": {
      "text/plain": [
       "16"
      ]
     },
     "execution_count": 12,
     "metadata": {},
     "output_type": "execute_result"
    }
   ],
   "source": [
    "# eg :\n",
    "\n",
    "x = lambda a : a**2\n",
    "\n",
    "x(4)"
   ]
  },
  {
   "cell_type": "markdown",
   "id": "4fcdcd1a",
   "metadata": {},
   "source": [
    "### 4. What are the advantages and limitations of lambda functions compared to regular functions in Python?"
   ]
  },
  {
   "cell_type": "markdown",
   "id": "d2b76482",
   "metadata": {},
   "source": [
    "### Advantages of using lambda functions :\n",
    "\n",
    "- one liner logic program can be implemented easily.\n",
    "- no need to use return keyword to return statement\n",
    "- no need to think of a name for a function\n",
    "\n",
    "\n",
    "### Disadvantages of using lambda functions :\n",
    "\n",
    "- quite tricky to implement.\n",
    "- it cannot have any docstrings. so that documentation can't be done.\n",
    "- it is quite difficult to read."
   ]
  },
  {
   "cell_type": "markdown",
   "id": "562f3e5b",
   "metadata": {},
   "source": [
    "### 5. Are lambda functions in Python able to access variables defined outside of their own scope? Explain with an example."
   ]
  },
  {
   "cell_type": "markdown",
   "id": "5c518784",
   "metadata": {},
   "source": [
    "- variables defined outside the lambda function is different from the variable defined inside the function even though the name is same"
   ]
  },
  {
   "cell_type": "code",
   "execution_count": 23,
   "id": "0281bc86",
   "metadata": {},
   "outputs": [
    {
     "name": "stdout",
     "output_type": "stream",
     "text": [
      "25\n"
     ]
    }
   ],
   "source": [
    "# we can implement like this :\n",
    "\n",
    "a = 5  # global scope\n",
    "\n",
    "x = lambda a=a : a**2\n",
    "\n",
    "print(x())"
   ]
  },
  {
   "cell_type": "code",
   "execution_count": 25,
   "id": "e7cdcbb8",
   "metadata": {},
   "outputs": [
    {
     "name": "stdout",
     "output_type": "stream",
     "text": [
      "25\n"
     ]
    }
   ],
   "source": [
    "a = 5  # global scope\n",
    "\n",
    "x = lambda _ : a**2\n",
    "\n",
    "print(x(1))"
   ]
  },
  {
   "cell_type": "code",
   "execution_count": 26,
   "id": "f78acbae",
   "metadata": {},
   "outputs": [],
   "source": [
    "a = 8  # global scope\n",
    "\n",
    "def square():\n",
    "    \n",
    "    return a**2"
   ]
  },
  {
   "cell_type": "code",
   "execution_count": 27,
   "id": "80cbb028",
   "metadata": {},
   "outputs": [
    {
     "data": {
      "text/plain": [
       "64"
      ]
     },
     "execution_count": 27,
     "metadata": {},
     "output_type": "execute_result"
    }
   ],
   "source": [
    "square()"
   ]
  },
  {
   "cell_type": "code",
   "execution_count": 28,
   "id": "3f4a11b7",
   "metadata": {},
   "outputs": [],
   "source": [
    "a = 9\n",
    "\n",
    "def square():\n",
    "    \n",
    "    a = a   # a here is different\n",
    "    \n",
    "    return a**2"
   ]
  },
  {
   "cell_type": "code",
   "execution_count": 29,
   "id": "be1ed789",
   "metadata": {},
   "outputs": [
    {
     "ename": "UnboundLocalError",
     "evalue": "local variable 'a' referenced before assignment",
     "output_type": "error",
     "traceback": [
      "\u001b[1;31m---------------------------------------------------------------------------\u001b[0m",
      "\u001b[1;31mUnboundLocalError\u001b[0m                         Traceback (most recent call last)",
      "\u001b[1;32m<ipython-input-29-67e8141f4182>\u001b[0m in \u001b[0;36m<module>\u001b[1;34m\u001b[0m\n\u001b[1;32m----> 1\u001b[1;33m \u001b[0msquare\u001b[0m\u001b[1;33m(\u001b[0m\u001b[1;33m)\u001b[0m\u001b[1;33m\u001b[0m\u001b[1;33m\u001b[0m\u001b[0m\n\u001b[0m",
      "\u001b[1;32m<ipython-input-28-4965ed1626da>\u001b[0m in \u001b[0;36msquare\u001b[1;34m()\u001b[0m\n\u001b[0;32m      3\u001b[0m \u001b[1;32mdef\u001b[0m \u001b[0msquare\u001b[0m\u001b[1;33m(\u001b[0m\u001b[1;33m)\u001b[0m\u001b[1;33m:\u001b[0m\u001b[1;33m\u001b[0m\u001b[1;33m\u001b[0m\u001b[0m\n\u001b[0;32m      4\u001b[0m \u001b[1;33m\u001b[0m\u001b[0m\n\u001b[1;32m----> 5\u001b[1;33m     \u001b[0ma\u001b[0m \u001b[1;33m=\u001b[0m \u001b[0ma\u001b[0m\u001b[1;33m\u001b[0m\u001b[1;33m\u001b[0m\u001b[0m\n\u001b[0m\u001b[0;32m      6\u001b[0m \u001b[1;33m\u001b[0m\u001b[0m\n\u001b[0;32m      7\u001b[0m     \u001b[1;32mreturn\u001b[0m \u001b[0ma\u001b[0m\u001b[1;33m**\u001b[0m\u001b[1;36m2\u001b[0m\u001b[1;33m\u001b[0m\u001b[1;33m\u001b[0m\u001b[0m\n",
      "\u001b[1;31mUnboundLocalError\u001b[0m: local variable 'a' referenced before assignment"
     ]
    }
   ],
   "source": [
    "square()"
   ]
  },
  {
   "cell_type": "code",
   "execution_count": 30,
   "id": "6ca20042",
   "metadata": {},
   "outputs": [],
   "source": [
    "a = 9\n",
    "\n",
    "def square():\n",
    "    global a  # use of keyword global\n",
    "    a = a   # a here is different\n",
    "    \n",
    "    return a**2"
   ]
  },
  {
   "cell_type": "code",
   "execution_count": 31,
   "id": "ada3bdbd",
   "metadata": {},
   "outputs": [
    {
     "data": {
      "text/plain": [
       "81"
      ]
     },
     "execution_count": 31,
     "metadata": {},
     "output_type": "execute_result"
    }
   ],
   "source": [
    "square()"
   ]
  },
  {
   "cell_type": "markdown",
   "id": "8bd2d9e3",
   "metadata": {},
   "source": [
    "### 6. Write a lambda function to calculate the square of a given number."
   ]
  },
  {
   "cell_type": "code",
   "execution_count": 32,
   "id": "4de67fb5",
   "metadata": {},
   "outputs": [
    {
     "data": {
      "text/plain": [
       "4225"
      ]
     },
     "execution_count": 32,
     "metadata": {},
     "output_type": "execute_result"
    }
   ],
   "source": [
    "x = lambda a : a**2\n",
    "\n",
    "x(65)"
   ]
  },
  {
   "cell_type": "markdown",
   "id": "0f9a7c44",
   "metadata": {},
   "source": [
    "### 7. Create a lambda function to find the maximum value in a list of integers."
   ]
  },
  {
   "cell_type": "code",
   "execution_count": 62,
   "id": "1e4462e0",
   "metadata": {},
   "outputs": [],
   "source": [
    "list_ = [23,34,45,56,67]\n",
    "\n",
    "x = lambda a : sorted(a)[-1] if type(a)==list else 'Please give list'"
   ]
  },
  {
   "cell_type": "code",
   "execution_count": 64,
   "id": "1546f3fc",
   "metadata": {},
   "outputs": [
    {
     "data": {
      "text/plain": [
       "67"
      ]
     },
     "execution_count": 64,
     "metadata": {},
     "output_type": "execute_result"
    }
   ],
   "source": [
    "x(list_)"
   ]
  },
  {
   "cell_type": "code",
   "execution_count": 65,
   "id": "6e190f98",
   "metadata": {},
   "outputs": [
    {
     "data": {
      "text/plain": [
       "'Please give list'"
      ]
     },
     "execution_count": 65,
     "metadata": {},
     "output_type": "execute_result"
    }
   ],
   "source": [
    "x('45')"
   ]
  },
  {
   "cell_type": "code",
   "execution_count": 68,
   "id": "b29336b8",
   "metadata": {},
   "outputs": [
    {
     "name": "stdout",
     "output_type": "stream",
     "text": [
      "353\n"
     ]
    }
   ],
   "source": [
    "# using the reduce function :\n",
    "\n",
    "from functools import reduce\n",
    "\n",
    "list_val = [21,22,142,353,43]\n",
    "maximum = reduce(lambda a,b : a if a>b else b, list_val)\n",
    "print(maximum)"
   ]
  },
  {
   "cell_type": "markdown",
   "id": "9615682f",
   "metadata": {},
   "source": [
    "### 8. Implement a lambda function to filter out all the even numbers from a list of integers."
   ]
  },
  {
   "cell_type": "code",
   "execution_count": 71,
   "id": "ee9fa611",
   "metadata": {},
   "outputs": [
    {
     "data": {
      "text/plain": [
       "[12, 2, 44]"
      ]
     },
     "execution_count": 71,
     "metadata": {},
     "output_type": "execute_result"
    }
   ],
   "source": [
    "list_ = [12,2,31,45,33,44]\n",
    "\n",
    "x = lambda a : [i for i in a if i%2==0]\n",
    "x(list_)"
   ]
  },
  {
   "cell_type": "code",
   "execution_count": 78,
   "id": "a2cc73c8",
   "metadata": {},
   "outputs": [
    {
     "name": "stdout",
     "output_type": "stream",
     "text": [
      "[12, 2, 44]\n"
     ]
    }
   ],
   "source": [
    "# using filter method :\n",
    "\n",
    "x = list(filter(lambda a : a%2==0, list_))\n",
    "print(x)"
   ]
  },
  {
   "cell_type": "markdown",
   "id": "4b42db6b",
   "metadata": {},
   "source": [
    "### 9. Write a lambda function to sort a list of strings in ascending order based on the length of each string."
   ]
  },
  {
   "cell_type": "code",
   "execution_count": 82,
   "id": "e03d6563",
   "metadata": {},
   "outputs": [
    {
     "data": {
      "text/plain": [
       "['pw', 'mumbai', 'ineuron', 'bangalore']"
      ]
     },
     "execution_count": 82,
     "metadata": {},
     "output_type": "execute_result"
    }
   ],
   "source": [
    "list_ = ['ineuron','pw','mumbai','bangalore']\n",
    "\n",
    "list_.sort(key=lambda a : len(a))\n",
    "list_"
   ]
  },
  {
   "cell_type": "code",
   "execution_count": 86,
   "id": "097b8567",
   "metadata": {},
   "outputs": [
    {
     "data": {
      "text/plain": [
       "['pw', 'mumbai', 'ineuron', 'bangalore', 'Arunachal Pradesh']"
      ]
     },
     "execution_count": 86,
     "metadata": {},
     "output_type": "execute_result"
    }
   ],
   "source": [
    "list_ = ['ineuron','pw','mumbai','bangalore','Arunachal Pradesh']\n",
    "\n",
    "sorted(list_,key=lambda a : len(a))"
   ]
  },
  {
   "cell_type": "markdown",
   "id": "82faa736",
   "metadata": {},
   "source": [
    "### 10. Create a lambda function that takes two lists as input and returns a new list containing the common elements between the two lists."
   ]
  },
  {
   "cell_type": "code",
   "execution_count": 88,
   "id": "e898235f",
   "metadata": {},
   "outputs": [],
   "source": [
    "list_1 = [12,23,34,45]\n",
    "list_2 = [14,55,23,55]\n",
    "\n",
    "x = lambda a,b : [i for i in a if i in b]"
   ]
  },
  {
   "cell_type": "code",
   "execution_count": 89,
   "id": "31166121",
   "metadata": {},
   "outputs": [
    {
     "data": {
      "text/plain": [
       "[23]"
      ]
     },
     "execution_count": 89,
     "metadata": {},
     "output_type": "execute_result"
    }
   ],
   "source": [
    "x(list_1,list_2)"
   ]
  },
  {
   "cell_type": "markdown",
   "id": "831cd8e3",
   "metadata": {},
   "source": [
    "### 11. Write a recursive function to calculate the factorial of a given positive integer."
   ]
  },
  {
   "cell_type": "code",
   "execution_count": 96,
   "id": "b57654ef",
   "metadata": {},
   "outputs": [],
   "source": [
    "def factorial(num):\n",
    "    \n",
    "    fact = num\n",
    "    \n",
    "    if num<=1:\n",
    "        return 1\n",
    "    \n",
    "    else:\n",
    "        return fact * factorial(num-1)"
   ]
  },
  {
   "cell_type": "code",
   "execution_count": 97,
   "id": "1cf98390",
   "metadata": {},
   "outputs": [
    {
     "data": {
      "text/plain": [
       "120"
      ]
     },
     "execution_count": 97,
     "metadata": {},
     "output_type": "execute_result"
    }
   ],
   "source": [
    "factorial(5)"
   ]
  },
  {
   "cell_type": "code",
   "execution_count": 98,
   "id": "a3de4f34",
   "metadata": {},
   "outputs": [
    {
     "data": {
      "text/plain": [
       "720"
      ]
     },
     "execution_count": 98,
     "metadata": {},
     "output_type": "execute_result"
    }
   ],
   "source": [
    "factorial(6)"
   ]
  },
  {
   "cell_type": "markdown",
   "id": "0a98ccfc",
   "metadata": {},
   "source": [
    "### 12. Implement a recursive function to compute the nth Fibonacci number."
   ]
  },
  {
   "cell_type": "code",
   "execution_count": 15,
   "id": "7ea4e920",
   "metadata": {},
   "outputs": [],
   "source": [
    "# Use of global keyword :\n",
    "\n",
    "a = 0\n",
    "b = 1\n",
    "\n",
    "def fibonacci(n):\n",
    "    \n",
    "    global a,b\n",
    "    c = a+b\n",
    "    \n",
    "    print(b)\n",
    "    \n",
    "    a=b\n",
    "    b=c\n",
    "    \n",
    "    if n<=0:\n",
    "        return\n",
    "    \n",
    "    return fibonacci(n-1) "
   ]
  },
  {
   "cell_type": "code",
   "execution_count": 16,
   "id": "b427dfc0",
   "metadata": {},
   "outputs": [
    {
     "name": "stdout",
     "output_type": "stream",
     "text": [
      "1\n",
      "1\n",
      "2\n",
      "3\n",
      "5\n",
      "8\n",
      "13\n",
      "21\n",
      "34\n",
      "55\n",
      "89\n"
     ]
    }
   ],
   "source": [
    "fibonacci(10)"
   ]
  },
  {
   "cell_type": "markdown",
   "id": "1b293c65",
   "metadata": {},
   "source": [
    "### 13. Create a recursive function to find the sum of all the elements in a given list."
   ]
  },
  {
   "cell_type": "code",
   "execution_count": 35,
   "id": "3fb0ad4b",
   "metadata": {},
   "outputs": [],
   "source": [
    "sum = 0\n",
    "\n",
    "def lst(n,len_):\n",
    "    \n",
    "    global sum\n",
    "    \n",
    "    if len_<0:\n",
    "        \n",
    "        print(sum)\n",
    "    \n",
    "    else:\n",
    "    \n",
    "        sum += n[len_-1]\n",
    "        lst(n,len_-1)"
   ]
  },
  {
   "cell_type": "code",
   "execution_count": 36,
   "id": "c2fc19b0",
   "metadata": {},
   "outputs": [
    {
     "name": "stdout",
     "output_type": "stream",
     "text": [
      "475\n"
     ]
    }
   ],
   "source": [
    "lst([12,34,5,2,352,35],6)"
   ]
  },
  {
   "cell_type": "markdown",
   "id": "84d08763",
   "metadata": {},
   "source": [
    "### 14. Write a recursive function to determine whether a given string is a palindrome."
   ]
  },
  {
   "cell_type": "code",
   "execution_count": 39,
   "id": "c7f71138",
   "metadata": {},
   "outputs": [],
   "source": [
    "flag = 1\n",
    "\n",
    "def str_palindrome(n,len_):\n",
    "    \n",
    "    global flag\n",
    "    \n",
    "    if len_<0:\n",
    "        \n",
    "        if flag == 1:\n",
    "            print(f'{n} is palindrome!')\n",
    "            return\n",
    "    \n",
    "    \n",
    "    if n[::-1][len_-1] == n[len_-1]:\n",
    "        \n",
    "        str_palindrome(n,len_-1)\n",
    "        \n",
    "    else:\n",
    "        \n",
    "        print(f'{n} is not palindrome!')\n",
    "        return"
   ]
  },
  {
   "cell_type": "code",
   "execution_count": 40,
   "id": "a1d78bc0",
   "metadata": {},
   "outputs": [
    {
     "name": "stdout",
     "output_type": "stream",
     "text": [
      "nitin is palindrome!\n"
     ]
    }
   ],
   "source": [
    "str_palindrome('nitin',5)"
   ]
  },
  {
   "cell_type": "code",
   "execution_count": 41,
   "id": "a3b1a968",
   "metadata": {},
   "outputs": [
    {
     "name": "stdout",
     "output_type": "stream",
     "text": [
      "aryan is not palindrome!\n"
     ]
    }
   ],
   "source": [
    "str_palindrome('aryan',5)"
   ]
  },
  {
   "cell_type": "markdown",
   "id": "8ad7e50e",
   "metadata": {},
   "source": [
    "### 15. Implement a recursive function to find the greatest common divisor (GCD) of two positive integers."
   ]
  },
  {
   "cell_type": "code",
   "execution_count": 51,
   "id": "3c44c662",
   "metadata": {},
   "outputs": [],
   "source": [
    "def gcd(a,b):\n",
    "    \n",
    "    if a==b:\n",
    "        return a\n",
    "\n",
    "    elif a<b:\n",
    "\n",
    "        return gcd(a,b-a)\n",
    "\n",
    "    else:\n",
    "\n",
    "        return gcd(a-b,b)"
   ]
  },
  {
   "cell_type": "code",
   "execution_count": 52,
   "id": "33182481",
   "metadata": {},
   "outputs": [
    {
     "name": "stdout",
     "output_type": "stream",
     "text": [
      "5\n"
     ]
    }
   ],
   "source": [
    "print(gcd(25,45))"
   ]
  },
  {
   "cell_type": "code",
   "execution_count": 53,
   "id": "1da104c4",
   "metadata": {},
   "outputs": [
    {
     "name": "stdout",
     "output_type": "stream",
     "text": [
      "2\n"
     ]
    }
   ],
   "source": [
    "print(gcd(22,26))"
   ]
  }
 ],
 "metadata": {
  "kernelspec": {
   "display_name": "Python 3",
   "language": "python",
   "name": "python3"
  },
  "language_info": {
   "codemirror_mode": {
    "name": "ipython",
    "version": 3
   },
   "file_extension": ".py",
   "mimetype": "text/x-python",
   "name": "python",
   "nbconvert_exporter": "python",
   "pygments_lexer": "ipython3",
   "version": "3.8.8"
  },
  "varInspector": {
   "cols": {
    "lenName": 16,
    "lenType": 16,
    "lenVar": 40
   },
   "kernels_config": {
    "python": {
     "delete_cmd_postfix": "",
     "delete_cmd_prefix": "del ",
     "library": "var_list.py",
     "varRefreshCmd": "print(var_dic_list())"
    },
    "r": {
     "delete_cmd_postfix": ") ",
     "delete_cmd_prefix": "rm(",
     "library": "var_list.r",
     "varRefreshCmd": "cat(var_dic_list()) "
    }
   },
   "types_to_exclude": [
    "module",
    "function",
    "builtin_function_or_method",
    "instance",
    "_Feature"
   ],
   "window_display": false
  }
 },
 "nbformat": 4,
 "nbformat_minor": 5
}
