{
 "cells": [
  {
   "cell_type": "markdown",
   "id": "07961cf9",
   "metadata": {},
   "source": [
    "### 1. Explain what inheritance is in object-oriented programming and why it is used."
   ]
  },
  {
   "cell_type": "markdown",
   "id": "1e211811",
   "metadata": {},
   "source": [
    "Inheritance :\n",
    "\n",
    "- Inheritance in the OOps means deriving the attributes and functionality from the base class\n",
    "\n",
    "- It is used to save some lines of code where we can use the same block of code again."
   ]
  },
  {
   "cell_type": "code",
   "execution_count": 5,
   "id": "4d0ce3bb",
   "metadata": {},
   "outputs": [],
   "source": [
    "import logging\n",
    "\n",
    "logging.basicConfig(filename='02_July_OOPs.log',level=logging.INFO,format='%(asctime)s %(levelname)s %(name)s %(message)s')"
   ]
  },
  {
   "cell_type": "code",
   "execution_count": 3,
   "id": "6b321f91",
   "metadata": {},
   "outputs": [],
   "source": [
    "# Example of inheritance :\n",
    "\n",
    "class Person:\n",
    "    \n",
    "    def __init__(self,name,age):\n",
    "        self.name = name\n",
    "        self.age = age\n",
    "        \n",
    " # Inheriting the Person class attributes\n",
    "class Student(Person):  \n",
    "\n",
    "    pass"
   ]
  },
  {
   "cell_type": "code",
   "execution_count": 4,
   "id": "90c85bbb",
   "metadata": {},
   "outputs": [
    {
     "data": {
      "text/plain": [
       "'Aryan'"
      ]
     },
     "execution_count": 4,
     "metadata": {},
     "output_type": "execute_result"
    }
   ],
   "source": [
    "student1 = Student('Aryan',24)\n",
    "student1.name"
   ]
  },
  {
   "cell_type": "markdown",
   "id": "a6aee43b",
   "metadata": {},
   "source": [
    "### 2. Discuss the concept of single inheritance and multiple inheritance, highlighting their differences and advantages."
   ]
  },
  {
   "cell_type": "markdown",
   "id": "6db6317b",
   "metadata": {},
   "source": [
    "### Single Inheritance\n",
    "\n",
    "- Single Inheritance has only one super class.\n",
    "- Single inheritance is less complex.\n",
    "\n",
    "\n",
    "### Multiple Inheritance\n",
    "\n",
    "- Multiple Inheritance has more than one super classes.\n",
    "- Multiple Inheritance is more complex."
   ]
  },
  {
   "cell_type": "code",
   "execution_count": 6,
   "id": "23466959",
   "metadata": {},
   "outputs": [],
   "source": [
    "# Single Inheritance\n",
    "\n",
    "class Person:\n",
    "    \n",
    "    def __init__(self,name,age):\n",
    "        self.name = name\n",
    "        self.age = age\n",
    "        \n",
    " # Inheriting the Person class attributes\n",
    "class Student(Person):  \n",
    "\n",
    "    pass"
   ]
  },
  {
   "cell_type": "code",
   "execution_count": 7,
   "id": "77adebdb",
   "metadata": {},
   "outputs": [
    {
     "data": {
      "text/plain": [
       "'Aryan'"
      ]
     },
     "execution_count": 7,
     "metadata": {},
     "output_type": "execute_result"
    }
   ],
   "source": [
    "student1 = Student('Aryan',24)\n",
    "student1.name"
   ]
  },
  {
   "cell_type": "code",
   "execution_count": 12,
   "id": "dc63377e",
   "metadata": {},
   "outputs": [],
   "source": [
    "# Multiple Inheritance\n",
    "\n",
    "class Person:\n",
    "    \n",
    "    def __init__(self,name,age):\n",
    "        self.name = name\n",
    "        self.age = age\n",
    "        \n",
    "class Human:\n",
    "    \n",
    "    def talking(self):\n",
    "        try:\n",
    "            logging.info(f'Question2.{self.__class__.__name__}.talking method has been called!')\n",
    "            return f'{self.__class__.__name__} has a feature of talking!'\n",
    "        except Exception as e:\n",
    "            logging.error(f'Error in Question2.{self.__class__.__name__}.talking method : {e}')\n",
    "    \n",
    "class Student(Person,Human):\n",
    "    \n",
    "    pass"
   ]
  },
  {
   "cell_type": "code",
   "execution_count": 13,
   "id": "81b9f404",
   "metadata": {},
   "outputs": [
    {
     "data": {
      "text/plain": [
       "'Student has a feature of talking!'"
      ]
     },
     "execution_count": 13,
     "metadata": {},
     "output_type": "execute_result"
    }
   ],
   "source": [
    "student1 = Student('Aryan',24)\n",
    "student1.talking()"
   ]
  },
  {
   "cell_type": "markdown",
   "id": "509c8229",
   "metadata": {},
   "source": [
    "### 3. Explain the terms \"base class\" and \"derived class\" in the context of inheritance."
   ]
  },
  {
   "cell_type": "markdown",
   "id": "df365202",
   "metadata": {},
   "source": [
    "- Base class is the class which inherits all the attributes and functionality to the derived class. It's just like a father.\n",
    "<br><br>\n",
    "- Derived class is the class which takes the attributes and functionality of the super class. It's just like a son or daughter"
   ]
  },
  {
   "cell_type": "code",
   "execution_count": 14,
   "id": "2a3e4852",
   "metadata": {},
   "outputs": [],
   "source": [
    "# super class or base class\n",
    "class Person:\n",
    "    \n",
    "    def __init__(self,name,age):\n",
    "        self.name = name\n",
    "        self.age = age\n",
    "        \n",
    "# child class\n",
    "class Student(Person):  \n",
    "\n",
    "    pass"
   ]
  },
  {
   "cell_type": "code",
   "execution_count": 15,
   "id": "49d587cf",
   "metadata": {},
   "outputs": [],
   "source": [
    "student1 = Student('Aryan',24)"
   ]
  },
  {
   "cell_type": "code",
   "execution_count": 16,
   "id": "f077ff60",
   "metadata": {},
   "outputs": [
    {
     "data": {
      "text/plain": [
       "'Aryan'"
      ]
     },
     "execution_count": 16,
     "metadata": {},
     "output_type": "execute_result"
    }
   ],
   "source": [
    "student1.name"
   ]
  },
  {
   "cell_type": "markdown",
   "id": "e12561e7",
   "metadata": {},
   "source": [
    "### 4. What is the significance of the \"protected\" access modifier in inheritance? How does it differ from \"private\" and \"public\" modifiers?"
   ]
  },
  {
   "cell_type": "markdown",
   "id": "38336da1",
   "metadata": {},
   "source": [
    "####  Protected access modifiers are different in the following ways :\n",
    "\n",
    "- In appearence protected access modifiers has single underscore where as private access modifier has double underscore and public access modifier has no underscore it in.\n",
    "<br><br>\n",
    "- Protected variable or methods are access from the derived class.\n",
    "<br><br>\n",
    "- Protected variable or methods are used to help in some functionality but are not directly accessable."
   ]
  },
  {
   "cell_type": "code",
   "execution_count": 17,
   "id": "c3fbf79a",
   "metadata": {},
   "outputs": [],
   "source": [
    "class Placement:\n",
    "    \n",
    "    def __init__(self,name,exp):\n",
    "        self.name = name\n",
    "        self._exp = exp\n",
    "        \n",
    "    def _Candidate_exp(self):\n",
    "        try:\n",
    "            logging.info(f'Question4.{self.__class__.__name__}._Candidate_exp method has been called!')\n",
    "            print(f'{self.name} has {self._exp} years of experience!')\n",
    "        except Exception as e:\n",
    "            logging.error(f'Error occured in the Question4.{self.__class__.__name__}._Candidate_exp method : {e}')\n",
    "        \n",
    "class Ineuron(Placement):\n",
    "    \n",
    "    def exp_info(self):\n",
    "        try:\n",
    "            logging.info(f'Question4.{self.__class__.__name__}.exp_info method has been called!')\n",
    "            self._Candidate_exp()\n",
    "        except Exception as e:\n",
    "            logging.error(f'Error occured in the Question4.{self.__class__.__name__}.exp_info method : {e}')"
   ]
  },
  {
   "cell_type": "code",
   "execution_count": 18,
   "id": "71ca34c6",
   "metadata": {},
   "outputs": [],
   "source": [
    "person1 = Ineuron('Aman',2)"
   ]
  },
  {
   "cell_type": "code",
   "execution_count": 19,
   "id": "eb09712d",
   "metadata": {},
   "outputs": [
    {
     "name": "stdout",
     "output_type": "stream",
     "text": [
      "Aman has 2 years of experience!\n"
     ]
    }
   ],
   "source": [
    "person1.exp_info()"
   ]
  },
  {
   "cell_type": "markdown",
   "id": "4e4a36c4",
   "metadata": {},
   "source": [
    "### 5. What is the purpose of the \"super\" keyword in inheritance? Provide an example."
   ]
  },
  {
   "cell_type": "markdown",
   "id": "6c4ea9da",
   "metadata": {},
   "source": [
    "- super keyword in python OOPs is used to refer the base class.\n",
    "- the need of super class is to normalize the code."
   ]
  },
  {
   "cell_type": "code",
   "execution_count": 20,
   "id": "ed88bb43",
   "metadata": {},
   "outputs": [],
   "source": [
    "class Person:\n",
    "    \n",
    "    def __init__(self,name):\n",
    "        self.name = name\n",
    "        \n",
    "class Boy(Person):\n",
    "    \n",
    "    # super class normalize the code of OOPs\n",
    "    def __init__(self,name,age,batch):\n",
    "        super().__init__(name)\n",
    "        self.age = age\n",
    "        self.batch = batch"
   ]
  },
  {
   "cell_type": "code",
   "execution_count": 21,
   "id": "fdc89edd",
   "metadata": {},
   "outputs": [],
   "source": [
    "boy1 = Boy('Aryan',13,8)"
   ]
  },
  {
   "cell_type": "code",
   "execution_count": 22,
   "id": "131d82f9",
   "metadata": {},
   "outputs": [
    {
     "data": {
      "text/plain": [
       "'Aryan'"
      ]
     },
     "execution_count": 22,
     "metadata": {},
     "output_type": "execute_result"
    }
   ],
   "source": [
    "boy1.name"
   ]
  },
  {
   "cell_type": "code",
   "execution_count": 23,
   "id": "c178e599",
   "metadata": {},
   "outputs": [
    {
     "data": {
      "text/plain": [
       "13"
      ]
     },
     "execution_count": 23,
     "metadata": {},
     "output_type": "execute_result"
    }
   ],
   "source": [
    "boy1.age"
   ]
  },
  {
   "cell_type": "markdown",
   "id": "d6b396b7",
   "metadata": {},
   "source": [
    "### 6. Create a base class called \"Vehicle\" with attributes like \"make\", \"model\", and \"year\". Then, create a derived class called \"Car\" that inherits from \"Vehicle\" and adds an attribute called \"fuel_type\". Implement appropriate methods in both classes."
   ]
  },
  {
   "cell_type": "code",
   "execution_count": 24,
   "id": "9889ceee",
   "metadata": {},
   "outputs": [],
   "source": [
    "# base class\n",
    "class Vehicle:\n",
    "    \n",
    "    def __init__(self,make,model,year):\n",
    "        self.make = make\n",
    "        self.model = model\n",
    "        self.year = year\n",
    "        \n",
    "    def start(self):\n",
    "        try:\n",
    "            logging.info(f'Question6.{self.__class__.__name__}.start method has been called!')\n",
    "            return f'The vehicle is now started!'\n",
    "        except Exception as e:\n",
    "            logging.error(f'Error occured in the Question6.{self.__class__.__name__}.start method : {e}')\n",
    "    \n",
    "    def stop(self):\n",
    "        try:\n",
    "            logging.info(f'Question6.{self.__class__.__name__}.stop method has been called!')\n",
    "            return f'The vehicle is now stopped!'\n",
    "        except Exception as e:\n",
    "            logging.error(f'Error occured in the Question6.{self.__class__.__name__}.stop method : {e}')\n",
    "    \n",
    "# child class\n",
    "class Car(Vehicle):\n",
    "    \n",
    "    def __init__(self,make,model,year,fuel_type):\n",
    "        super().__init__(make,model,year)\n",
    "        self.fuel_type = fuel_type\n",
    "        \n",
    "    def capacity(self,capacity):\n",
    "        try:\n",
    "            logging.info(f'Question6.{self.__class__.__name__}.capacity method has been called!')\n",
    "            return f'The capacity of the Car is {capacity}'\n",
    "        except Exception as e:\n",
    "            logging.error(f'Error occured in the Question6.{self.__class__.__name__}.stop method : {e}')"
   ]
  },
  {
   "cell_type": "code",
   "execution_count": 25,
   "id": "c243617f",
   "metadata": {},
   "outputs": [],
   "source": [
    "vehicle1 = Vehicle('toyota','VXI',2022)"
   ]
  },
  {
   "cell_type": "code",
   "execution_count": 26,
   "id": "e916fd7b",
   "metadata": {},
   "outputs": [
    {
     "data": {
      "text/plain": [
       "'The vehicle is now started!'"
      ]
     },
     "execution_count": 26,
     "metadata": {},
     "output_type": "execute_result"
    }
   ],
   "source": [
    "vehicle1.start()"
   ]
  },
  {
   "cell_type": "code",
   "execution_count": 27,
   "id": "f939f481",
   "metadata": {},
   "outputs": [
    {
     "data": {
      "text/plain": [
       "'The vehicle is now stopped!'"
      ]
     },
     "execution_count": 27,
     "metadata": {},
     "output_type": "execute_result"
    }
   ],
   "source": [
    "vehicle1.stop()"
   ]
  },
  {
   "cell_type": "code",
   "execution_count": 28,
   "id": "c4fe898b",
   "metadata": {},
   "outputs": [],
   "source": [
    "car1 = Car('Maruti','ZXI',2021,'Petrol')"
   ]
  },
  {
   "cell_type": "code",
   "execution_count": 29,
   "id": "136c23ae",
   "metadata": {},
   "outputs": [
    {
     "data": {
      "text/plain": [
       "'The capacity of the Car is 4'"
      ]
     },
     "execution_count": 29,
     "metadata": {},
     "output_type": "execute_result"
    }
   ],
   "source": [
    "car1.capacity(4)"
   ]
  },
  {
   "cell_type": "markdown",
   "id": "57496fa1",
   "metadata": {},
   "source": [
    "### 7. Create a base class called \"Employee\" with attributes like \"name\" and \"salary.\" Derive two classes, \"Manager\" and \"Developer,\" from \"Employee.\" Add an additional attribute called \"department\" for the \"Manager\" class and \"programming_language\" for the \"Developer\" class."
   ]
  },
  {
   "cell_type": "code",
   "execution_count": 32,
   "id": "bbff83cb",
   "metadata": {},
   "outputs": [],
   "source": [
    "# Single inheritance :\n",
    "\n",
    "# base class\n",
    "class Employee:\n",
    "    \n",
    "    def __init__(self,name,salary):\n",
    "        self.name = name\n",
    "        self.salary = salary\n",
    "\n",
    "# child class of Employee class and sibling class of the Developer class\n",
    "class Manager(Employee):\n",
    "    \n",
    "    def __init__(self,name,salary,department):\n",
    "        super().__init__(name,salary)\n",
    "        self.department = department\n",
    "\n",
    "# child class of Employee class and sibling class of the Manager class\n",
    "class Developer(Employee):\n",
    "    \n",
    "    def __init__(self,name,salary,programming_language):\n",
    "        super().__init__(name,salary)\n",
    "        self.programming_language = programming_language"
   ]
  },
  {
   "cell_type": "code",
   "execution_count": 33,
   "id": "85e4d7cc",
   "metadata": {},
   "outputs": [
    {
     "data": {
      "text/plain": [
       "'Aryan'"
      ]
     },
     "execution_count": 33,
     "metadata": {},
     "output_type": "execute_result"
    }
   ],
   "source": [
    "emp1 = Employee('Aryan',24000)\n",
    "emp1.name"
   ]
  },
  {
   "cell_type": "code",
   "execution_count": 34,
   "id": "fff9ba0c",
   "metadata": {},
   "outputs": [],
   "source": [
    "manager1 = Manager('Krish',250000,'IT')"
   ]
  },
  {
   "cell_type": "code",
   "execution_count": 35,
   "id": "8d1b0965",
   "metadata": {},
   "outputs": [
    {
     "data": {
      "text/plain": [
       "250000"
      ]
     },
     "execution_count": 35,
     "metadata": {},
     "output_type": "execute_result"
    }
   ],
   "source": [
    "manager1.salary"
   ]
  },
  {
   "cell_type": "code",
   "execution_count": 36,
   "id": "6f6428a0",
   "metadata": {},
   "outputs": [],
   "source": [
    "dev1 = Developer('Sunny',250000,'Python')"
   ]
  },
  {
   "cell_type": "code",
   "execution_count": 37,
   "id": "3e139e1a",
   "metadata": {},
   "outputs": [
    {
     "data": {
      "text/plain": [
       "'Python'"
      ]
     },
     "execution_count": 37,
     "metadata": {},
     "output_type": "execute_result"
    }
   ],
   "source": [
    "dev1.programming_language"
   ]
  },
  {
   "cell_type": "markdown",
   "id": "18b2ac7c",
   "metadata": {},
   "source": [
    "### 8. Design a base class called \"Shape\" with attributes like \"colour\" and \"border_width.\" Create derived classes, \"Rectangle\" and \"Circle,\" that inherit from \"Shape\" and add specific attributes like \"length\" and \"width\" for the \"Rectangle\" class and \"radius\" for the \"Circle\" class."
   ]
  },
  {
   "cell_type": "code",
   "execution_count": 38,
   "id": "e865495d",
   "metadata": {},
   "outputs": [],
   "source": [
    "# Single Inheritance\n",
    "\n",
    "# base classs\n",
    "class Shape:\n",
    "    \n",
    "    def __init__(self,colour,border_width):\n",
    "        self.colour = colour\n",
    "        self.border_width = border_width\n",
    "\n",
    "# child class of Shape class and sibling class of the Circle class\n",
    "class Rectangle(Shape):\n",
    "    \n",
    "    def __init__(self,colour,border_width,length,width):\n",
    "        super().__init__(colour,border_width)\n",
    "        self.length = length\n",
    "        self.width = width\n",
    "\n",
    "# child class of Shape class and sibling class of the Rectangle class\n",
    "class Circle(Shape):\n",
    "    \n",
    "    def __init__(self,colour,border_width,radius):\n",
    "        super().__init__(colour,border_width)\n",
    "        self.radius = radius"
   ]
  },
  {
   "cell_type": "code",
   "execution_count": 39,
   "id": "b5f52253",
   "metadata": {},
   "outputs": [],
   "source": [
    "shape1 = Shape('red',2)"
   ]
  },
  {
   "cell_type": "code",
   "execution_count": 40,
   "id": "57f3fc09",
   "metadata": {},
   "outputs": [
    {
     "data": {
      "text/plain": [
       "2"
      ]
     },
     "execution_count": 40,
     "metadata": {},
     "output_type": "execute_result"
    }
   ],
   "source": [
    "shape1.border_width"
   ]
  },
  {
   "cell_type": "code",
   "execution_count": 41,
   "id": "9b12dd82",
   "metadata": {},
   "outputs": [],
   "source": [
    "rect1 = Rectangle('blue',4,3,2)"
   ]
  },
  {
   "cell_type": "code",
   "execution_count": 42,
   "id": "eba7e164",
   "metadata": {},
   "outputs": [
    {
     "data": {
      "text/plain": [
       "3"
      ]
     },
     "execution_count": 42,
     "metadata": {},
     "output_type": "execute_result"
    }
   ],
   "source": [
    "rect1.length"
   ]
  },
  {
   "cell_type": "code",
   "execution_count": 43,
   "id": "9181ebc0",
   "metadata": {},
   "outputs": [],
   "source": [
    "circle1 = Circle('cyan',3,5)"
   ]
  },
  {
   "cell_type": "code",
   "execution_count": 44,
   "id": "0c8de7bb",
   "metadata": {},
   "outputs": [
    {
     "data": {
      "text/plain": [
       "5"
      ]
     },
     "execution_count": 44,
     "metadata": {},
     "output_type": "execute_result"
    }
   ],
   "source": [
    "circle1.radius"
   ]
  },
  {
   "cell_type": "markdown",
   "id": "61590032",
   "metadata": {},
   "source": [
    "### 9. Create a base class called \"Device\" with attributes like \"brand\" and \"model.\" Derive two classes, \"Phone\" and \"Tablet,\" from \"Device.\" Add specific attributes like \"screen_size\" for the \"Phone\" class and \"battery_capacity\" for the \"Tablet\" class."
   ]
  },
  {
   "cell_type": "code",
   "execution_count": 45,
   "id": "409cee41",
   "metadata": {},
   "outputs": [],
   "source": [
    "# base class\n",
    "class Device:\n",
    "    \n",
    "    def __init__(self,brand,model):\n",
    "        self.brand = brand\n",
    "        self.model = model\n",
    " \n",
    "# child class of Device class and sibling class of the Tablet class\n",
    "class Phone(Device):\n",
    "    \n",
    "    def __init__(self,brand,model,screen_size):\n",
    "        super().__init__(brand,model)\n",
    "        self.screen_size = screen_size\n",
    "        \n",
    "# child class of Device class and sibling class of the Phone class\n",
    "class Tablet(Device):\n",
    "    \n",
    "    def __init__(self,brand,model,battery_capacity):\n",
    "        super().__init__(brand,model)\n",
    "        self.battery_capacity = battery_capacity"
   ]
  },
  {
   "cell_type": "code",
   "execution_count": 46,
   "id": "24fdc489",
   "metadata": {},
   "outputs": [],
   "source": [
    "device1 = Device('Sony','Ipod')"
   ]
  },
  {
   "cell_type": "code",
   "execution_count": 47,
   "id": "a390d499",
   "metadata": {},
   "outputs": [
    {
     "data": {
      "text/plain": [
       "'Ipod'"
      ]
     },
     "execution_count": 47,
     "metadata": {},
     "output_type": "execute_result"
    }
   ],
   "source": [
    "device1.model"
   ]
  },
  {
   "cell_type": "code",
   "execution_count": 48,
   "id": "f15aede2",
   "metadata": {},
   "outputs": [
    {
     "data": {
      "text/plain": [
       "'6.5 inch'"
      ]
     },
     "execution_count": 48,
     "metadata": {},
     "output_type": "execute_result"
    }
   ],
   "source": [
    "phone1 = Phone('Apple','Iphone 8','6.5 inch')\n",
    "phone1.screen_size"
   ]
  },
  {
   "cell_type": "code",
   "execution_count": 49,
   "id": "e3e87a8b",
   "metadata": {},
   "outputs": [],
   "source": [
    "tab1 = Tablet('Samsung','Tab 8','5500 mAh')"
   ]
  },
  {
   "cell_type": "code",
   "execution_count": 50,
   "id": "7d9696a9",
   "metadata": {},
   "outputs": [
    {
     "data": {
      "text/plain": [
       "'5500 mAh'"
      ]
     },
     "execution_count": 50,
     "metadata": {},
     "output_type": "execute_result"
    }
   ],
   "source": [
    "tab1.battery_capacity"
   ]
  },
  {
   "cell_type": "markdown",
   "id": "4e726cbf",
   "metadata": {},
   "source": [
    "### 10. Create a base class called \"BankAccount\" with attributes like \"account_number\" and \"balance.\" Derive two classes, \"SavingsAccount\" and \"CheckingAccount,\" from \"BankAccount.\" Add specific methods like \"calculate_interest\" for the \"SavingsAccount\" class and \"deduct_fees\" for the \"CheckingAccount\" class."
   ]
  },
  {
   "cell_type": "code",
   "execution_count": 51,
   "id": "5bd0de6d",
   "metadata": {},
   "outputs": [],
   "source": [
    "# base class\n",
    "class BankAccount:\n",
    "    \n",
    "    def __init__(self,account_number,balance):\n",
    "        self.account_number = account_number\n",
    "        self.balance = balance\n",
    "    \n",
    "# child class of BankAccount class and sibling class of the CheckingAccount class\n",
    "class SavingsAccount(BankAccount):\n",
    "    \n",
    "    def calculate_interest(self):\n",
    "        try:\n",
    "            logging.info('Question10.SavingsAccount.calculate_interest method has been called!')\n",
    "            return f'Interest for the bank account is 5%'\n",
    "        except Exception as e:\n",
    "            logging.error(f'Error occured in the Question10.SavingsAccount.calculate_interest method : {e}')\n",
    "\n",
    "# child class of BankAccount class and sibling class of the SavingsAccount class\n",
    "class CheckingAccount(BankAccount):\n",
    "    \n",
    "    def deduct_fees(self):\n",
    "        try:\n",
    "            logging.info('Question10.CheckingAccount.deduct_fees method has been called!')\n",
    "            return f'The deducted fee is the 500 Rupee'\n",
    "        except Exception as e:\n",
    "            logging.error(f'Error occured in the Question10.CheckingAccount.deduct_fees method : {e}')"
   ]
  },
  {
   "cell_type": "code",
   "execution_count": 52,
   "id": "bfc4ca32",
   "metadata": {},
   "outputs": [
    {
     "data": {
      "text/plain": [
       "65000"
      ]
     },
     "execution_count": 52,
     "metadata": {},
     "output_type": "execute_result"
    }
   ],
   "source": [
    "bank_acc = BankAccount(3432847,65000)\n",
    "bank_acc.balance"
   ]
  },
  {
   "cell_type": "code",
   "execution_count": 54,
   "id": "2ad14c3f",
   "metadata": {},
   "outputs": [
    {
     "data": {
      "text/plain": [
       "'Interest for the bank account is 5%'"
      ]
     },
     "execution_count": 54,
     "metadata": {},
     "output_type": "execute_result"
    }
   ],
   "source": [
    "save_acc = SavingsAccount(435435,89000)\n",
    "save_acc.calculate_interest()"
   ]
  },
  {
   "cell_type": "code",
   "execution_count": 55,
   "id": "51b153fb",
   "metadata": {},
   "outputs": [
    {
     "data": {
      "text/plain": [
       "'The deducted fee is the 500 Rupee'"
      ]
     },
     "execution_count": 55,
     "metadata": {},
     "output_type": "execute_result"
    }
   ],
   "source": [
    "ch_acc = CheckingAccount(43545,75985)\n",
    "ch_acc.deduct_fees()"
   ]
  }
 ],
 "metadata": {
  "kernelspec": {
   "display_name": "Python 3",
   "language": "python",
   "name": "python3"
  },
  "language_info": {
   "codemirror_mode": {
    "name": "ipython",
    "version": 3
   },
   "file_extension": ".py",
   "mimetype": "text/x-python",
   "name": "python",
   "nbconvert_exporter": "python",
   "pygments_lexer": "ipython3",
   "version": "3.8.8"
  },
  "varInspector": {
   "cols": {
    "lenName": 16,
    "lenType": 16,
    "lenVar": 40
   },
   "kernels_config": {
    "python": {
     "delete_cmd_postfix": "",
     "delete_cmd_prefix": "del ",
     "library": "var_list.py",
     "varRefreshCmd": "print(var_dic_list())"
    },
    "r": {
     "delete_cmd_postfix": ") ",
     "delete_cmd_prefix": "rm(",
     "library": "var_list.r",
     "varRefreshCmd": "cat(var_dic_list()) "
    }
   },
   "types_to_exclude": [
    "module",
    "function",
    "builtin_function_or_method",
    "instance",
    "_Feature"
   ],
   "window_display": false
  }
 },
 "nbformat": 4,
 "nbformat_minor": 5
}
