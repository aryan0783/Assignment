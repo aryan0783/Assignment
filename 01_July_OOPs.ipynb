{
 "cells": [
  {
   "cell_type": "markdown",
   "id": "b580c720",
   "metadata": {},
   "source": [
    "### 1. What is the primary goal of Object-Oriented Programming (OOP)?"
   ]
  },
  {
   "cell_type": "markdown",
   "id": "f486f0eb",
   "metadata": {},
   "source": [
    "The primary goal of OOPs is :\n",
    "\n",
    "- It is used to collectively place all the functionality of the class instance.\n",
    "\n",
    "- Eg : List , List class have all the list functionality of the list instance like : append, extend, pop, remove etc.."
   ]
  },
  {
   "cell_type": "markdown",
   "id": "404c3a04",
   "metadata": {},
   "source": [
    "### 2. What is an object in Python? "
   ]
  },
  {
   "cell_type": "markdown",
   "id": "8f0291af",
   "metadata": {},
   "source": [
    "- Class is just like blueprint\n",
    "\n",
    "- Object of class is nothing but copy of the blueprint.\n",
    "\n",
    "Eg :- \n",
    "\n",
    "class Person:\n",
    "\n",
    "    def __init__(self,name,age):\n",
    "        self.name = name\n",
    "        self.age = age\n",
    "        \n",
    "person1 = Person('Ayush','Jha')    # this person1 is the object of class"
   ]
  },
  {
   "cell_type": "markdown",
   "id": "6a7c1b42",
   "metadata": {},
   "source": [
    "### 3. What is a class in Python?"
   ]
  },
  {
   "cell_type": "markdown",
   "id": "287abf1b",
   "metadata": {},
   "source": [
    "- Class in python is just like blueprint.\n",
    "\n",
    "- It is a blueprint or a structure where we define all the functionality of the instance of the class or blueprint.\n",
    "\n",
    "- we use class keyword to define the class in python.\n",
    "\n",
    "Eg :\n",
    "\n",
    "class Person:\n",
    "\n",
    "    pass  # pass keyword is used when we want to leave the block as it is  \n",
    "class Car:\n",
    "\n",
    "    pass"
   ]
  },
  {
   "cell_type": "markdown",
   "id": "6b9a0cff",
   "metadata": {},
   "source": [
    "### 4. What are attributes and methods in a class?"
   ]
  },
  {
   "cell_type": "markdown",
   "id": "1f5ab380",
   "metadata": {},
   "source": [
    "Attributes :\n",
    "\n",
    "- it is of two types : class attributes and object attributes\n",
    "- class attributes is the common feature or characteristics associated with the all objects\n",
    "- object attributes refer to the attributes refer to the objects.\n",
    "\n",
    "eg :\n",
    "\n",
    "// Class Attributes\n",
    "class Person:\n",
    "\n",
    "    name = 'Aryan'  # class attribute\n",
    "    \n",
    "// Object Attributes\n",
    "class Person:\n",
    "\n",
    "    def __init__(self,name,age):\n",
    "        self.name = name\n",
    "        self.age = age\n",
    "\n",
    "Methods :\n",
    "\n",
    "- it is of two types : class methods and object methods\n",
    "- class methods is used to access the class items and is called by the help of class name , we use classmethod decorator to define the class method\n",
    "- object methods is used to access the object attributes and is called by the help of object.\n",
    "\n",
    "eg :\n",
    "\n",
    "// Class Method\n",
    "class Person:\n",
    "\n",
    "    name = 'Aryan'\n",
    "    \n",
    "    @classmethod  // class method decorator\n",
    "    def change_name(cls,name):\n",
    "        cls.name = name\n",
    "        \n",
    "person1 = Person()\n",
    "Perons.change_name('Krish')\n",
    "\n",
    "// Object method\n",
    "class Person:\n",
    "\n",
    "    def __init__(self,name):\n",
    "    self.name = name\n",
    "    \n",
    "    def intro(self):\n",
    "        return f'the name of the Person is {self.name}'"
   ]
  },
  {
   "cell_type": "markdown",
   "id": "cd5066da",
   "metadata": {},
   "source": [
    "### 5. What is the difference between class variables and instance variables in Python?"
   ]
  },
  {
   "cell_type": "markdown",
   "id": "d0623b17",
   "metadata": {},
   "source": [
    "//class variable :\n",
    "\n",
    "- class variable store the value which is common for all the object\n",
    "- class variable are accessed using the class name.\n",
    "- changing of the class variable will change the value for all the instance\n",
    "\n",
    "eg :\n",
    "\n",
    "class Person:\n",
    "\n",
    "    name = 'Aryan'  # name is the class variable\n",
    "\n",
    "//instance variable :\n",
    " \n",
    " - object variable store the value which is unique for different objects\n",
    " - object variable are accessed using the object name\n",
    " - changing the value of variable can change the specific instance value.\n",
    "\n",
    "eg :\n",
    "\n",
    "class Person:\n",
    "\n",
    "    def __init__(self,name):\n",
    "        self.name = name    # name is the object variable"
   ]
  },
  {
   "cell_type": "markdown",
   "id": "d9d92d88",
   "metadata": {},
   "source": [
    "### 6. What is the purpose of the self parameter in Python class methods?"
   ]
  },
  {
   "cell_type": "markdown",
   "id": "075ec3e6",
   "metadata": {},
   "source": [
    "Purpose of the self :\n",
    "\n",
    "- self is used to represent the object of the class\n",
    "- it just act as a reference of the class object\n",
    "\n",
    "eg :\n",
    "\n",
    "class Person:\n",
    "\n",
    "    def __init__(self,name):\n",
    "        self.name = name\n",
    "        \n",
    "person1 = Person('Aryan')  # here self.name represents person1.name\n",
    "person2 = Person('Kartik') # here self.name represent person2.name"
   ]
  },
  {
   "cell_type": "markdown",
   "id": "9eca84bc",
   "metadata": {},
   "source": [
    "### 7. For a library management system, you have to design the \"Book\" class with OOP principles in mind. The “Book” class will have following attributes:\n",
    "```\n",
    "a. title: Represents the title of the book.\n",
    "b. author: Represents the author(s) of the book.\n",
    "c. isbn: Represents the ISBN (International Standard Book Number) of the book.\n",
    "d. publication_year: Represents the year of publication of the book.\n",
    "e. available_copies: Represents the number of copies available for checkout.\n",
    "The class will also include the following methods:\n",
    "a. check_out(self): Decrements the available copies by one if there are copies\n",
    "available for checkout.\n",
    "b. return_book(self): Increments the available copies by one when a book is\n",
    "returned.\n",
    "c. display_book_info(self): Displays the information about the book, including its\n",
    "attributes and the number of available copies.\n",
    "```"
   ]
  },
  {
   "cell_type": "code",
   "execution_count": 44,
   "id": "a6cfd207",
   "metadata": {},
   "outputs": [],
   "source": [
    "import logging\n",
    "\n",
    "logging.basicConfig(filename = '01_july_OOPs.log',level=logging.INFO,format = '%(asctime)s %(levelname)s %(name)s %(message)s')"
   ]
  },
  {
   "cell_type": "code",
   "execution_count": 45,
   "id": "9078d540",
   "metadata": {},
   "outputs": [],
   "source": [
    "class Book:\n",
    "    \n",
    "    def __init__(self,title,author,isbn,publication_year,available_copies):\n",
    "        self.title = title   # instance attributes\n",
    "        self.author = author\n",
    "        self.isbn = isbn\n",
    "        self.publication_year = publication_year\n",
    "        self.available_copies = available_copies\n",
    "         \n",
    "    def check_out(self):  # instance method\n",
    "        try:\n",
    "            logging.info('Book.check_out method has been called!')\n",
    "            if self.available_copies>0:\n",
    "                self.available_copies-=1\n",
    "                logging.info('Book.check_out method has been executed successfully!')\n",
    "                return f\"{self.title} book has now {self.available_copies} copies!\"\n",
    "            else:\n",
    "                logging.info('Book.check_out method has been executed successfully!')\n",
    "                return 'No Copies are available!'\n",
    "        except Exception as e:\n",
    "            logging.error(f'Error occured in the Book.check_out method : {e}')\n",
    "        \n",
    "    def return_book(self):\n",
    "        try:\n",
    "            logging.info(\"Book.return_book method has been called!\")\n",
    "            self.available_copies += 1\n",
    "            logging.info('Book.return_book method executed successfully!')\n",
    "            return f\"{self.title} book has now {self.available_copies} copies!\"\n",
    "        except Exception as e:\n",
    "            logging.error(f'Error occured in the Book.return_book method : {e}')\n",
    "    \n",
    "    def display_book_info(self):\n",
    "        try:\n",
    "            logging.info(\"Book.display_book_info method has been called!\")\n",
    "            print('*'*80)\n",
    "            print()\n",
    "            print(f'Title of the Book : {self.title}')\n",
    "            print(f'Author of the Book : {self.author}')\n",
    "            print(f'ISBN no. of the Book : {self.isbn}')\n",
    "            print(f'Publication Year of the Book : {self.publication_year}')\n",
    "            print(f'Available Copies of the Book : {self.available_copies}')\n",
    "            print()\n",
    "            print('*'*80)\n",
    "            logging.info('Book.display_book_info method executed successfully!')\n",
    "        except Exception as e:\n",
    "            logging.error(f'Error occured in the Book.display_book_info method : {e}')"
   ]
  },
  {
   "cell_type": "code",
   "execution_count": 46,
   "id": "247b3ffb",
   "metadata": {},
   "outputs": [],
   "source": [
    "book1 = Book('Jungle Book','RK Rowling',12345,2001,120)"
   ]
  },
  {
   "cell_type": "code",
   "execution_count": 47,
   "id": "3ddec64f",
   "metadata": {},
   "outputs": [
    {
     "data": {
      "text/plain": [
       "'Jungle Book book has now 119 copies!'"
      ]
     },
     "execution_count": 47,
     "metadata": {},
     "output_type": "execute_result"
    }
   ],
   "source": [
    "book1.check_out()"
   ]
  },
  {
   "cell_type": "code",
   "execution_count": 48,
   "id": "2350eff8",
   "metadata": {},
   "outputs": [
    {
     "data": {
      "text/plain": [
       "'Jungle Book book has now 120 copies!'"
      ]
     },
     "execution_count": 48,
     "metadata": {},
     "output_type": "execute_result"
    }
   ],
   "source": [
    "book1.return_book()"
   ]
  },
  {
   "cell_type": "code",
   "execution_count": 49,
   "id": "c8211ada",
   "metadata": {},
   "outputs": [
    {
     "data": {
      "text/plain": [
       "'Jungle Book book has now 121 copies!'"
      ]
     },
     "execution_count": 49,
     "metadata": {},
     "output_type": "execute_result"
    }
   ],
   "source": [
    "book1.return_book()"
   ]
  },
  {
   "cell_type": "code",
   "execution_count": 50,
   "id": "c3c35aab",
   "metadata": {},
   "outputs": [
    {
     "name": "stdout",
     "output_type": "stream",
     "text": [
      "********************************************************************************\n",
      "\n",
      "Title of the Book : Jungle Book\n",
      "Author of the Book : RK Rowling\n",
      "ISBN no. of the Book : 12345\n",
      "Publication Year of the Book : 2001\n",
      "Available Copies of the Book : 121\n",
      "\n",
      "********************************************************************************\n"
     ]
    }
   ],
   "source": [
    "book1.display_book_info()"
   ]
  },
  {
   "cell_type": "markdown",
   "id": "057446f2",
   "metadata": {},
   "source": [
    "### 8. For a ticket booking system, you have to design the \"Ticket\" class with OOP principles in mind. The “Ticket” class should have the following attributes:\n",
    "```\n",
    "a. ticket_id: Represents the unique identifier for the ticket.\n",
    "b. event_name: Represents the name of the event.\n",
    "c. event_date: Represents the date of the event.\n",
    "d. venue: Represents the venue of the event.\n",
    "e. seat_number: Represents the seat number associated with the ticket.\n",
    "f. price: Represents the price of the ticket.\n",
    "g. is_reserved: Represents the reservation status of the ticket.\n",
    "The class also includes the following methods:\n",
    "a. reserve_ticket(self): Marks the ticket as reserved if it is not already reserved.\n",
    "b. cancel_reservation(self): Cancels the reservation of the ticket if it is already\n",
    "reserved.\n",
    "c. display_ticket_info(self): Displays the information about the ticket, including its\n",
    "attributes and reservation status.\n",
    "```"
   ]
  },
  {
   "cell_type": "code",
   "execution_count": 51,
   "id": "126a9c64",
   "metadata": {},
   "outputs": [],
   "source": [
    "class Ticket:\n",
    "    \n",
    "    def __init__(self,ticket_id,event_name,event_date,venue,seat_number,price,is_reserved):\n",
    "        self.ticket_id = ticket_id  # object attributes\n",
    "        self.event_name = event_name\n",
    "        self.event_date = event_date\n",
    "        self.venue = venue\n",
    "        self.seat_number = seat_number\n",
    "        self.price = price\n",
    "        self.is_reserved = is_reserved\n",
    "        \n",
    "    def reserve_ticket(self):  # object method\n",
    "        try:\n",
    "            logging.info('Ticket.reserve_ticket method has been called!')\n",
    "            if self.is_reserved == 'Not Reserved':\n",
    "                self.is_reserved = 'Reserved'\n",
    "                logging.info('Ticket.reserve_ticket method executed successfully!')\n",
    "                return 'Hurray! Ticket reserved!'\n",
    "            elif self.is_reserved == 'Reserved':\n",
    "                logging.info('Ticket.reserve_ticket method executed successfully!')\n",
    "                return 'Already Ticket reserved!'\n",
    "        except Exception as e:\n",
    "            logging.error(f'Error occured in the Ticket.reserve_ticket method : {e}')\n",
    "        \n",
    "    def cancel_reservation(self):  # object method\n",
    "        try:\n",
    "            logging.info('Ticket.cancel_reservation method has been called!')\n",
    "            if self.is_reserved == 'Reserved':\n",
    "                self.is_reserved = 'Not Reserved'\n",
    "                logging.info('Ticket.cancel_reservation method has been executed successfully!')\n",
    "                return 'Ticket has been Cancelled!!'\n",
    "        except Exception as e:\n",
    "            logging.error(f'Error occured in the Ticket.cancel_reservation method : {e}')\n",
    "        \n",
    "    def display_ticket_info(self):  # object method\n",
    "        try:\n",
    "            logging.info('Ticket.display_ticket_info method has been called!')\n",
    "            print('*'*80)\n",
    "            print()\n",
    "            print(f'Ticket Id : {self.ticket_id}')\n",
    "            print(f'Event name : {self.event_name}')\n",
    "            print(f'Event Date : {self.event_date}')\n",
    "            print(f'Event Venue : {self.venue}')\n",
    "            print(f'Event Seat No. : {self.seat_number}')\n",
    "            print(f'Ticket Price : {self.price}')\n",
    "            print(f'Ticket Status : {self.is_reserved}')\n",
    "            print()\n",
    "            print('*'*80)\n",
    "            logging.info('Ticker.display_ticket_info method has been executed successfully!')\n",
    "        except Exception as e:\n",
    "            logging.error(f'Error occured in the Ticker.display_ticket_info method : {e}')"
   ]
  },
  {
   "cell_type": "code",
   "execution_count": 52,
   "id": "f9c58e88",
   "metadata": {},
   "outputs": [],
   "source": [
    "ticket1 = Ticket(1234,'Movie','11-July-2023','Ranchi Club','A5',455,'Not Reserved')"
   ]
  },
  {
   "cell_type": "code",
   "execution_count": 53,
   "id": "2a9f6ba2",
   "metadata": {},
   "outputs": [
    {
     "data": {
      "text/plain": [
       "'Hurray! Ticket reserved!'"
      ]
     },
     "execution_count": 53,
     "metadata": {},
     "output_type": "execute_result"
    }
   ],
   "source": [
    "ticket1.reserve_ticket()"
   ]
  },
  {
   "cell_type": "code",
   "execution_count": 54,
   "id": "5d2a069c",
   "metadata": {},
   "outputs": [
    {
     "data": {
      "text/plain": [
       "'Reserved'"
      ]
     },
     "execution_count": 54,
     "metadata": {},
     "output_type": "execute_result"
    }
   ],
   "source": [
    "ticket1.is_reserved"
   ]
  },
  {
   "cell_type": "code",
   "execution_count": 55,
   "id": "0d47d530",
   "metadata": {},
   "outputs": [
    {
     "data": {
      "text/plain": [
       "'Ticket has been Cancelled!!'"
      ]
     },
     "execution_count": 55,
     "metadata": {},
     "output_type": "execute_result"
    }
   ],
   "source": [
    "ticket1.cancel_reservation()"
   ]
  },
  {
   "cell_type": "code",
   "execution_count": 56,
   "id": "feca7c4d",
   "metadata": {},
   "outputs": [
    {
     "name": "stdout",
     "output_type": "stream",
     "text": [
      "********************************************************************************\n",
      "\n",
      "Ticket Id : 1234\n",
      "Event name : Movie\n",
      "Event Date : 11-July-2023\n",
      "Event Venue : Ranchi Club\n",
      "Event Seat No. : A5\n",
      "Ticket Price : 455\n",
      "Ticket Status : Not Reserved\n",
      "\n",
      "********************************************************************************\n"
     ]
    }
   ],
   "source": [
    "ticket1.display_ticket_info()"
   ]
  },
  {
   "cell_type": "markdown",
   "id": "af5f66d7",
   "metadata": {},
   "source": [
    "### 9. You are creating a shopping cart for an e-commerce website. Using OOP to model the \"ShoppingCart\" functionality the class should contain following attributes and methods:\n",
    "\n",
    "```\n",
    "a. items: Represents the list of items in the shopping cart.\n",
    "The class also includes the following methods:\n",
    "\n",
    "a. add_item(self, item): Adds an item to the shopping cart by appending it to the\n",
    "list of items.\n",
    "b. remove_item(self, item): Removes an item from the shopping cart if it exists in\n",
    "the list.\n",
    "c. view_cart(self): Displays the items currently present in the shopping cart.\n",
    "d. clear_cart(self): Clears all items from the shopping cart by reassigning an\n",
    "empty list to the items attribute.\n",
    "```"
   ]
  },
  {
   "cell_type": "code",
   "execution_count": 57,
   "id": "fa5eeeaa",
   "metadata": {},
   "outputs": [],
   "source": [
    "class ShoppingCart:\n",
    "    \n",
    "    def __init__(self,*items):\n",
    "        self.items = list(items)\n",
    "        \n",
    "    def add_item(self,item):\n",
    "        try:\n",
    "            logging.info('ShoppingCart.add_item method has been called!')\n",
    "            self.items.append(item)\n",
    "            logging.info('ShoppingCart.add_item method has been executed successfully!')\n",
    "            return f\"{item} added in the cart!\"\n",
    "        except Exception as e:\n",
    "            logging.error(f'Error occured in the ShoppingCart.add_item method : {e}')\n",
    "    \n",
    "    def remove_item(self,item):\n",
    "        try:\n",
    "            logging.info('ShoppingCart.remove_item method has been called!')\n",
    "            if item in self.items:\n",
    "                self.items.remove(item)\n",
    "                logging.info('ShoppingCart.remove_item method has been executed successfully!')\n",
    "            else:\n",
    "                logging.info('ShoppingCart.remove_item method has been executed successfully!')\n",
    "                return f\"{item} doesn't exists!\"\n",
    "        except Exception as e:\n",
    "            logging.error(f'Error occured in the ShoppingCart.remove_item method : {e}')\n",
    "        \n",
    "    def view_cart(self):\n",
    "        try:\n",
    "            logging.info('ShoppingCart.view_cart method has been called!')\n",
    "            for i in self.items:\n",
    "                print(i)\n",
    "            logging.info('ShoppingCart.view_cart method has been executed!')\n",
    "        except Exception as e:\n",
    "            logging.error(f'Error occured in the ShoppingCart.view_cart method : {e}')\n",
    "            \n",
    "    def clear_cart(self):\n",
    "        try:\n",
    "            logging.info('ShoppingCart.clear_cart method has been called!')\n",
    "            self.items.clear()\n",
    "            logging.info('ShoppingCart.clear_cart method has been executed successfully!')\n",
    "        except Exception as e:\n",
    "            logging.error(f'Error occured in ShoppingCart.clear_cart method : {e}')"
   ]
  },
  {
   "cell_type": "code",
   "execution_count": 58,
   "id": "434a0ec7",
   "metadata": {},
   "outputs": [],
   "source": [
    "cart1 = ShoppingCart('shoe','soap','colors')"
   ]
  },
  {
   "cell_type": "code",
   "execution_count": 59,
   "id": "56e4680e",
   "metadata": {},
   "outputs": [
    {
     "data": {
      "text/plain": [
       "'dish washer added in the cart!'"
      ]
     },
     "execution_count": 59,
     "metadata": {},
     "output_type": "execute_result"
    }
   ],
   "source": [
    "cart1.add_item('dish washer')"
   ]
  },
  {
   "cell_type": "code",
   "execution_count": 60,
   "id": "3ce1ee69",
   "metadata": {},
   "outputs": [
    {
     "name": "stdout",
     "output_type": "stream",
     "text": [
      "shoe\n",
      "soap\n",
      "colors\n",
      "dish washer\n"
     ]
    }
   ],
   "source": [
    "cart1.view_cart()"
   ]
  },
  {
   "cell_type": "code",
   "execution_count": 61,
   "id": "adbc840e",
   "metadata": {},
   "outputs": [],
   "source": [
    "cart1.remove_item('colors')"
   ]
  },
  {
   "cell_type": "code",
   "execution_count": 62,
   "id": "44279478",
   "metadata": {},
   "outputs": [
    {
     "name": "stdout",
     "output_type": "stream",
     "text": [
      "shoe\n",
      "soap\n",
      "dish washer\n"
     ]
    }
   ],
   "source": [
    "cart1.view_cart()"
   ]
  },
  {
   "cell_type": "code",
   "execution_count": 63,
   "id": "bf0932fc",
   "metadata": {},
   "outputs": [],
   "source": [
    "cart1.clear_cart()"
   ]
  },
  {
   "cell_type": "code",
   "execution_count": 64,
   "id": "e982ad7f",
   "metadata": {},
   "outputs": [],
   "source": [
    "cart1.view_cart()"
   ]
  },
  {
   "cell_type": "markdown",
   "id": "414dd99b",
   "metadata": {},
   "source": [
    "### 10. Imagine a school management system. You have to design the \"Student\" class using OOP concepts.The “Student” class has the following attributes:\n",
    "\n",
    "```\n",
    "a. name: Represents the name of the student.\n",
    "b. age: Represents the age of the student.\n",
    "c. grade: Represents the grade or class of the student.\n",
    "d. student_id: Represents the unique identifier for the student.\n",
    "e. attendance: Represents the attendance record of the student.\n",
    "The class should also include the following methods:\n",
    "a. update_attendance(self, date, status): Updates the attendance record of the\n",
    "student for a given date with the provided status (e.g., present or absent).\n",
    "b. get_attendance(self): Returns the attendance record of the student.\n",
    "c. get_average_attendance(self): Calculates and returns the average\n",
    "attendance percentage of the student based on their attendance record.\n",
    "```"
   ]
  },
  {
   "cell_type": "code",
   "execution_count": 65,
   "id": "e8e99e96",
   "metadata": {},
   "outputs": [],
   "source": [
    "class Student:\n",
    "    \n",
    "    no_of_days = 120  # no. of class conducted till now\n",
    "    \n",
    "    def __init__(self,name,age,grade,student_id,attendance):\n",
    "        self.name = name\n",
    "        self.age = age\n",
    "        self.grade = grade\n",
    "        self.student_id = student_id\n",
    "        self.__attendance = attendance\n",
    "        \n",
    "    def update_attendance(self,date,status):\n",
    "        try:\n",
    "            logging.info('Student.update_attendance method has been called!')\n",
    "            if status.lower() ==  'present':\n",
    "                self._Student__attendance+=1\n",
    "            elif status.lower() == 'absent':\n",
    "                self._Student__attendance-=1\n",
    "            logging.info('Student.update_attendance method has been executed successfully!')\n",
    "            return f'{self.name} is {status} on {date}'\n",
    "        except Exception as e:\n",
    "            logging.error(f'Error occured in the Student.update_attendance method : {e}')\n",
    "    \n",
    "    def get_attendance(self):\n",
    "        try:\n",
    "            logging.info('Student.get_attendance method has been called!')\n",
    "            return f'{self.name} attendance record is {self._Student__attendance}'\n",
    "        except Exception as e:\n",
    "            logging.error(f'Error occured in the Student.get_attendance method : {e}')\n",
    "        \n",
    "    \n",
    "    def get_average_attendance(self):\n",
    "        try:\n",
    "            logging.info('Student.average_attendance method has been called!')\n",
    "            avg = (self._Student__attendance/Student.no_of_days) * 100\n",
    "            logging.info('Student.average_attendance method has been executed successfully!')\n",
    "            return f'The average attendance % of {self.name} is {avg}'\n",
    "        except Exception as e:\n",
    "            logging.error(f'Error occured in the Student.average_attendance method : {e}')"
   ]
  },
  {
   "cell_type": "code",
   "execution_count": 66,
   "id": "7426c0ad",
   "metadata": {},
   "outputs": [],
   "source": [
    "student1 = Student('Aryan',23,9,748,90)"
   ]
  },
  {
   "cell_type": "code",
   "execution_count": 67,
   "id": "56e1c0b1",
   "metadata": {},
   "outputs": [
    {
     "data": {
      "text/plain": [
       "'Aryan is absent on 8th-June'"
      ]
     },
     "execution_count": 67,
     "metadata": {},
     "output_type": "execute_result"
    }
   ],
   "source": [
    "student1.update_attendance('8th-June','absent')"
   ]
  },
  {
   "cell_type": "code",
   "execution_count": 68,
   "id": "94ca8b03",
   "metadata": {},
   "outputs": [
    {
     "data": {
      "text/plain": [
       "'Aryan attendance record is 89'"
      ]
     },
     "execution_count": 68,
     "metadata": {},
     "output_type": "execute_result"
    }
   ],
   "source": [
    "student1.get_attendance()"
   ]
  },
  {
   "cell_type": "code",
   "execution_count": 69,
   "id": "d2483517",
   "metadata": {},
   "outputs": [
    {
     "data": {
      "text/plain": [
       "'The average attendance % of Aryan is 74.16666666666667'"
      ]
     },
     "execution_count": 69,
     "metadata": {},
     "output_type": "execute_result"
    }
   ],
   "source": [
    "student1.get_average_attendance()"
   ]
  }
 ],
 "metadata": {
  "kernelspec": {
   "display_name": "Python 3",
   "language": "python",
   "name": "python3"
  },
  "language_info": {
   "codemirror_mode": {
    "name": "ipython",
    "version": 3
   },
   "file_extension": ".py",
   "mimetype": "text/x-python",
   "name": "python",
   "nbconvert_exporter": "python",
   "pygments_lexer": "ipython3",
   "version": "3.8.8"
  },
  "varInspector": {
   "cols": {
    "lenName": 16,
    "lenType": 16,
    "lenVar": 40
   },
   "kernels_config": {
    "python": {
     "delete_cmd_postfix": "",
     "delete_cmd_prefix": "del ",
     "library": "var_list.py",
     "varRefreshCmd": "print(var_dic_list())"
    },
    "r": {
     "delete_cmd_postfix": ") ",
     "delete_cmd_prefix": "rm(",
     "library": "var_list.r",
     "varRefreshCmd": "cat(var_dic_list()) "
    }
   },
   "types_to_exclude": [
    "module",
    "function",
    "builtin_function_or_method",
    "instance",
    "_Feature"
   ],
   "window_display": false
  }
 },
 "nbformat": 4,
 "nbformat_minor": 5
}
