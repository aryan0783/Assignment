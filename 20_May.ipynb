{
 "cells": [
  {
   "cell_type": "markdown",
   "id": "5a9ed134",
   "metadata": {},
   "source": [
    "### Q.1. What are keywords in python? Using the keyword library, print all the python keywords."
   ]
  },
  {
   "cell_type": "markdown",
   "id": "62863563",
   "metadata": {},
   "source": [
    "### Keywords :\n",
    "\n",
    "- keywords are some predefined words that has some special meaning in python language.\n",
    "<br>\n",
    "\n",
    "- <b>Eg</b> : if, assert etc"
   ]
  },
  {
   "cell_type": "code",
   "execution_count": 3,
   "id": "453e39e5",
   "metadata": {},
   "outputs": [
    {
     "name": "stdout",
     "output_type": "stream",
     "text": [
      "['False', 'None', 'True', 'and', 'as', 'assert', 'async', 'await', 'break', 'class', 'continue', 'def', 'del', 'elif', 'else', 'except', 'finally', 'for', 'from', 'global', 'if', 'import', 'in', 'is', 'lambda', 'nonlocal', 'not', 'or', 'pass', 'raise', 'return', 'try', 'while', 'with', 'yield']\n"
     ]
    }
   ],
   "source": [
    "# Using keyword module to print all the python keywords :\n",
    "\n",
    "import keyword\n",
    "\n",
    "print(keyword.kwlist)"
   ]
  },
  {
   "cell_type": "markdown",
   "id": "063f6172",
   "metadata": {},
   "source": [
    "### Q.2. What are the rules to create variables in python?"
   ]
  },
  {
   "cell_type": "markdown",
   "id": "6fabfcd0",
   "metadata": {},
   "source": [
    "### Rules :\n",
    "\n",
    "- variable name should always start with either an alphabet or underscore\n",
    "- no special symbols are used in the variable name\n",
    "- snake case or camlecase naming convention is used while defining a varaible"
   ]
  },
  {
   "cell_type": "code",
   "execution_count": 4,
   "id": "84d66472",
   "metadata": {},
   "outputs": [],
   "source": [
    "# eg :\n",
    "\n",
    "_a = 'aryan'"
   ]
  },
  {
   "cell_type": "code",
   "execution_count": 5,
   "id": "4f83e837",
   "metadata": {},
   "outputs": [],
   "source": [
    "# eg : \n",
    "\n",
    "b = 34"
   ]
  },
  {
   "cell_type": "markdown",
   "id": "2d60363f",
   "metadata": {},
   "source": [
    "### Q.3. What are the standards and conventions followed for the nomenclature of variables in python to improve code readability and maintainability?"
   ]
  },
  {
   "cell_type": "markdown",
   "id": "bdeda4e9",
   "metadata": {},
   "source": [
    "```\n",
    "To improve the coding standards naming convention such as snakecase or camelcase are popularly use to improve the code readability.\n",
    "\n",
    "```"
   ]
  },
  {
   "cell_type": "code",
   "execution_count": 6,
   "id": "239bcc30",
   "metadata": {},
   "outputs": [],
   "source": [
    "# eg : snakecase \n",
    "\n",
    "var_1 = 343\n",
    "\n",
    "# eg : camelcase\n",
    "\n",
    "schoolName = 'Don Bosco'"
   ]
  },
  {
   "cell_type": "markdown",
   "id": "85780f07",
   "metadata": {},
   "source": [
    "### Q.4. What will happen if a keyword is used as a variable name?"
   ]
  },
  {
   "cell_type": "code",
   "execution_count": 9,
   "id": "8c086d38",
   "metadata": {},
   "outputs": [
    {
     "ename": "SyntaxError",
     "evalue": "invalid syntax (<ipython-input-9-d23986ae60bc>, line 7)",
     "output_type": "error",
     "traceback": [
      "\u001b[1;36m  File \u001b[1;32m\"<ipython-input-9-d23986ae60bc>\"\u001b[1;36m, line \u001b[1;32m7\u001b[0m\n\u001b[1;33m    if = 45\u001b[0m\n\u001b[1;37m       ^\u001b[0m\n\u001b[1;31mSyntaxError\u001b[0m\u001b[1;31m:\u001b[0m invalid syntax\n"
     ]
    }
   ],
   "source": [
    "'''\n",
    "This will show us syntax error.\n",
    "'''\n",
    "\n",
    "# eg :\n",
    "\n",
    "if = 45\n",
    "assert = 78\n",
    "False = 4\n"
   ]
  },
  {
   "cell_type": "markdown",
   "id": "f9ef26dd",
   "metadata": {},
   "source": [
    "### Q.5. For what purpose def keyword is used?"
   ]
  },
  {
   "cell_type": "markdown",
   "id": "5bdf360e",
   "metadata": {},
   "source": [
    "- Use of def keyword is to define the function in python."
   ]
  },
  {
   "cell_type": "code",
   "execution_count": 10,
   "id": "7478c027",
   "metadata": {},
   "outputs": [],
   "source": [
    "# eg :\n",
    "\n",
    "def count_digits(num):\n",
    "    \n",
    "    if type(num) == int:\n",
    "        \n",
    "        count = 0\n",
    "        \n",
    "        for i in str(num):\n",
    "            count+=1\n",
    "            \n",
    "        return count\n",
    "    \n",
    "    else:\n",
    "        \n",
    "        return 'Please enter the integer data type!'"
   ]
  },
  {
   "cell_type": "code",
   "execution_count": 11,
   "id": "a1854701",
   "metadata": {},
   "outputs": [
    {
     "data": {
      "text/plain": [
       "4"
      ]
     },
     "execution_count": 11,
     "metadata": {},
     "output_type": "execute_result"
    }
   ],
   "source": [
    "count_digits(3532)"
   ]
  },
  {
   "cell_type": "markdown",
   "id": "8e2b5586",
   "metadata": {},
   "source": [
    "### Q.6. What is the operation of this special character ‘\\’?"
   ]
  },
  {
   "cell_type": "markdown",
   "id": "32f476d7",
   "metadata": {},
   "source": [
    "- this character is referred as escape character in python, it escapes the meaning of the special symbols in python."
   ]
  },
  {
   "cell_type": "code",
   "execution_count": 15,
   "id": "37ed2336",
   "metadata": {},
   "outputs": [
    {
     "name": "stdout",
     "output_type": "stream",
     "text": [
      "Aryan\n",
      "Das\n",
      "\n",
      "Aryan\\nDas\n",
      "\n",
      "Aryan\tDas\n",
      "\n",
      "Aryan\\tDas\n"
     ]
    }
   ],
   "source": [
    "# eg :\n",
    "\n",
    "print('Aryan\\nDas')\n",
    "print()\n",
    "print('Aryan\\\\nDas')\n",
    "print()\n",
    "print('Aryan\\tDas')\n",
    "print()\n",
    "print('Aryan\\\\tDas')"
   ]
  },
  {
   "cell_type": "markdown",
   "id": "cd8aa474",
   "metadata": {},
   "source": [
    "### Q.7. Give an example of the following conditions:\n",
    "```\n",
    "(i) Homogeneous list\n",
    "(ii) Heterogeneous set\n",
    "(iii) Homogeneous tuple\n",
    "```"
   ]
  },
  {
   "cell_type": "code",
   "execution_count": 18,
   "id": "86b8d1b6",
   "metadata": {},
   "outputs": [],
   "source": [
    "# Homogeneous list :\n",
    "\n",
    "list_ = [11,2345,45,45,3,345]\n",
    "\n",
    "# list is homogeneous as it has one type of data i.e int"
   ]
  },
  {
   "cell_type": "code",
   "execution_count": 19,
   "id": "798e45a1",
   "metadata": {},
   "outputs": [],
   "source": [
    "# Heterogeneous set :\n",
    "\n",
    "set_ = {34,'afaf',56,23,2,(56,7)}\n",
    "\n",
    "# set is heterogeneous as it has different kind of data types of data"
   ]
  },
  {
   "cell_type": "code",
   "execution_count": 20,
   "id": "a24969c8",
   "metadata": {},
   "outputs": [],
   "source": [
    "# Homogeneous tuple :\n",
    "\n",
    "tup_ = ('df','gh','ui')\n",
    "\n",
    "# this is homogeneous tuple as it has same kind of data data types"
   ]
  },
  {
   "cell_type": "markdown",
   "id": "c23dda76",
   "metadata": {},
   "source": [
    "### Q.8. Explain the mutable and immutable data types with proper explanation & examples."
   ]
  },
  {
   "cell_type": "markdown",
   "id": "18102bb6",
   "metadata": {},
   "source": [
    "#### Mutable data types :\n",
    "\n",
    "- mutable data types values can be changed.\n",
    "\n",
    "#### Immutable data types :\n",
    "\n",
    "- immutable data types values cannot be changed."
   ]
  },
  {
   "cell_type": "code",
   "execution_count": 21,
   "id": "04e6eac8",
   "metadata": {},
   "outputs": [
    {
     "name": "stdout",
     "output_type": "stream",
     "text": [
      "[12, 23, 34, 30, 56]\n"
     ]
    }
   ],
   "source": [
    "# mutable data types :\n",
    "\n",
    "list_ = [12,23,34,45,56]\n",
    "\n",
    "list_[3] = 30\n",
    "\n",
    "print(list_)"
   ]
  },
  {
   "cell_type": "code",
   "execution_count": 22,
   "id": "60f98ef9",
   "metadata": {},
   "outputs": [
    {
     "ename": "TypeError",
     "evalue": "'str' object does not support item assignment",
     "output_type": "error",
     "traceback": [
      "\u001b[1;31m---------------------------------------------------------------------------\u001b[0m",
      "\u001b[1;31mTypeError\u001b[0m                                 Traceback (most recent call last)",
      "\u001b[1;32m<ipython-input-22-7de23c516b1b>\u001b[0m in \u001b[0;36m<module>\u001b[1;34m\u001b[0m\n\u001b[0;32m      3\u001b[0m \u001b[0mstr_\u001b[0m \u001b[1;33m=\u001b[0m \u001b[1;34m'aryan'\u001b[0m\u001b[1;33m\u001b[0m\u001b[1;33m\u001b[0m\u001b[0m\n\u001b[0;32m      4\u001b[0m \u001b[1;33m\u001b[0m\u001b[0m\n\u001b[1;32m----> 5\u001b[1;33m \u001b[0mstr_\u001b[0m\u001b[1;33m[\u001b[0m\u001b[1;36m0\u001b[0m\u001b[1;33m]\u001b[0m \u001b[1;33m=\u001b[0m \u001b[1;34m't'\u001b[0m\u001b[1;33m\u001b[0m\u001b[1;33m\u001b[0m\u001b[0m\n\u001b[0m",
      "\u001b[1;31mTypeError\u001b[0m: 'str' object does not support item assignment"
     ]
    }
   ],
   "source": [
    "# immuatable data types :\n",
    "\n",
    "str_ = 'aryan'\n",
    "\n",
    "str_[0] = 't'"
   ]
  },
  {
   "cell_type": "markdown",
   "id": "f8d8f4cd",
   "metadata": {},
   "source": [
    "### Q.9. Write a code to create the given structure using only for loop.\n",
    "```\n",
    "    *\n",
    "   ***\n",
    "  *****\n",
    " *******\n",
    "*********\n",
    "```"
   ]
  },
  {
   "cell_type": "code",
   "execution_count": 39,
   "id": "e6d25626",
   "metadata": {},
   "outputs": [
    {
     "name": "stdout",
     "output_type": "stream",
     "text": [
      "Enter the no. of rows : 5\n",
      "\n",
      "************************************************************\n",
      "\n",
      "    *\n",
      "   ***\n",
      "  *****\n",
      " *******\n",
      "*********\n",
      "\n",
      "************************************************************\n"
     ]
    }
   ],
   "source": [
    "n = int(input('Enter the no. of rows : '))\n",
    "print()\n",
    "\n",
    "a = 1\n",
    "\n",
    "print(\"*\"*60)\n",
    "print()\n",
    "for i in range(1,n+1):\n",
    "    \n",
    "    for k in range(n-i):\n",
    "        print(end=\" \")\n",
    "    \n",
    "    for j in range(1,a+1):\n",
    "        print(\"*\",end=\"\")\n",
    "        \n",
    "    print()\n",
    "    a+=2\n",
    "    \n",
    "print()\n",
    "print(\"*\"*60) "
   ]
  },
  {
   "cell_type": "markdown",
   "id": "d5afe135",
   "metadata": {},
   "source": [
    "### Q.10. Write a code to create the given structure using while loop.\n",
    "```\n",
    "|||||||||\n",
    " |||||||\n",
    "  |||||\n",
    "   |||\n",
    "    |\n",
    "```"
   ]
  },
  {
   "cell_type": "code",
   "execution_count": 42,
   "id": "ec15d46c",
   "metadata": {},
   "outputs": [
    {
     "name": "stdout",
     "output_type": "stream",
     "text": [
      "Enter the no. of rows : 5\n",
      "\n",
      "************************************************************\n",
      "\n",
      "|||||||||\n",
      " |||||||\n",
      "  |||||\n",
      "   |||\n",
      "    |\n",
      "\n",
      "************************************************************\n"
     ]
    }
   ],
   "source": [
    "n = int(input('Enter the no. of rows : '))\n",
    "print()\n",
    "\n",
    "a = (2*n)-1\n",
    "\n",
    "print(\"*\"*60)\n",
    "print()\n",
    "for i in range(1,n+1):\n",
    "    \n",
    "    for k in range(i-1):\n",
    "        print(end=\" \")\n",
    "    \n",
    "    for j in range(1,a+1):\n",
    "        print(\"|\",end=\"\")\n",
    "        \n",
    "    print()\n",
    "    a-=2\n",
    "    \n",
    "print()\n",
    "print(\"*\"*60) "
   ]
  },
  {
   "cell_type": "code",
   "execution_count": null,
   "id": "82526895",
   "metadata": {},
   "outputs": [],
   "source": []
  },
  {
   "cell_type": "code",
   "execution_count": null,
   "id": "1ee6d7e2",
   "metadata": {},
   "outputs": [],
   "source": []
  },
  {
   "cell_type": "code",
   "execution_count": null,
   "id": "2897b341",
   "metadata": {},
   "outputs": [],
   "source": []
  },
  {
   "cell_type": "code",
   "execution_count": null,
   "id": "dc4a4f02",
   "metadata": {},
   "outputs": [],
   "source": []
  },
  {
   "cell_type": "code",
   "execution_count": null,
   "id": "e58f9e82",
   "metadata": {},
   "outputs": [],
   "source": []
  },
  {
   "cell_type": "code",
   "execution_count": null,
   "id": "fba2948f",
   "metadata": {},
   "outputs": [],
   "source": []
  },
  {
   "cell_type": "code",
   "execution_count": null,
   "id": "a2e2c42e",
   "metadata": {},
   "outputs": [],
   "source": []
  },
  {
   "cell_type": "code",
   "execution_count": null,
   "id": "74ab557c",
   "metadata": {},
   "outputs": [],
   "source": []
  }
 ],
 "metadata": {
  "kernelspec": {
   "display_name": "Python 3",
   "language": "python",
   "name": "python3"
  },
  "language_info": {
   "codemirror_mode": {
    "name": "ipython",
    "version": 3
   },
   "file_extension": ".py",
   "mimetype": "text/x-python",
   "name": "python",
   "nbconvert_exporter": "python",
   "pygments_lexer": "ipython3",
   "version": "3.8.8"
  },
  "varInspector": {
   "cols": {
    "lenName": 16,
    "lenType": 16,
    "lenVar": 40
   },
   "kernels_config": {
    "python": {
     "delete_cmd_postfix": "",
     "delete_cmd_prefix": "del ",
     "library": "var_list.py",
     "varRefreshCmd": "print(var_dic_list())"
    },
    "r": {
     "delete_cmd_postfix": ") ",
     "delete_cmd_prefix": "rm(",
     "library": "var_list.r",
     "varRefreshCmd": "cat(var_dic_list()) "
    }
   },
   "types_to_exclude": [
    "module",
    "function",
    "builtin_function_or_method",
    "instance",
    "_Feature"
   ],
   "window_display": false
  }
 },
 "nbformat": 4,
 "nbformat_minor": 5
}
