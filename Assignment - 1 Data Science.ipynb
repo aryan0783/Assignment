{
 "cells": [
  {
   "cell_type": "code",
   "execution_count": 1,
   "id": "5a5861a8",
   "metadata": {},
   "outputs": [],
   "source": [
    "# logging block :\n",
    "\n",
    "import logging\n",
    "\n",
    "logging.basicConfig(filename = 'assgn_1.log',level=logging.INFO,format = '%(asctime)s %(name)s %(levelname)s %(message)s')"
   ]
  },
  {
   "cell_type": "markdown",
   "id": "a1640135",
   "metadata": {},
   "source": [
    "## 1. Write a Python program to reverse a string without using any built-in string reversal functions."
   ]
  },
  {
   "cell_type": "code",
   "execution_count": 2,
   "id": "8d4e9800",
   "metadata": {},
   "outputs": [],
   "source": [
    "class String:\n",
    "    \n",
    "    def __init__(self,string):\n",
    "        if type(string) == str:\n",
    "            self.string = string\n",
    "        else:\n",
    "            raise Exception('Object should be a string')\n",
    "            \n",
    "    def reverse(self):\n",
    "        \n",
    "        try:\n",
    "            logging.info('Q-1 String.reverse has been called!')    \n",
    "            return self.string[::-1]\n",
    "        except Exception as e:\n",
    "            logging.error(f'Error occurred in the String.reverse method : {e}')"
   ]
  },
  {
   "cell_type": "code",
   "execution_count": 3,
   "id": "0cbab9d1",
   "metadata": {},
   "outputs": [
    {
     "ename": "Exception",
     "evalue": "Object should be a string",
     "output_type": "error",
     "traceback": [
      "\u001b[1;31m---------------------------------------------------------------------------\u001b[0m",
      "\u001b[1;31mException\u001b[0m                                 Traceback (most recent call last)",
      "\u001b[1;32m<ipython-input-3-3847af2d41a7>\u001b[0m in \u001b[0;36m<module>\u001b[1;34m\u001b[0m\n\u001b[1;32m----> 1\u001b[1;33m \u001b[0mstr1\u001b[0m \u001b[1;33m=\u001b[0m \u001b[0mString\u001b[0m\u001b[1;33m(\u001b[0m\u001b[1;36m9\u001b[0m\u001b[1;33m)\u001b[0m\u001b[1;33m\u001b[0m\u001b[1;33m\u001b[0m\u001b[0m\n\u001b[0m",
      "\u001b[1;32m<ipython-input-2-e205e209d5df>\u001b[0m in \u001b[0;36m__init__\u001b[1;34m(self, string)\u001b[0m\n\u001b[0;32m      5\u001b[0m             \u001b[0mself\u001b[0m\u001b[1;33m.\u001b[0m\u001b[0mstring\u001b[0m \u001b[1;33m=\u001b[0m \u001b[0mstring\u001b[0m\u001b[1;33m\u001b[0m\u001b[1;33m\u001b[0m\u001b[0m\n\u001b[0;32m      6\u001b[0m         \u001b[1;32melse\u001b[0m\u001b[1;33m:\u001b[0m\u001b[1;33m\u001b[0m\u001b[1;33m\u001b[0m\u001b[0m\n\u001b[1;32m----> 7\u001b[1;33m             \u001b[1;32mraise\u001b[0m \u001b[0mException\u001b[0m\u001b[1;33m(\u001b[0m\u001b[1;34m'Object should be a string'\u001b[0m\u001b[1;33m)\u001b[0m\u001b[1;33m\u001b[0m\u001b[1;33m\u001b[0m\u001b[0m\n\u001b[0m\u001b[0;32m      8\u001b[0m \u001b[1;33m\u001b[0m\u001b[0m\n\u001b[0;32m      9\u001b[0m     \u001b[1;32mdef\u001b[0m \u001b[0mreverse\u001b[0m\u001b[1;33m(\u001b[0m\u001b[0mself\u001b[0m\u001b[1;33m)\u001b[0m\u001b[1;33m:\u001b[0m\u001b[1;33m\u001b[0m\u001b[1;33m\u001b[0m\u001b[0m\n",
      "\u001b[1;31mException\u001b[0m: Object should be a string"
     ]
    }
   ],
   "source": [
    "str1 = String(9)"
   ]
  },
  {
   "cell_type": "code",
   "execution_count": 4,
   "id": "8f5c0a3a",
   "metadata": {},
   "outputs": [
    {
     "data": {
      "text/plain": [
       "'nayra'"
      ]
     },
     "execution_count": 4,
     "metadata": {},
     "output_type": "execute_result"
    }
   ],
   "source": [
    "str1 = String('aryan')\n",
    "str1.reverse()"
   ]
  },
  {
   "cell_type": "markdown",
   "id": "76b78645",
   "metadata": {},
   "source": [
    "### 2. Implement a function to check if a given string is a palindrome."
   ]
  },
  {
   "cell_type": "code",
   "execution_count": 5,
   "id": "7cc2e067",
   "metadata": {},
   "outputs": [],
   "source": [
    "def palindrome_check(string):\n",
    "    \n",
    "    try:\n",
    "        \n",
    "        logging.info('Q-2.palindrome_check function has been called!')\n",
    "    \n",
    "        if type(string) == str:\n",
    "\n",
    "            if string[::-1] == string:\n",
    "                return f\"{string} is palindrome!\"\n",
    "\n",
    "            return f'{string} is not palindrome!'\n",
    "\n",
    "        else:\n",
    "\n",
    "            return \"Please give string data type data!\"\n",
    "        \n",
    "    except Exception as e:\n",
    "        \n",
    "        logging.error(f'Error occurred in the Q-2.palindrome_check function : {e}')"
   ]
  },
  {
   "cell_type": "code",
   "execution_count": 6,
   "id": "63273e3d",
   "metadata": {},
   "outputs": [
    {
     "data": {
      "text/plain": [
       "'aryan is not palindrome!'"
      ]
     },
     "execution_count": 6,
     "metadata": {},
     "output_type": "execute_result"
    }
   ],
   "source": [
    "palindrome_check('aryan')"
   ]
  },
  {
   "cell_type": "code",
   "execution_count": 7,
   "id": "227e002a",
   "metadata": {},
   "outputs": [
    {
     "data": {
      "text/plain": [
       "'civic is palindrome!'"
      ]
     },
     "execution_count": 7,
     "metadata": {},
     "output_type": "execute_result"
    }
   ],
   "source": [
    "palindrome_check('civic')"
   ]
  },
  {
   "cell_type": "code",
   "execution_count": 8,
   "id": "5bcc204b",
   "metadata": {},
   "outputs": [
    {
     "data": {
      "text/plain": [
       "'Please give string data type data!'"
      ]
     },
     "execution_count": 8,
     "metadata": {},
     "output_type": "execute_result"
    }
   ],
   "source": [
    "palindrome_check(35)"
   ]
  },
  {
   "cell_type": "markdown",
   "id": "13d8c028",
   "metadata": {},
   "source": [
    "### 3. Write a program to find the largest element in a given list."
   ]
  },
  {
   "cell_type": "code",
   "execution_count": 9,
   "id": "14d3f54b",
   "metadata": {},
   "outputs": [],
   "source": [
    "def largest(lst):\n",
    "    \n",
    "    try:\n",
    "        \n",
    "        logging.info('Q-3.largest function has been called!')\n",
    "    \n",
    "        if type(lst) == list:\n",
    "\n",
    "            max_ele = lst[0]\n",
    "\n",
    "            for i in lst:\n",
    "\n",
    "                if max_ele < i:\n",
    "\n",
    "                    max_ele = i\n",
    "\n",
    "            return max_ele\n",
    "\n",
    "        else:\n",
    "\n",
    "            return 'Please give list data type data!'\n",
    "        \n",
    "    except Exception as e:\n",
    "            \n",
    "        logging.error(f'Error occurred in the Q-3.largest function : {e}')"
   ]
  },
  {
   "cell_type": "code",
   "execution_count": 10,
   "id": "6dbd7cd2",
   "metadata": {},
   "outputs": [
    {
     "data": {
      "text/plain": [
       "25"
      ]
     },
     "execution_count": 10,
     "metadata": {},
     "output_type": "execute_result"
    }
   ],
   "source": [
    "largest([12,3,4,2,25,23,1,3])"
   ]
  },
  {
   "cell_type": "markdown",
   "id": "738d8860",
   "metadata": {},
   "source": [
    "### 4. Implement a function to count the occurrence of each element in a list."
   ]
  },
  {
   "cell_type": "code",
   "execution_count": 11,
   "id": "764c09c7",
   "metadata": {},
   "outputs": [],
   "source": [
    "def occurence_count(lst):\n",
    "    \n",
    "    try:\n",
    "        \n",
    "        logging.info('Q-4.occurence_count function has been called!')\n",
    "    \n",
    "        dict_ = {}\n",
    "\n",
    "        if type(lst) == list:\n",
    "\n",
    "            for i in range(0,len(lst)):\n",
    "\n",
    "                count = 0\n",
    "\n",
    "                for j in range(i,len(lst)):\n",
    "\n",
    "                    if lst[i] == lst[j]:\n",
    "\n",
    "                        count += 1\n",
    "\n",
    "                if lst[i] not in dict_:\n",
    "\n",
    "                    dict_[lst[i]] = count\n",
    "\n",
    "            return dict_\n",
    "\n",
    "        else:\n",
    "\n",
    "            return 'Please give list data type data!'\n",
    "        \n",
    "    except Exception as e:\n",
    "        \n",
    "        logging.error(f'Error occurred in the Q-4.occurence_count function : {e}')"
   ]
  },
  {
   "cell_type": "code",
   "execution_count": 12,
   "id": "d7b7c391",
   "metadata": {},
   "outputs": [
    {
     "data": {
      "text/plain": [
       "{1: 2, 2: 3, 3: 3, 4: 1, 5: 1, 6: 1, 421: 1, 434: 1}"
      ]
     },
     "execution_count": 12,
     "metadata": {},
     "output_type": "execute_result"
    }
   ],
   "source": [
    "occurence_count([1,2,3,4,5,6,1,2,3,2,3,421,434])"
   ]
  },
  {
   "cell_type": "code",
   "execution_count": 13,
   "id": "4c664dae",
   "metadata": {},
   "outputs": [
    {
     "data": {
      "text/plain": [
       "{12: 2, 324: 1, 243: 1, 524: 1, 24: 1, 25: 1, 2: 1}"
      ]
     },
     "execution_count": 13,
     "metadata": {},
     "output_type": "execute_result"
    }
   ],
   "source": [
    "occurence_count([12,324,243,524,24,25,2,12])"
   ]
  },
  {
   "cell_type": "markdown",
   "id": "a48b99cc",
   "metadata": {},
   "source": [
    "### 5. Write a Python program to find the second largest number in a list."
   ]
  },
  {
   "cell_type": "code",
   "execution_count": 14,
   "id": "3aa423e8",
   "metadata": {},
   "outputs": [],
   "source": [
    "def second_largest(lst):\n",
    "    \n",
    "    try:\n",
    "        \n",
    "        logging.info('Q-5.second_largest function has been called!')\n",
    "    \n",
    "        if type(lst) == list:\n",
    "\n",
    "            if lst[0] >= lst[1]:\n",
    "\n",
    "                largest = lst[0]\n",
    "                slargest = lst[1]\n",
    "\n",
    "            else :\n",
    "\n",
    "                largest = lst[1]\n",
    "                slargest = lst[0]\n",
    "\n",
    "            for i in range(2,len(lst)):\n",
    "\n",
    "                if lst[i] > largest:\n",
    "\n",
    "                    slargest = largest\n",
    "                    largest = lst[i]\n",
    "\n",
    "                elif lst[i]> slargest:\n",
    "\n",
    "                    slargest = lst[i]\n",
    "\n",
    "            return slargest\n",
    "\n",
    "        else :\n",
    "\n",
    "            return \"Please give list data type data!\"\n",
    "        \n",
    "    except Exception as e:\n",
    "        \n",
    "        logging.error(f'Error occurred in the Q-5.second_largest function : {e}')"
   ]
  },
  {
   "cell_type": "code",
   "execution_count": 15,
   "id": "b266cf0a",
   "metadata": {},
   "outputs": [
    {
     "data": {
      "text/plain": [
       "23"
      ]
     },
     "execution_count": 15,
     "metadata": {},
     "output_type": "execute_result"
    }
   ],
   "source": [
    "second_largest([12,23,5,3,2,1,56,7,23,9])"
   ]
  },
  {
   "cell_type": "code",
   "execution_count": 16,
   "id": "10184bef",
   "metadata": {},
   "outputs": [
    {
     "data": {
      "text/plain": [
       "513"
      ]
     },
     "execution_count": 16,
     "metadata": {},
     "output_type": "execute_result"
    }
   ],
   "source": [
    "second_largest([12,5,3,2,1,5,3,1,513,5452,3,42])"
   ]
  },
  {
   "cell_type": "markdown",
   "id": "cf4a0b8a",
   "metadata": {},
   "source": [
    "### 6. Implement a function to remove duplicate elements from a list."
   ]
  },
  {
   "cell_type": "code",
   "execution_count": 17,
   "id": "d28fb0dd",
   "metadata": {},
   "outputs": [],
   "source": [
    "def remove_duplicates(list_):\n",
    "    \n",
    "    try:\n",
    "        \n",
    "        logging.info('Q-6.remove_duplicates method has been called!')\n",
    "    \n",
    "        if type(list_) == list:\n",
    "\n",
    "            return list(set(list_))\n",
    "\n",
    "        else:\n",
    "\n",
    "            return \"Please give list data type data!\"\n",
    "        \n",
    "    except Exception as e:\n",
    "        \n",
    "        logging.error(f'Error occurred in the Q-6.remove_duplicates method : {e}')"
   ]
  },
  {
   "cell_type": "code",
   "execution_count": 18,
   "id": "645baaed",
   "metadata": {},
   "outputs": [
    {
     "data": {
      "text/plain": [
       "[1, 34, 2, 5, 423, 42, 12, 25]"
      ]
     },
     "execution_count": 18,
     "metadata": {},
     "output_type": "execute_result"
    }
   ],
   "source": [
    "remove_duplicates([12,34,5,25,2,423,42,34,2,1])"
   ]
  },
  {
   "cell_type": "code",
   "execution_count": 19,
   "id": "e8de3937",
   "metadata": {},
   "outputs": [],
   "source": [
    "def remove_duplicate(list_):\n",
    "    \n",
    "    try:\n",
    "        \n",
    "        logging.info('Q-6.remove_duplicates method has been called!')\n",
    "    \n",
    "        if type(list_) == list:\n",
    "\n",
    "            return list(dict.fromkeys(list_))\n",
    "\n",
    "        else:\n",
    "\n",
    "            return 'Please give list data type data!'\n",
    "        \n",
    "    except Exception as e:\n",
    "        \n",
    "        logging.error(f'Error occurred in the Q-6.remove_duplicates method : {e}')"
   ]
  },
  {
   "cell_type": "code",
   "execution_count": 20,
   "id": "3a233599",
   "metadata": {},
   "outputs": [
    {
     "data": {
      "text/plain": [
       "[321, 45, 55, 151, 51, 15, 46, 13]"
      ]
     },
     "execution_count": 20,
     "metadata": {},
     "output_type": "execute_result"
    }
   ],
   "source": [
    "remove_duplicate([321,45,55,151,51,15,15,46,13,45])"
   ]
  },
  {
   "cell_type": "markdown",
   "id": "f2cb28d0",
   "metadata": {},
   "source": [
    "### 7. Write a program to calculate the factorial of a given number."
   ]
  },
  {
   "cell_type": "code",
   "execution_count": 21,
   "id": "1f06b68a",
   "metadata": {},
   "outputs": [],
   "source": [
    "# calculating factorial :\n",
    "\n",
    "def factorial(val):\n",
    "    \n",
    "    try:\n",
    "        \n",
    "        factorial = 1\n",
    "\n",
    "        for i in range(1,val+1):\n",
    "\n",
    "            factorial *= i\n",
    "\n",
    "        return factorial\n",
    "    \n",
    "    except Exception as e:\n",
    "        \n",
    "        logging.error(f'Error occurred in the Q-7.factorial function error : {e}')"
   ]
  },
  {
   "cell_type": "code",
   "execution_count": 22,
   "id": "2453964d",
   "metadata": {},
   "outputs": [
    {
     "data": {
      "text/plain": [
       "120"
      ]
     },
     "execution_count": 22,
     "metadata": {},
     "output_type": "execute_result"
    }
   ],
   "source": [
    "factorial(5)"
   ]
  },
  {
   "cell_type": "code",
   "execution_count": 23,
   "id": "98ae910e",
   "metadata": {},
   "outputs": [
    {
     "data": {
      "text/plain": [
       "24"
      ]
     },
     "execution_count": 23,
     "metadata": {},
     "output_type": "execute_result"
    }
   ],
   "source": [
    "factorial(4)"
   ]
  },
  {
   "cell_type": "code",
   "execution_count": 24,
   "id": "636a9b36",
   "metadata": {},
   "outputs": [
    {
     "data": {
      "text/plain": [
       "6"
      ]
     },
     "execution_count": 24,
     "metadata": {},
     "output_type": "execute_result"
    }
   ],
   "source": [
    "factorial(3)"
   ]
  },
  {
   "cell_type": "code",
   "execution_count": 25,
   "id": "62adf7b2",
   "metadata": {},
   "outputs": [],
   "source": [
    "# calculating factorial :\n",
    "\n",
    "def factorial(val):\n",
    "    \n",
    "    if type(val) == int :\n",
    "    \n",
    "        if val <= 1:\n",
    "\n",
    "            return 1\n",
    "\n",
    "        else:\n",
    "\n",
    "            return val * factorial(val-1)\n",
    "        \n",
    "    else :\n",
    "        \n",
    "        return 'Please give the integer data type!'"
   ]
  },
  {
   "cell_type": "code",
   "execution_count": 26,
   "id": "232d3b04",
   "metadata": {},
   "outputs": [
    {
     "data": {
      "text/plain": [
       "120"
      ]
     },
     "execution_count": 26,
     "metadata": {},
     "output_type": "execute_result"
    }
   ],
   "source": [
    "factorial(5)"
   ]
  },
  {
   "cell_type": "code",
   "execution_count": 27,
   "id": "66ca6fb3",
   "metadata": {},
   "outputs": [
    {
     "data": {
      "text/plain": [
       "720"
      ]
     },
     "execution_count": 27,
     "metadata": {},
     "output_type": "execute_result"
    }
   ],
   "source": [
    "factorial(6)"
   ]
  },
  {
   "cell_type": "markdown",
   "id": "ab2bf77e",
   "metadata": {},
   "source": [
    "### 8.Implement a function to check if a given number is prime."
   ]
  },
  {
   "cell_type": "code",
   "execution_count": 28,
   "id": "1f38eaf9",
   "metadata": {},
   "outputs": [],
   "source": [
    "def prime_check(val):\n",
    "    \n",
    "    try:\n",
    "        \n",
    "        logging.info('Q-8.prime_check function has been called!')\n",
    "    \n",
    "        if type(val) == int:\n",
    "\n",
    "            for i in range(2,val):\n",
    "\n",
    "                if val%i==0:\n",
    "\n",
    "                    return 'Number is not prime!'\n",
    "\n",
    "            else:\n",
    "\n",
    "                return 'Number is a prime!'\n",
    "\n",
    "        else:\n",
    "\n",
    "            return 'Please give the integer data type!'\n",
    "        \n",
    "    except Exception as e:\n",
    "        \n",
    "        logging.error(f'Error occurred in the Q-8.prime_check function')"
   ]
  },
  {
   "cell_type": "code",
   "execution_count": 29,
   "id": "0757b82a",
   "metadata": {},
   "outputs": [
    {
     "data": {
      "text/plain": [
       "'Number is a prime!'"
      ]
     },
     "execution_count": 29,
     "metadata": {},
     "output_type": "execute_result"
    }
   ],
   "source": [
    "prime_check(5)"
   ]
  },
  {
   "cell_type": "code",
   "execution_count": 30,
   "id": "701bf8b3",
   "metadata": {},
   "outputs": [
    {
     "data": {
      "text/plain": [
       "'Number is not prime!'"
      ]
     },
     "execution_count": 30,
     "metadata": {},
     "output_type": "execute_result"
    }
   ],
   "source": [
    "prime_check(45)"
   ]
  },
  {
   "cell_type": "markdown",
   "id": "fc71ac30",
   "metadata": {},
   "source": [
    "### 9. Write a Python program to sort a list of integers in ascending order."
   ]
  },
  {
   "cell_type": "code",
   "execution_count": 31,
   "id": "cdcfb444",
   "metadata": {},
   "outputs": [],
   "source": [
    "# Using bubble sort technique to sort the list :\n",
    "\n",
    "def sorting_list(list_):\n",
    "    \n",
    "    try:\n",
    "        \n",
    "        logging.info('Q-9.sorting_list function has been called!')\n",
    "    \n",
    "        if type(list_) == list:\n",
    "\n",
    "            for i in range(len(list_)):\n",
    "\n",
    "                for j in range(i+1,len(list_)):\n",
    "\n",
    "                    if list_[i] > list_[j]:\n",
    "\n",
    "                        temp = list_[i]\n",
    "                        list_[i] = list_[j]\n",
    "                        list_[j] = temp\n",
    "\n",
    "            return list_\n",
    "\n",
    "        else:\n",
    "\n",
    "            return 'Please give the list data type data!'\n",
    "        \n",
    "    except Exception as e:\n",
    "        \n",
    "        logging.error(f'Error occurred in the Q-9.sorting_list function : {e}')"
   ]
  },
  {
   "cell_type": "code",
   "execution_count": 32,
   "id": "4d3ceb90",
   "metadata": {},
   "outputs": [
    {
     "data": {
      "text/plain": [
       "[2, 3, 5, 12, 56, 234]"
      ]
     },
     "execution_count": 32,
     "metadata": {},
     "output_type": "execute_result"
    }
   ],
   "source": [
    "sorting_list([12,3,5,2,234,56])"
   ]
  },
  {
   "cell_type": "code",
   "execution_count": 33,
   "id": "0ef05e99",
   "metadata": {},
   "outputs": [
    {
     "data": {
      "text/plain": [
       "[3, 4, 5, 5, 12, 35, 351, 24564]"
      ]
     },
     "execution_count": 33,
     "metadata": {},
     "output_type": "execute_result"
    }
   ],
   "source": [
    "sorting_list([12,5,4,3,5,24564,35,351])"
   ]
  },
  {
   "cell_type": "markdown",
   "id": "2de4f21c",
   "metadata": {},
   "source": [
    "### 10. Implement a function to find the sum of all numbers in a list."
   ]
  },
  {
   "cell_type": "code",
   "execution_count": 34,
   "id": "af788260",
   "metadata": {},
   "outputs": [],
   "source": [
    "def addition(list_):\n",
    "    \n",
    "    try:\n",
    "        \n",
    "        logging.info('Q-10.addition function has been called!')\n",
    "    \n",
    "        if type(list_) == list:\n",
    "\n",
    "            sum = 0\n",
    "\n",
    "            for i in list_:\n",
    "\n",
    "                sum += i\n",
    "\n",
    "            return sum\n",
    "\n",
    "        else:\n",
    "\n",
    "            return 'Please give the integer data type!'\n",
    "        \n",
    "    except Exception as e:\n",
    "        \n",
    "        logging.error(f'Error occurred in the Q-10.addition function : {e}')"
   ]
  },
  {
   "cell_type": "code",
   "execution_count": 35,
   "id": "6abbbc1d",
   "metadata": {},
   "outputs": [
    {
     "data": {
      "text/plain": [
       "143"
      ]
     },
     "execution_count": 35,
     "metadata": {},
     "output_type": "execute_result"
    }
   ],
   "source": [
    "addition([12,4,51,34,5,2,5,2,4,24])"
   ]
  },
  {
   "cell_type": "markdown",
   "id": "9254cc47",
   "metadata": {},
   "source": [
    "### 11. Write a program to find the common elements between two lists."
   ]
  },
  {
   "cell_type": "code",
   "execution_count": 36,
   "id": "e6aaf586",
   "metadata": {},
   "outputs": [],
   "source": [
    "def common_element(list_1,list_2):\n",
    "    \n",
    "    try:\n",
    "        \n",
    "        logging.info('Q-11.common_element function has been called!')\n",
    "    \n",
    "        if type(list_1) == list and type(list_2) == list:\n",
    "\n",
    "            res = [i for i in list_1 if i in list_2]\n",
    "\n",
    "            return res\n",
    "\n",
    "        else:\n",
    "\n",
    "            return 'Please give the list data type!'\n",
    "        \n",
    "    except Exception as e:\n",
    "        \n",
    "        logging.error(f'Error occurred in the Q-11.common_element function : {e}')"
   ]
  },
  {
   "cell_type": "code",
   "execution_count": 37,
   "id": "efc941c9",
   "metadata": {},
   "outputs": [
    {
     "data": {
      "text/plain": [
       "[4]"
      ]
     },
     "execution_count": 37,
     "metadata": {},
     "output_type": "execute_result"
    }
   ],
   "source": [
    "common_element([12,4,325,25,2,35,52],[56,24,6246,4,424,23])"
   ]
  },
  {
   "cell_type": "markdown",
   "id": "47b60688",
   "metadata": {},
   "source": [
    "### 12. Implement a function to check if a given string is an anagram of another string."
   ]
  },
  {
   "cell_type": "code",
   "execution_count": 38,
   "id": "f50af924",
   "metadata": {},
   "outputs": [],
   "source": [
    "def anagram_check(string1,string2):\n",
    "    \n",
    "    try:\n",
    "        \n",
    "        logging.info('Q-12.anagram_check function has been called!')\n",
    "    \n",
    "        flag = 1\n",
    "\n",
    "        if type(string1) == str and type(string2) == str:\n",
    "\n",
    "            if len(string1) == len(string2):\n",
    "\n",
    "                for i in string1:\n",
    "\n",
    "                    if i not in string2:\n",
    "\n",
    "                        flag = 0\n",
    "\n",
    "            else:\n",
    "\n",
    "                flag = 0\n",
    "\n",
    "        if flag:\n",
    "\n",
    "             return f'{string1} is anagram of {string2}' \n",
    "\n",
    "        else:\n",
    "\n",
    "            return f'{string1} is not anagram of {string2}'\n",
    "        \n",
    "    except Exception as e:\n",
    "        \n",
    "        logging.error(f'Error occurred in the Q-12.anagram_check function : {e}')"
   ]
  },
  {
   "cell_type": "code",
   "execution_count": 39,
   "id": "ec484210",
   "metadata": {},
   "outputs": [
    {
     "data": {
      "text/plain": [
       "'listen is anagram of silent'"
      ]
     },
     "execution_count": 39,
     "metadata": {},
     "output_type": "execute_result"
    }
   ],
   "source": [
    "anagram_check('listen','silent')"
   ]
  },
  {
   "cell_type": "code",
   "execution_count": 40,
   "id": "c2528bdf",
   "metadata": {},
   "outputs": [
    {
     "data": {
      "text/plain": [
       "'aryan is not anagram of das'"
      ]
     },
     "execution_count": 40,
     "metadata": {},
     "output_type": "execute_result"
    }
   ],
   "source": [
    "anagram_check('aryan','das')"
   ]
  },
  {
   "cell_type": "markdown",
   "id": "1c8b59a8",
   "metadata": {},
   "source": [
    "### 13. Write a Python program to generate all permutations of a given string."
   ]
  },
  {
   "cell_type": "code",
   "execution_count": 41,
   "id": "a91a1d07",
   "metadata": {},
   "outputs": [],
   "source": [
    "def permutation(string):\n",
    "    \n",
    "    try:\n",
    "\n",
    "        if len(string) == 0:\n",
    "\n",
    "            return []\n",
    "\n",
    "        elif len(string) == 1:\n",
    "\n",
    "            return string\n",
    "\n",
    "        else:\n",
    "\n",
    "            l = []\n",
    "\n",
    "            for i in range(len(string)):\n",
    "\n",
    "                x = string[i]\n",
    "                xs = string[:i] + string[i+1:]\n",
    "                for j in permutation(xs):\n",
    "                    l.append(x+j)\n",
    "            return l\n",
    "        \n",
    "    except Exception as e:\n",
    "        \n",
    "        logging.error(f'Error occurred in the Q-13.permutation function : {e}')"
   ]
  },
  {
   "cell_type": "code",
   "execution_count": 42,
   "id": "bffb03f0",
   "metadata": {},
   "outputs": [
    {
     "name": "stdout",
     "output_type": "stream",
     "text": [
      "Enter the string : abc\n",
      "abc\n",
      "acb\n",
      "bac\n",
      "bca\n",
      "cab\n",
      "cba\n"
     ]
    }
   ],
   "source": [
    "n = input('Enter the string : ')\n",
    "\n",
    "for i in permutation(n):\n",
    "    \n",
    "    print(i)"
   ]
  },
  {
   "cell_type": "markdown",
   "id": "96727d89",
   "metadata": {},
   "source": [
    "### 14. Implement a function to calculate the Fibonacci sequence up to a given number of terms."
   ]
  },
  {
   "cell_type": "code",
   "execution_count": 43,
   "id": "35327ef4",
   "metadata": {},
   "outputs": [],
   "source": [
    "# fibo series :\n",
    "\n",
    "def fibonnaci(seq):\n",
    "    \n",
    "    try:\n",
    "        \n",
    "        logging.info('Q-14.fibonnaci function has been called!')\n",
    "    \n",
    "        if type(seq) == int :\n",
    "\n",
    "            a = 0\n",
    "            b = 1\n",
    "\n",
    "            for i in range(seq):\n",
    "\n",
    "                c = a +b\n",
    "                a = b\n",
    "                b = c\n",
    "                print(c)\n",
    "\n",
    "        else:\n",
    "\n",
    "            return 'Please give the sequence in integer data type!'\n",
    "        \n",
    "    except Exception as e:\n",
    "        \n",
    "        logging.error(f'Error occurred in the Q-14.fibonnaci function : {e}')"
   ]
  },
  {
   "cell_type": "code",
   "execution_count": 44,
   "id": "95b9503d",
   "metadata": {},
   "outputs": [
    {
     "name": "stdout",
     "output_type": "stream",
     "text": [
      "1\n",
      "2\n",
      "3\n",
      "5\n",
      "8\n",
      "13\n",
      "21\n",
      "34\n",
      "55\n",
      "89\n"
     ]
    }
   ],
   "source": [
    "fibonnaci(10)"
   ]
  },
  {
   "cell_type": "markdown",
   "id": "aad9cd14",
   "metadata": {},
   "source": [
    "### 15. Write a program to find the median of a list of numbers."
   ]
  },
  {
   "cell_type": "code",
   "execution_count": 45,
   "id": "ff1ca497",
   "metadata": {},
   "outputs": [],
   "source": [
    "# solving median by using the numpy\n",
    "\n",
    "import numpy\n",
    "\n",
    "def list_median(list_):\n",
    "    \n",
    "    try:\n",
    "        \n",
    "        logging.info('Q-15.list_median function has been called!')\n",
    "    \n",
    "        if type(list_) == list:\n",
    "\n",
    "            return numpy.median(list_)\n",
    "\n",
    "        else:\n",
    "\n",
    "            return 'Please give the list data type!'\n",
    "        \n",
    "    except Exception as e:\n",
    "        \n",
    "        logging.error(f'Error occurred in the Q-15.list_median function : {e}')"
   ]
  },
  {
   "cell_type": "code",
   "execution_count": 46,
   "id": "2523cad4",
   "metadata": {},
   "outputs": [
    {
     "data": {
      "text/plain": [
       "43.0"
      ]
     },
     "execution_count": 46,
     "metadata": {},
     "output_type": "execute_result"
    }
   ],
   "source": [
    "list_median([34,52,52,5,246,9])"
   ]
  },
  {
   "cell_type": "markdown",
   "id": "66575164",
   "metadata": {},
   "source": [
    "### 16. Implement a function to check if a given list is sorted in non-decreasing order."
   ]
  },
  {
   "cell_type": "code",
   "execution_count": 47,
   "id": "861b6cd2",
   "metadata": {},
   "outputs": [],
   "source": [
    "def sort_check(list_):\n",
    "    \n",
    "    try:\n",
    "        \n",
    "        logging.info('Q-16.sort_check function has been called!')\n",
    "    \n",
    "        if type(list_) == list:\n",
    "\n",
    "            for i in range(len(list_)):\n",
    "\n",
    "                for j in range(i+1,len(list_)):\n",
    "\n",
    "                    if list_[i] > list_[j]:\n",
    "\n",
    "                        return 'List is not sorted!'\n",
    "\n",
    "            else:\n",
    "\n",
    "                return 'List is sorted!'\n",
    "\n",
    "        else:\n",
    "\n",
    "            return 'Please give the list data type data!'\n",
    "        \n",
    "    except Exception as e:\n",
    "        \n",
    "        logging.error(f'Error occurred in the Q-16.sort_check function : {e}')"
   ]
  },
  {
   "cell_type": "code",
   "execution_count": 48,
   "id": "0b8e64b6",
   "metadata": {},
   "outputs": [
    {
     "data": {
      "text/plain": [
       "'List is not sorted!'"
      ]
     },
     "execution_count": 48,
     "metadata": {},
     "output_type": "execute_result"
    }
   ],
   "source": [
    "sort_check([12,45,2,5,245,24,52,4])"
   ]
  },
  {
   "cell_type": "code",
   "execution_count": 49,
   "id": "36d1be13",
   "metadata": {},
   "outputs": [
    {
     "data": {
      "text/plain": [
       "'List is sorted!'"
      ]
     },
     "execution_count": 49,
     "metadata": {},
     "output_type": "execute_result"
    }
   ],
   "source": [
    "sort_check([1,2,3,4,5,6])"
   ]
  },
  {
   "cell_type": "markdown",
   "id": "154c9ded",
   "metadata": {},
   "source": [
    "### 17. Write a Python program to find the intersection of two lists."
   ]
  },
  {
   "cell_type": "code",
   "execution_count": 50,
   "id": "62ffc8b4",
   "metadata": {},
   "outputs": [],
   "source": [
    "def list_intersection(list_1,list_2):\n",
    "    \n",
    "    try:\n",
    "        \n",
    "        logging.info('Q-17.list_intersection function has been called!')\n",
    "    \n",
    "        if type(list_1) == list and type(list_2) == list:\n",
    "\n",
    "            res = set(list_1).intersection(set(list_2))\n",
    "\n",
    "            return list(res)\n",
    "\n",
    "        else :\n",
    "\n",
    "             return 'Please give the list type data types!'\n",
    "            \n",
    "    except Exception as e:\n",
    "        \n",
    "        logging.error(f'Error occurred in the Q-17.list_intersection function : {e}')"
   ]
  },
  {
   "cell_type": "code",
   "execution_count": 51,
   "id": "38eb261d",
   "metadata": {},
   "outputs": [
    {
     "data": {
      "text/plain": [
       "[3]"
      ]
     },
     "execution_count": 51,
     "metadata": {},
     "output_type": "execute_result"
    }
   ],
   "source": [
    "list_intersection([123,3,43,3,3,5],[24,346,3,22,3,6,2626,462])"
   ]
  },
  {
   "cell_type": "markdown",
   "id": "ad41f9ba",
   "metadata": {},
   "source": [
    "### 18. Implement a function to find the maximum subarray sum in a given list."
   ]
  },
  {
   "cell_type": "code",
   "execution_count": 52,
   "id": "ed22b9c5",
   "metadata": {},
   "outputs": [],
   "source": [
    "def maximum_subarray_sum(list_):\n",
    "    \n",
    "    try:\n",
    "        \n",
    "        logging.info('Q-18.maximum_subarray_sum function has been called!')\n",
    "    \n",
    "        if type(list_) == list:\n",
    "\n",
    "            subarray_sum = []\n",
    "\n",
    "            for i in range(0,len(list_)):\n",
    "\n",
    "                sum = 0\n",
    "\n",
    "                for j in range(i,len(list_)):\n",
    "\n",
    "                    sum += list_[j]\n",
    "\n",
    "                    subarray_sum.append(sum)\n",
    "\n",
    "            return max(subarray_sum)\n",
    "\n",
    "        else:\n",
    "\n",
    "            return \"Please give the list data type data!\"\n",
    "        \n",
    "    except Exception as e:\n",
    "        \n",
    "        logging.error(f'Error occurred in the Q-18.maximum_subarray_sum function : {e}')"
   ]
  },
  {
   "cell_type": "code",
   "execution_count": 53,
   "id": "160a0103",
   "metadata": {},
   "outputs": [
    {
     "data": {
      "text/plain": [
       "15"
      ]
     },
     "execution_count": 53,
     "metadata": {},
     "output_type": "execute_result"
    }
   ],
   "source": [
    "maximum_subarray_sum([1,2,3,4,5])"
   ]
  },
  {
   "cell_type": "code",
   "execution_count": 54,
   "id": "df727b05",
   "metadata": {},
   "outputs": [
    {
     "data": {
      "text/plain": [
       "51"
      ]
     },
     "execution_count": 54,
     "metadata": {},
     "output_type": "execute_result"
    }
   ],
   "source": [
    "maximum_subarray_sum([12,34,5,-1,-6])"
   ]
  },
  {
   "cell_type": "markdown",
   "id": "e2a9e64a",
   "metadata": {},
   "source": [
    "### 19. Write a program to remove all vowels from a given string."
   ]
  },
  {
   "cell_type": "code",
   "execution_count": 55,
   "id": "159ead06",
   "metadata": {},
   "outputs": [],
   "source": [
    "def vowels_remove(string):\n",
    "    \n",
    "    try:\n",
    "        \n",
    "        logging.info('Q-19.vowels_remove function has been called!')\n",
    "    \n",
    "        if type(string) == str:\n",
    "\n",
    "            vowels = 'aeiou'\n",
    "\n",
    "            string1 = ''\n",
    "\n",
    "            for i in string.lower():\n",
    "\n",
    "                if i not in vowels:\n",
    "                    string1 += i\n",
    "\n",
    "            return string1\n",
    "\n",
    "        else:\n",
    "\n",
    "            return 'Please give the string data type data!'\n",
    "        \n",
    "    except Exception as e:\n",
    "        \n",
    "        logging.error(f'Error occurred in the Q-19.vowels_remove function : {e}')\n",
    "            "
   ]
  },
  {
   "cell_type": "code",
   "execution_count": 56,
   "id": "daadc60a",
   "metadata": {},
   "outputs": [
    {
     "data": {
      "text/plain": [
       "'ryn'"
      ]
     },
     "execution_count": 56,
     "metadata": {},
     "output_type": "execute_result"
    }
   ],
   "source": [
    "vowels_remove('aryan')"
   ]
  },
  {
   "cell_type": "markdown",
   "id": "74122cd4",
   "metadata": {},
   "source": [
    "### 20. Implement a function to reverse the order of words in a given sentence."
   ]
  },
  {
   "cell_type": "code",
   "execution_count": 57,
   "id": "6b3ddcb7",
   "metadata": {},
   "outputs": [],
   "source": [
    "def reverse_the_words(sentence):\n",
    "    \n",
    "    try:\n",
    "        \n",
    "        logging.info('Q-20.reverse_the_words function has been called!')\n",
    "    \n",
    "        if type(sentence) == str:\n",
    "\n",
    "            return \" \".join(sentence.split()[::-1])\n",
    "\n",
    "        else:\n",
    "\n",
    "            return 'Please give the string data type data!'\n",
    "        \n",
    "    except Exception as e:\n",
    "        \n",
    "        logging.error(f'Error occurred in the Q-20.reverse_the_words function : {e}')"
   ]
  },
  {
   "cell_type": "code",
   "execution_count": 58,
   "id": "7330794c",
   "metadata": {},
   "outputs": [
    {
     "data": {
      "text/plain": [
       "'man a am I'"
      ]
     },
     "execution_count": 58,
     "metadata": {},
     "output_type": "execute_result"
    }
   ],
   "source": [
    "reverse_the_words('I am a man')"
   ]
  },
  {
   "cell_type": "markdown",
   "id": "8c391480",
   "metadata": {},
   "source": [
    "### 21. Write a Python program to check if two strings are anagrams of each other."
   ]
  },
  {
   "cell_type": "code",
   "execution_count": 59,
   "id": "78826770",
   "metadata": {},
   "outputs": [],
   "source": [
    "def anagram_check(string1,string2):\n",
    "    \n",
    "    try:\n",
    "        \n",
    "        logging.info('Q-21.anagram_check function has been called!')\n",
    "    \n",
    "        flag = 1\n",
    "\n",
    "        if type(string1) == str and type(string2) == str:\n",
    "\n",
    "            if len(string1) == len(string2):\n",
    "\n",
    "                for i in string1:\n",
    "\n",
    "                    if i not in string2:\n",
    "\n",
    "                        flag = 0\n",
    "\n",
    "            else:\n",
    "\n",
    "                flag = 0\n",
    "\n",
    "        if flag:\n",
    "\n",
    "             return f'{string1} is anagram of {string2}' \n",
    "\n",
    "        else:\n",
    "\n",
    "            return f'{string1} is not anagram of {string2}'\n",
    "        \n",
    "    except Exception as e:\n",
    "        \n",
    "        logging.error(f'Error occurred in the Q-21.anagram_check function : {e}')"
   ]
  },
  {
   "cell_type": "code",
   "execution_count": 60,
   "id": "99cb08cd",
   "metadata": {},
   "outputs": [
    {
     "data": {
      "text/plain": [
       "'silent is anagram of listen'"
      ]
     },
     "execution_count": 60,
     "metadata": {},
     "output_type": "execute_result"
    }
   ],
   "source": [
    "anagram_check('silent','listen')"
   ]
  },
  {
   "cell_type": "markdown",
   "id": "93384be0",
   "metadata": {},
   "source": [
    "### 22. Implement a function to find the first non-repeating character in a string."
   ]
  },
  {
   "cell_type": "code",
   "execution_count": 61,
   "id": "224c52b5",
   "metadata": {},
   "outputs": [],
   "source": [
    "def non_repeating_character(text):\n",
    "    \n",
    "    try:\n",
    "        \n",
    "        logging.info('Q-22.non_repeating_character function has been called!')\n",
    "    \n",
    "        if type(text) == str:\n",
    "\n",
    "            for i in text:\n",
    "\n",
    "                if text.count(i) == 1:\n",
    "\n",
    "                    return i\n",
    "\n",
    "        else:\n",
    "\n",
    "            return 'Please give the string data type data!'\n",
    "        \n",
    "    except Exception as e:\n",
    "        \n",
    "        logging.error(f'Error occurred in the Q-22.non_repeating_character function : {e}')"
   ]
  },
  {
   "cell_type": "code",
   "execution_count": 62,
   "id": "2ecf506c",
   "metadata": {},
   "outputs": [
    {
     "data": {
      "text/plain": [
       "'n'"
      ]
     },
     "execution_count": 62,
     "metadata": {},
     "output_type": "execute_result"
    }
   ],
   "source": [
    "non_repeating_character('aarryyaant')"
   ]
  },
  {
   "cell_type": "markdown",
   "id": "4bc39bcb",
   "metadata": {},
   "source": [
    "### 23. Write a program to find the prime factors of a given number."
   ]
  },
  {
   "cell_type": "code",
   "execution_count": 63,
   "id": "6961dac4",
   "metadata": {},
   "outputs": [],
   "source": [
    "def finding_prime_factors(num):\n",
    "    \n",
    "    try:\n",
    "        \n",
    "        logging.info('Q-23.finding_prime_factors function has been called!')\n",
    "    \n",
    "        factors = []\n",
    "\n",
    "        if type(num) == int:\n",
    "\n",
    "            for i in range(2,num):\n",
    "\n",
    "                if num%i==0:\n",
    "\n",
    "                    factors.append(i)\n",
    "\n",
    "            prime_factors = []\n",
    "\n",
    "            for i in factors:\n",
    "\n",
    "                for j in range(2,i):\n",
    "\n",
    "                    if i%j==0:\n",
    "\n",
    "                        break\n",
    "\n",
    "                else:\n",
    "\n",
    "                    prime_factors += [i]\n",
    "\n",
    "            return prime_factors\n",
    "\n",
    "        else:\n",
    "\n",
    "            return 'Please give the list data type!'\n",
    "        \n",
    "    except Exception as e:\n",
    "        \n",
    "        logging.error(f'Error occurred in the Q-23.finding_prime_factors function : {e}')"
   ]
  },
  {
   "cell_type": "code",
   "execution_count": 64,
   "id": "ccc604b9",
   "metadata": {},
   "outputs": [
    {
     "data": {
      "text/plain": [
       "[2, 5]"
      ]
     },
     "execution_count": 64,
     "metadata": {},
     "output_type": "execute_result"
    }
   ],
   "source": [
    "finding_prime_factors(40)"
   ]
  },
  {
   "cell_type": "code",
   "execution_count": 65,
   "id": "e5161c1c",
   "metadata": {},
   "outputs": [
    {
     "data": {
      "text/plain": [
       "[2, 5]"
      ]
     },
     "execution_count": 65,
     "metadata": {},
     "output_type": "execute_result"
    }
   ],
   "source": [
    "finding_prime_factors(50)"
   ]
  },
  {
   "cell_type": "code",
   "execution_count": 66,
   "id": "6d0856d6",
   "metadata": {},
   "outputs": [
    {
     "data": {
      "text/plain": [
       "[3, 37]"
      ]
     },
     "execution_count": 66,
     "metadata": {},
     "output_type": "execute_result"
    }
   ],
   "source": [
    "finding_prime_factors(333)"
   ]
  },
  {
   "cell_type": "markdown",
   "id": "ab2f2687",
   "metadata": {},
   "source": [
    "### 24. Implement a function to check if a given number is a power of two."
   ]
  },
  {
   "cell_type": "code",
   "execution_count": 67,
   "id": "8953f622",
   "metadata": {},
   "outputs": [],
   "source": [
    "def power_of_two(num):\n",
    "    \n",
    "    try:\n",
    "        \n",
    "        logging.info('Q-24.power_of_two function has been called!')\n",
    "    \n",
    "        if type(num) == int:\n",
    "\n",
    "            while num>2:\n",
    "\n",
    "                if num%2==0:\n",
    "\n",
    "                    num = num/2\n",
    "\n",
    "                else:\n",
    "\n",
    "                    return 'Number is not a power of 2'\n",
    "\n",
    "        else:\n",
    "\n",
    "            return 'Please give the integer data type data!'\n",
    "\n",
    "        return 'Number is a power of 2'\n",
    "    \n",
    "    except Exception as e:\n",
    "        \n",
    "        logging.error(f'Error occurred in the Q-24.power_of_two function : {e}')"
   ]
  },
  {
   "cell_type": "code",
   "execution_count": 68,
   "id": "e51c22dd",
   "metadata": {},
   "outputs": [
    {
     "data": {
      "text/plain": [
       "'Number is not a power of 2'"
      ]
     },
     "execution_count": 68,
     "metadata": {},
     "output_type": "execute_result"
    }
   ],
   "source": [
    "power_of_two(5)"
   ]
  },
  {
   "cell_type": "code",
   "execution_count": 69,
   "id": "003b0630",
   "metadata": {},
   "outputs": [
    {
     "data": {
      "text/plain": [
       "'Number is not a power of 2'"
      ]
     },
     "execution_count": 69,
     "metadata": {},
     "output_type": "execute_result"
    }
   ],
   "source": [
    "power_of_two(6)"
   ]
  },
  {
   "cell_type": "code",
   "execution_count": 70,
   "id": "c7c957f3",
   "metadata": {},
   "outputs": [
    {
     "data": {
      "text/plain": [
       "'Number is a power of 2'"
      ]
     },
     "execution_count": 70,
     "metadata": {},
     "output_type": "execute_result"
    }
   ],
   "source": [
    "power_of_two(8)"
   ]
  },
  {
   "cell_type": "code",
   "execution_count": 71,
   "id": "6cf23246",
   "metadata": {},
   "outputs": [
    {
     "data": {
      "text/plain": [
       "'Number is a power of 2'"
      ]
     },
     "execution_count": 71,
     "metadata": {},
     "output_type": "execute_result"
    }
   ],
   "source": [
    "power_of_two(1024)"
   ]
  },
  {
   "cell_type": "markdown",
   "id": "c3a55403",
   "metadata": {},
   "source": [
    "### 25. Write a Python program to merge two sorted lists into a single sorted list."
   ]
  },
  {
   "cell_type": "code",
   "execution_count": 72,
   "id": "81df1d1b",
   "metadata": {},
   "outputs": [],
   "source": [
    "def sorting_merge_list(list_1,list_2):\n",
    "    \n",
    "    try:\n",
    "        \n",
    "        logging.info('Q-25.sorting_merge_list function has been called!')\n",
    "    \n",
    "        if type(list_1) == list and type(list_2) == list:\n",
    "\n",
    "            return sorting_list(list_1+list_2) # calling a function created above\n",
    "\n",
    "        else:\n",
    "\n",
    "            return 'Please enter the list data type data!'\n",
    "        \n",
    "    except Exception as e:\n",
    "        \n",
    "        logging.error(f'Error occured in the Q-25.sorting_merge_list function : {e}')"
   ]
  },
  {
   "cell_type": "code",
   "execution_count": 73,
   "id": "77673731",
   "metadata": {},
   "outputs": [
    {
     "data": {
      "text/plain": [
       "[1, 2, 3, 4, 5, 45, 56, 67, 78]"
      ]
     },
     "execution_count": 73,
     "metadata": {},
     "output_type": "execute_result"
    }
   ],
   "source": [
    "sorting_merge_list([1,2,3,4,5],[45,56,67,78])"
   ]
  },
  {
   "cell_type": "code",
   "execution_count": 74,
   "id": "06d24169",
   "metadata": {},
   "outputs": [
    {
     "data": {
      "text/plain": [
       "[1, 2, 3, 4, 12, 23, 34, 45, 56]"
      ]
     },
     "execution_count": 74,
     "metadata": {},
     "output_type": "execute_result"
    }
   ],
   "source": [
    "sorting_merge_list([12,23,34,45,56],[1,2,3,4])"
   ]
  },
  {
   "cell_type": "markdown",
   "id": "210eeb37",
   "metadata": {},
   "source": [
    "### 26. Implement a function to find the mode of a list of numbers"
   ]
  },
  {
   "cell_type": "code",
   "execution_count": 75,
   "id": "97525a73",
   "metadata": {},
   "outputs": [
    {
     "name": "stdout",
     "output_type": "stream",
     "text": [
      "32\n"
     ]
    }
   ],
   "source": [
    "# using the statistics module to find the mode :\n",
    "\n",
    "import statistics\n",
    "\n",
    "list_1 = [1,2,3,4,2,4324,24,32,35,5,32,32]\n",
    "\n",
    "print(statistics.mode(list_1))"
   ]
  },
  {
   "cell_type": "markdown",
   "id": "9d8f6ac3",
   "metadata": {},
   "source": [
    "### 27. Write a program to find the greatest common divisor (GCD) of two numbers."
   ]
  },
  {
   "cell_type": "code",
   "execution_count": 76,
   "id": "0bfc2c4e",
   "metadata": {},
   "outputs": [],
   "source": [
    "# recursion technique is used to find the gcd :\n",
    "\n",
    "def gcd(a,b):\n",
    "    \n",
    "    try:\n",
    "    \n",
    "        if type(a) == int and type(b) == int:\n",
    "\n",
    "            if a==b:\n",
    "\n",
    "                return a\n",
    "\n",
    "            elif a<b:\n",
    "\n",
    "                return gcd(a,b-a)\n",
    "\n",
    "            else:\n",
    "\n",
    "                return gcd(a-b,b)\n",
    "            \n",
    "    except Exception as e:\n",
    "        \n",
    "        logging.error(f'Error occurred in the Q-27.gcd function : {e}')"
   ]
  },
  {
   "cell_type": "code",
   "execution_count": 77,
   "id": "b7cd522d",
   "metadata": {},
   "outputs": [
    {
     "data": {
      "text/plain": [
       "2"
      ]
     },
     "execution_count": 77,
     "metadata": {},
     "output_type": "execute_result"
    }
   ],
   "source": [
    "gcd(2,4)"
   ]
  },
  {
   "cell_type": "code",
   "execution_count": 78,
   "id": "748602ae",
   "metadata": {},
   "outputs": [
    {
     "data": {
      "text/plain": [
       "12"
      ]
     },
     "execution_count": 78,
     "metadata": {},
     "output_type": "execute_result"
    }
   ],
   "source": [
    "gcd(24,36)"
   ]
  },
  {
   "cell_type": "markdown",
   "id": "783f7d32",
   "metadata": {},
   "source": [
    "### 28. Implement a function to calculate the square root of a given number."
   ]
  },
  {
   "cell_type": "code",
   "execution_count": 79,
   "id": "3aed7516",
   "metadata": {},
   "outputs": [
    {
     "name": "stdout",
     "output_type": "stream",
     "text": [
      "Enter the no. to find the square root : 45\n",
      "6.71\n"
     ]
    }
   ],
   "source": [
    "# finding the square root of the number :\n",
    "\n",
    "import math\n",
    "\n",
    "num = int(input('Enter the no. to find the square root : '))\n",
    "\n",
    "print(\"%0.2f\"%math.sqrt(num))"
   ]
  },
  {
   "cell_type": "markdown",
   "id": "df8ecfc4",
   "metadata": {},
   "source": [
    "### 29. Write a Python program to check if a given string is a valid palindrome ignoring non-alphanumeric characters."
   ]
  },
  {
   "cell_type": "code",
   "execution_count": 80,
   "id": "e27ba9be",
   "metadata": {},
   "outputs": [],
   "source": [
    "def palindrome_check(string):\n",
    "    \n",
    "    try:\n",
    "        \n",
    "        logging.info('Q-29.palindrome_check function has been called!')\n",
    "    \n",
    "        if type(string) == str:\n",
    "\n",
    "            string1 = ''\n",
    "\n",
    "            for i in string:\n",
    "\n",
    "                if i.isalnum():\n",
    "\n",
    "                    string1 += i\n",
    "\n",
    "            if string1 == string1[::-1]:\n",
    "\n",
    "                return f'{string} is a palindrome string!'\n",
    "\n",
    "            else:\n",
    "\n",
    "                return f'{string} is not a palindrome string!'\n",
    "\n",
    "        else:\n",
    "\n",
    "            return 'Please give the string data type!'\n",
    "        \n",
    "    except Exception as e:\n",
    "        \n",
    "        logging.error(f'Error occurred in the Q-29.palindrome_check function : {e}')"
   ]
  },
  {
   "cell_type": "code",
   "execution_count": 81,
   "id": "3e9e8004",
   "metadata": {},
   "outputs": [
    {
     "data": {
      "text/plain": [
       "'#ni%t*in is a palindrome string!'"
      ]
     },
     "execution_count": 81,
     "metadata": {},
     "output_type": "execute_result"
    }
   ],
   "source": [
    "palindrome_check('#ni%t*in')"
   ]
  },
  {
   "cell_type": "code",
   "execution_count": 82,
   "id": "8b016fcd",
   "metadata": {},
   "outputs": [
    {
     "data": {
      "text/plain": [
       "'ci*v()ic is a palindrome string!'"
      ]
     },
     "execution_count": 82,
     "metadata": {},
     "output_type": "execute_result"
    }
   ],
   "source": [
    "palindrome_check('ci*v()ic')"
   ]
  },
  {
   "cell_type": "markdown",
   "id": "dfdf8762",
   "metadata": {},
   "source": [
    "### 30. Implement a function to find the minimum element in a rotated sorted list."
   ]
  },
  {
   "cell_type": "code",
   "execution_count": 83,
   "id": "91af30c5",
   "metadata": {},
   "outputs": [],
   "source": [
    "def finding_min_element(list_):\n",
    "    \n",
    "    try:\n",
    "        \n",
    "        logging.info('Q-30.finding_min_element function has been called!')\n",
    "    \n",
    "        if type(list_) == list:\n",
    "\n",
    "            min_ele = list_[0]\n",
    "\n",
    "            for i in range(len(list_)):\n",
    "\n",
    "                if list_[i]<min_ele:\n",
    "\n",
    "                    min_ele = list_[i]\n",
    "\n",
    "            return min_ele\n",
    "\n",
    "        else:\n",
    "\n",
    "            return 'Please give the list data type data!'\n",
    "        \n",
    "    except Exception as e:\n",
    "        \n",
    "        logging.error(f'Error occurred in the Q-30.finding_min_element function : {e}')"
   ]
  },
  {
   "cell_type": "code",
   "execution_count": 84,
   "id": "6ad48a70",
   "metadata": {},
   "outputs": [
    {
     "data": {
      "text/plain": [
       "3"
      ]
     },
     "execution_count": 84,
     "metadata": {},
     "output_type": "execute_result"
    }
   ],
   "source": [
    "finding_min_element([6,7,3,4,5])"
   ]
  },
  {
   "cell_type": "markdown",
   "id": "c73d49d5",
   "metadata": {},
   "source": [
    "### 31. Write a program to find the sum of all even numbers in a list."
   ]
  },
  {
   "cell_type": "code",
   "execution_count": 85,
   "id": "b03890ee",
   "metadata": {},
   "outputs": [],
   "source": [
    "def even_sum(list_):\n",
    "    \n",
    "    try:\n",
    "        \n",
    "        logging.info('Q-31.even_sum function has been called!')\n",
    "    \n",
    "        if type(list_) == list:\n",
    "\n",
    "            sum = 0\n",
    "\n",
    "            for i in list_:\n",
    "\n",
    "                if type(i) == int or type(i) == float:\n",
    "\n",
    "                    if i%2==0:\n",
    "\n",
    "                        sum+=i\n",
    "\n",
    "            return sum\n",
    "\n",
    "        else:\n",
    "\n",
    "            return 'Please give the list data type data!'\n",
    "        \n",
    "    except Exception as e:\n",
    "        \n",
    "        logging.error(f'Error occurred in the Q-31.even_sum function : {e}')"
   ]
  },
  {
   "cell_type": "code",
   "execution_count": 86,
   "id": "1a4c9e66",
   "metadata": {},
   "outputs": [
    {
     "data": {
      "text/plain": [
       "20"
      ]
     },
     "execution_count": 86,
     "metadata": {},
     "output_type": "execute_result"
    }
   ],
   "source": [
    "even_sum([1,2,3,4,5,6,7,8,19,'w','45',7])"
   ]
  },
  {
   "cell_type": "markdown",
   "id": "75582b2b",
   "metadata": {},
   "source": [
    "### 32. Implement a function to calculate the power of a number using recursion."
   ]
  },
  {
   "cell_type": "code",
   "execution_count": 87,
   "id": "3455b654",
   "metadata": {},
   "outputs": [],
   "source": [
    "def power_number(num,power):\n",
    "    \n",
    "    try:\n",
    "    \n",
    "        if power<=1:\n",
    "\n",
    "            return num\n",
    "\n",
    "        else:\n",
    "\n",
    "            return num * power_number(num,power-1)\n",
    "        \n",
    "    except Exception as e:\n",
    "        \n",
    "        logging.error(f'Error occurred in the Q-32.power_number function : {e}')"
   ]
  },
  {
   "cell_type": "code",
   "execution_count": 88,
   "id": "d28a7a18",
   "metadata": {},
   "outputs": [
    {
     "data": {
      "text/plain": [
       "32"
      ]
     },
     "execution_count": 88,
     "metadata": {},
     "output_type": "execute_result"
    }
   ],
   "source": [
    "power_number(2,5)"
   ]
  },
  {
   "cell_type": "code",
   "execution_count": 89,
   "id": "c5967241",
   "metadata": {},
   "outputs": [
    {
     "data": {
      "text/plain": [
       "729"
      ]
     },
     "execution_count": 89,
     "metadata": {},
     "output_type": "execute_result"
    }
   ],
   "source": [
    "power_number(3,6)"
   ]
  },
  {
   "cell_type": "markdown",
   "id": "31408b8a",
   "metadata": {},
   "source": [
    "### 33. Write a Python program to remove duplicates from a list while preserving the order."
   ]
  },
  {
   "cell_type": "code",
   "execution_count": 90,
   "id": "8c88b4f4",
   "metadata": {},
   "outputs": [],
   "source": [
    "def duplicate_remove(list_):\n",
    "    \n",
    "    try:\n",
    "        \n",
    "        logging.info('Q-33.duplicate_remove function has been called!')\n",
    "    \n",
    "        if type(list_) == list:\n",
    "\n",
    "            list_1 = []\n",
    "\n",
    "            for i in list_:\n",
    "\n",
    "                if i not in list_1:\n",
    "\n",
    "                    list_1.append(i)\n",
    "\n",
    "            return list_1\n",
    "\n",
    "        else:\n",
    "\n",
    "            return 'Please give the list data type data!'\n",
    "        \n",
    "    except Exception as e:\n",
    "        \n",
    "        logging.error(f'Error occurred in the Q-33.duplicate_remove function : {e}')"
   ]
  },
  {
   "cell_type": "code",
   "execution_count": 91,
   "id": "28d36bd1",
   "metadata": {},
   "outputs": [
    {
     "data": {
      "text/plain": [
       "[1, 2, 3, 4, 5, 24]"
      ]
     },
     "execution_count": 91,
     "metadata": {},
     "output_type": "execute_result"
    }
   ],
   "source": [
    "duplicate_remove([1,2,3,4,5,2,24,5,2,2,5])"
   ]
  },
  {
   "cell_type": "markdown",
   "id": "fee57f0c",
   "metadata": {},
   "source": [
    "### 34. Implement a function to find the longest common prefix among a list of strings."
   ]
  },
  {
   "cell_type": "code",
   "execution_count": 92,
   "id": "cbe3e673",
   "metadata": {},
   "outputs": [],
   "source": [
    "def longest_prefix(list_):\n",
    "    \n",
    "    try:\n",
    "        \n",
    "        logging.info('Q-34.longest_prefix function has been called!')\n",
    "    \n",
    "        if type(list_) == list:\n",
    "\n",
    "            prefix = ''\n",
    "\n",
    "            list_.sort(key=len)\n",
    "\n",
    "            for i in range(len(list_[0])):\n",
    "\n",
    "                for j in range(1,len(list_)):\n",
    "\n",
    "                    if list_[0][i] != list_[j][i]:\n",
    "\n",
    "                        break\n",
    "\n",
    "                else:\n",
    "\n",
    "                    prefix += list_[0][i]\n",
    "\n",
    "            return prefix\n",
    "\n",
    "        else:\n",
    "\n",
    "            return 'Please give the list data type data!'\n",
    "        \n",
    "    except Exception as e:\n",
    "        \n",
    "        logging.error(f'Error occurred in the Q-34.longest_prefix function : {e}')"
   ]
  },
  {
   "cell_type": "code",
   "execution_count": 93,
   "id": "9be0d9ed",
   "metadata": {},
   "outputs": [
    {
     "data": {
      "text/plain": [
       "'ary'"
      ]
     },
     "execution_count": 93,
     "metadata": {},
     "output_type": "execute_result"
    }
   ],
   "source": [
    "longest_prefix(['aryan','arya','ary'])"
   ]
  },
  {
   "cell_type": "code",
   "execution_count": 94,
   "id": "ecca1da1",
   "metadata": {},
   "outputs": [
    {
     "data": {
      "text/plain": [
       "'ku'"
      ]
     },
     "execution_count": 94,
     "metadata": {},
     "output_type": "execute_result"
    }
   ],
   "source": [
    "longest_prefix(['kumar','kunal','kundan'])"
   ]
  },
  {
   "cell_type": "markdown",
   "id": "7ef70588",
   "metadata": {},
   "source": [
    "### 35. Write a program to check if a given number is a perfect square."
   ]
  },
  {
   "cell_type": "code",
   "execution_count": 95,
   "id": "5dadfc06",
   "metadata": {},
   "outputs": [],
   "source": [
    "import math\n",
    "\n",
    "def square_check(num):\n",
    "    \n",
    "    try:\n",
    "        \n",
    "        logging.info('Q-35.square_check function has been called!')\n",
    "    \n",
    "        if type(num) == int:\n",
    "\n",
    "            sroot = int(math.sqrt(num))\n",
    "\n",
    "            if num == (sroot * sroot):\n",
    "\n",
    "                return f'{num} is a perfect square!'\n",
    "\n",
    "        else:\n",
    "\n",
    "            return 'Please give the integer data type!'\n",
    "\n",
    "\n",
    "        return f'{num} is not a perfect square!'\n",
    "    \n",
    "    except Exception as e:\n",
    "        \n",
    "        logging.error(f'Error occurred in the Q-35.square_check function : {e}')\n"
   ]
  },
  {
   "cell_type": "code",
   "execution_count": 96,
   "id": "bc1442e1",
   "metadata": {},
   "outputs": [
    {
     "data": {
      "text/plain": [
       "'89 is not a perfect square!'"
      ]
     },
     "execution_count": 96,
     "metadata": {},
     "output_type": "execute_result"
    }
   ],
   "source": [
    "square_check(89)"
   ]
  },
  {
   "cell_type": "code",
   "execution_count": 97,
   "id": "47766aab",
   "metadata": {},
   "outputs": [
    {
     "data": {
      "text/plain": [
       "'25 is a perfect square!'"
      ]
     },
     "execution_count": 97,
     "metadata": {},
     "output_type": "execute_result"
    }
   ],
   "source": [
    "square_check(25)"
   ]
  },
  {
   "cell_type": "markdown",
   "id": "340be98c",
   "metadata": {},
   "source": [
    "### 36. Implement a function to calculate the product of all elements in a list."
   ]
  },
  {
   "cell_type": "code",
   "execution_count": 98,
   "id": "62773e60",
   "metadata": {},
   "outputs": [
    {
     "data": {
      "text/plain": [
       "120"
      ]
     },
     "execution_count": 98,
     "metadata": {},
     "output_type": "execute_result"
    }
   ],
   "source": [
    "import math\n",
    "\n",
    "list_ = [2,3,4,5]\n",
    "\n",
    "math.prod(list_)"
   ]
  },
  {
   "cell_type": "code",
   "execution_count": 99,
   "id": "100cf307",
   "metadata": {},
   "outputs": [],
   "source": [
    "def product(list_):\n",
    "    \n",
    "    try:\n",
    "        \n",
    "        logging.info('Q-36.product function has been called!')\n",
    "    \n",
    "        if type(list_) == list:\n",
    "\n",
    "            prod = 1\n",
    "\n",
    "            for i in list_:\n",
    "\n",
    "                if type(i) == int or type(i) == float:\n",
    "\n",
    "                    prod *= i\n",
    "\n",
    "            return prod\n",
    "\n",
    "        else:\n",
    "\n",
    "            return 'Please give the list data type data!'\n",
    "        \n",
    "    except Exception as e:\n",
    "        \n",
    "        logging.error(f'Error occurred in the Q-36.product function : {e}')"
   ]
  },
  {
   "cell_type": "code",
   "execution_count": 100,
   "id": "4e143b60",
   "metadata": {},
   "outputs": [
    {
     "data": {
      "text/plain": [
       "216"
      ]
     },
     "execution_count": 100,
     "metadata": {},
     "output_type": "execute_result"
    }
   ],
   "source": [
    "product([1,2,3,4,9,'5'])"
   ]
  },
  {
   "cell_type": "markdown",
   "id": "314ae691",
   "metadata": {},
   "source": [
    "### 37. Write a Python program to reverse the order of words in a sentence while preserving the word order."
   ]
  },
  {
   "cell_type": "code",
   "execution_count": 101,
   "id": "6d13c94b",
   "metadata": {},
   "outputs": [],
   "source": [
    "def reverse_the_words(sentence):\n",
    "    \n",
    "    try:\n",
    "        \n",
    "        logging.info('Q-37.reverse_the_words function has been called!')\n",
    "    \n",
    "        if type(sentence) == str:\n",
    "\n",
    "            return \" \".join(sentence.split()[::-1])\n",
    "\n",
    "        else:\n",
    "\n",
    "            return 'Please give the string data type data!'\n",
    "        \n",
    "    except Exception as e:\n",
    "        \n",
    "        logging.error(f'Error occurred in the Q-37.reverse_the_words function : {e}')"
   ]
  },
  {
   "cell_type": "code",
   "execution_count": 102,
   "id": "0eed3637",
   "metadata": {},
   "outputs": [
    {
     "data": {
      "text/plain": [
       "'you! are how man Hello'"
      ]
     },
     "execution_count": 102,
     "metadata": {},
     "output_type": "execute_result"
    }
   ],
   "source": [
    "reverse_the_words('Hello man how are you!')"
   ]
  },
  {
   "cell_type": "markdown",
   "id": "fe1e3ed5",
   "metadata": {},
   "source": [
    "### 38. Implement a function to find the missing number in a given list of consecutive numbers."
   ]
  },
  {
   "cell_type": "code",
   "execution_count": 103,
   "id": "dd54cc63",
   "metadata": {},
   "outputs": [],
   "source": [
    "def missing_find(list_):\n",
    "    \n",
    "    try:\n",
    "        \n",
    "        logging.info('Q-38.missing.find function has been called!')\n",
    "    \n",
    "        if type(list_) == list:\n",
    "\n",
    "            min_ele = min(list_)\n",
    "            max_ele = max(list_)\n",
    "\n",
    "            for i in range(min_ele,max_ele):\n",
    "\n",
    "                if i not in set(list_):\n",
    "\n",
    "                    return i\n",
    "\n",
    "        else:\n",
    "\n",
    "            return 'Please give the list data type data!'\n",
    "        \n",
    "    except Exception as e:\n",
    "        \n",
    "        logging.error(f'Error occurred in the Q-38.missing.find function : {e}')\n",
    "                "
   ]
  },
  {
   "cell_type": "code",
   "execution_count": 104,
   "id": "abf559ea",
   "metadata": {},
   "outputs": [
    {
     "data": {
      "text/plain": [
       "6"
      ]
     },
     "execution_count": 104,
     "metadata": {},
     "output_type": "execute_result"
    }
   ],
   "source": [
    "missing_find([1,2,3,4,5,7])"
   ]
  },
  {
   "cell_type": "code",
   "execution_count": 105,
   "id": "27d0a9ed",
   "metadata": {},
   "outputs": [
    {
     "data": {
      "text/plain": [
       "24"
      ]
     },
     "execution_count": 105,
     "metadata": {},
     "output_type": "execute_result"
    }
   ],
   "source": [
    "missing_find([23,25,26,27])"
   ]
  },
  {
   "cell_type": "markdown",
   "id": "1d04fb9f",
   "metadata": {},
   "source": [
    "### 39. Write a program to find the sum of digits of a given number."
   ]
  },
  {
   "cell_type": "code",
   "execution_count": 106,
   "id": "6dc08680",
   "metadata": {},
   "outputs": [],
   "source": [
    "def find_sum_digits(num):\n",
    "    \n",
    "    try:\n",
    "        \n",
    "        logging.info('Q-39.find_sum_digits function has been called!')\n",
    "    \n",
    "        if type(num) == int:\n",
    "\n",
    "            sum = 0\n",
    "\n",
    "            for i in str(num):\n",
    "\n",
    "                sum += int(i)\n",
    "\n",
    "            return sum\n",
    "\n",
    "        else:\n",
    "\n",
    "            return 'Please give the integer data type!'\n",
    "        \n",
    "    except Exception as e:\n",
    "        \n",
    "        logging.error(f'Error occurred in the Q-39.find_sum_digits function : {e}')"
   ]
  },
  {
   "cell_type": "code",
   "execution_count": 107,
   "id": "d26b1a71",
   "metadata": {},
   "outputs": [
    {
     "data": {
      "text/plain": [
       "15"
      ]
     },
     "execution_count": 107,
     "metadata": {},
     "output_type": "execute_result"
    }
   ],
   "source": [
    "find_sum_digits(4524)"
   ]
  },
  {
   "cell_type": "markdown",
   "id": "3706621f",
   "metadata": {},
   "source": [
    "### 40. Implement a function to check if a given string is a valid palindrome considering case sensitivity."
   ]
  },
  {
   "cell_type": "code",
   "execution_count": 108,
   "id": "e4dbf0a6",
   "metadata": {},
   "outputs": [],
   "source": [
    "def palindrome_check(string):\n",
    "    \n",
    "    try:\n",
    "        \n",
    "        logging.info('palindrome_check function has been called!')\n",
    "    \n",
    "        if type(string) == str:\n",
    "\n",
    "            if string == string[::-1]:\n",
    "\n",
    "                return f'{string} is a palindrome!'\n",
    "\n",
    "            else:\n",
    "\n",
    "                return f'{string} is not a palindrome!'\n",
    "\n",
    "        else:\n",
    "\n",
    "            return 'Please give the string data type data!'\n",
    "        \n",
    "    except Exception as e:\n",
    "        \n",
    "        logging.error(f'Error occurred in the palindrome_check function : {e}')"
   ]
  },
  {
   "cell_type": "code",
   "execution_count": 109,
   "id": "3a2ab9b3",
   "metadata": {},
   "outputs": [
    {
     "data": {
      "text/plain": [
       "'nitiN is not a palindrome!'"
      ]
     },
     "execution_count": 109,
     "metadata": {},
     "output_type": "execute_result"
    }
   ],
   "source": [
    "palindrome_check('nitiN')"
   ]
  },
  {
   "cell_type": "markdown",
   "id": "ca5ec5ce",
   "metadata": {},
   "source": [
    "### 41. Write a Python program to find the smallest missing positive integer in a list."
   ]
  },
  {
   "cell_type": "code",
   "execution_count": 110,
   "id": "a8c0e71b",
   "metadata": {},
   "outputs": [],
   "source": [
    "def missing_find(list_):\n",
    "    \n",
    "    try:\n",
    "        \n",
    "        logging.info('Q-41.missing_find function has been called!')\n",
    "    \n",
    "        if type(list_) == list:\n",
    "\n",
    "            m = max(list_)\n",
    "\n",
    "            count_array = [0] * (m+1)\n",
    "\n",
    "            for i in range(1,len(count_array)):\n",
    "\n",
    "                if i in list_:\n",
    "\n",
    "                    count_array[i] = list_.count(i)\n",
    "\n",
    "            for i in range(1,len(count_array)):\n",
    "\n",
    "                if count_array[i] == 0:\n",
    "\n",
    "                    return i\n",
    "\n",
    "            return 'Not available!'\n",
    "\n",
    "        else:\n",
    "\n",
    "            return 'Please give the list data type data!'\n",
    "        \n",
    "    except Exception as e:\n",
    "        \n",
    "        logging.error(f'Error occurred in the Q-41.missing_find function : {e}')"
   ]
  },
  {
   "cell_type": "code",
   "execution_count": 111,
   "id": "3a4dc9b9",
   "metadata": {},
   "outputs": [
    {
     "data": {
      "text/plain": [
       "2"
      ]
     },
     "execution_count": 111,
     "metadata": {},
     "output_type": "execute_result"
    }
   ],
   "source": [
    "missing_find([0,-10,1,3,-20])"
   ]
  },
  {
   "cell_type": "code",
   "execution_count": 112,
   "id": "a3061f5c",
   "metadata": {},
   "outputs": [
    {
     "data": {
      "text/plain": [
       "1"
      ]
     },
     "execution_count": 112,
     "metadata": {},
     "output_type": "execute_result"
    }
   ],
   "source": [
    "missing_find([-1,-2,-3,4])"
   ]
  },
  {
   "cell_type": "markdown",
   "id": "4e33b8b0",
   "metadata": {},
   "source": [
    "### 42. Implement a function to find the longest palindrome substring in a given string."
   ]
  },
  {
   "cell_type": "code",
   "execution_count": 113,
   "id": "44cfcdcb",
   "metadata": {},
   "outputs": [],
   "source": [
    "def palindrome_substring(string):\n",
    "    \n",
    "    try:\n",
    "        \n",
    "        logging.info('Q-42.palindrome_substring function has been called!')\n",
    "    \n",
    "        if type(string) == str:\n",
    "\n",
    "            string1 = ''\n",
    "\n",
    "            for i in string:\n",
    "\n",
    "                string1 += i\n",
    "\n",
    "                if len(string1) > 1:\n",
    "\n",
    "                    if string1 == string1[::-1]:\n",
    "\n",
    "                        return string1\n",
    "            else:\n",
    "\n",
    "                return string[0]\n",
    "\n",
    "        else:\n",
    "\n",
    "            return 'Please give the string data type data!'\n",
    "        \n",
    "    except Exception as e:\n",
    "        \n",
    "        logging.error(f'Error occurred in the Q-42.palindrome_substring function : {e}')"
   ]
  },
  {
   "cell_type": "code",
   "execution_count": 114,
   "id": "38d4d280",
   "metadata": {},
   "outputs": [
    {
     "data": {
      "text/plain": [
       "'civic'"
      ]
     },
     "execution_count": 114,
     "metadata": {},
     "output_type": "execute_result"
    }
   ],
   "source": [
    "palindrome_substring('civic_being')"
   ]
  },
  {
   "cell_type": "markdown",
   "id": "1cd6c78c",
   "metadata": {},
   "source": [
    "### 43. Write a program to find the number of occurrences of a given element in a list."
   ]
  },
  {
   "cell_type": "code",
   "execution_count": 115,
   "id": "08dea99c",
   "metadata": {},
   "outputs": [],
   "source": [
    "def occurence_finder(list_):\n",
    "    \n",
    "    try:\n",
    "        \n",
    "        logging.info('Q-43.occurence_finder function has been called!')\n",
    "    \n",
    "        if type(list_) == list:\n",
    "\n",
    "            dict_ = {}\n",
    "\n",
    "            for i in range(len(list_)):\n",
    "\n",
    "                count = 0\n",
    "\n",
    "                for j in range(i,len(list_)):\n",
    "\n",
    "                    if list_[i] == list_[j]:\n",
    "\n",
    "                        count+=1\n",
    "\n",
    "                if list_[i] not in dict_:\n",
    "                    dict_[list_[i]] = count\n",
    "\n",
    "            return dict_\n",
    "\n",
    "        else:\n",
    "\n",
    "            return 'Please give the list data type data!'\n",
    "        \n",
    "    except Exception as e:\n",
    "        \n",
    "        logging.error(f'Error occurred in the Q-43.occurence_finder function : {e}')"
   ]
  },
  {
   "cell_type": "code",
   "execution_count": 116,
   "id": "2bbcbf20",
   "metadata": {},
   "outputs": [
    {
     "data": {
      "text/plain": [
       "{1: 1, 2: 2, 3: 2, 4: 2, 5: 1}"
      ]
     },
     "execution_count": 116,
     "metadata": {},
     "output_type": "execute_result"
    }
   ],
   "source": [
    "occurence_finder([1,2,3,4,5,3,4,2])"
   ]
  },
  {
   "cell_type": "markdown",
   "id": "9ae27ba8",
   "metadata": {},
   "source": [
    "### 44. Implement a function to check if a given number is a perfect number."
   ]
  },
  {
   "cell_type": "code",
   "execution_count": 117,
   "id": "29c7e660",
   "metadata": {},
   "outputs": [],
   "source": [
    "def perfect_number(num):\n",
    "    \n",
    "    try:\n",
    "        \n",
    "        logging.info('Q-44.perfect_number function has been called!')\n",
    "    \n",
    "        if type(num) == int:\n",
    "\n",
    "            sum = 1\n",
    "\n",
    "            for i in range(2,num):\n",
    "\n",
    "                if num%i==0:\n",
    "\n",
    "                    sum += i\n",
    "\n",
    "            if sum == num:\n",
    "\n",
    "                return f'{num} is a perfect number!'\n",
    "\n",
    "            else:\n",
    "\n",
    "                return f'{num} is not a perfect number!'\n",
    "\n",
    "        else:\n",
    "\n",
    "            return 'Please give the integer data type data!'\n",
    "        \n",
    "    except Exception as e:\n",
    "        \n",
    "        logging.error(f'Error occurred in the Q-44.perfect_number function : {e}')\n",
    "        "
   ]
  },
  {
   "cell_type": "code",
   "execution_count": 118,
   "id": "647f1d4b",
   "metadata": {},
   "outputs": [
    {
     "data": {
      "text/plain": [
       "'6 is a perfect number!'"
      ]
     },
     "execution_count": 118,
     "metadata": {},
     "output_type": "execute_result"
    }
   ],
   "source": [
    "perfect_number(6)"
   ]
  },
  {
   "cell_type": "code",
   "execution_count": 119,
   "id": "7fc5d60c",
   "metadata": {},
   "outputs": [
    {
     "data": {
      "text/plain": [
       "'27 is not a perfect number!'"
      ]
     },
     "execution_count": 119,
     "metadata": {},
     "output_type": "execute_result"
    }
   ],
   "source": [
    "perfect_number(27)"
   ]
  },
  {
   "cell_type": "code",
   "execution_count": 120,
   "id": "438d1976",
   "metadata": {},
   "outputs": [
    {
     "data": {
      "text/plain": [
       "'28 is a perfect number!'"
      ]
     },
     "execution_count": 120,
     "metadata": {},
     "output_type": "execute_result"
    }
   ],
   "source": [
    "perfect_number(28)"
   ]
  },
  {
   "cell_type": "markdown",
   "id": "9bea9cc7",
   "metadata": {},
   "source": [
    "### 45. Write a Python program to remove all duplicates from a string."
   ]
  },
  {
   "cell_type": "code",
   "execution_count": 121,
   "id": "257d73fd",
   "metadata": {},
   "outputs": [],
   "source": [
    "def remove_duplicates(string):\n",
    "    \n",
    "    try:\n",
    "        \n",
    "        logging.info('Q-45.remove_duplicates function has been called!')\n",
    "    \n",
    "        if type(string) == str:\n",
    "\n",
    "            list_ = list(string)\n",
    "\n",
    "            for i in range(len(list_)):\n",
    "\n",
    "                for j in range(i+1,len(list_)):\n",
    "\n",
    "                    if list_[i] == list_[j]:\n",
    "\n",
    "                        list_[j] = ''\n",
    "\n",
    "            return \"\".join(list_)\n",
    "\n",
    "        else:\n",
    "\n",
    "            return 'Please give the string data type data!'\n",
    "        \n",
    "    except Exception as e:\n",
    "        \n",
    "        logging.error(f'Error occurred in the Q-45.remove_duplicates function : {e}')"
   ]
  },
  {
   "cell_type": "code",
   "execution_count": 122,
   "id": "132af347",
   "metadata": {},
   "outputs": [
    {
     "data": {
      "text/plain": [
       "'aryn'"
      ]
     },
     "execution_count": 122,
     "metadata": {},
     "output_type": "execute_result"
    }
   ],
   "source": [
    "remove_duplicates('aaryaan')"
   ]
  },
  {
   "cell_type": "markdown",
   "id": "ec175282",
   "metadata": {},
   "source": [
    "### 46. Implement a function to find the first missing positive"
   ]
  },
  {
   "cell_type": "code",
   "execution_count": 123,
   "id": "8c02c3ee",
   "metadata": {},
   "outputs": [],
   "source": [
    "def missing_find(list_):\n",
    "    \n",
    "    try:\n",
    "        \n",
    "        logging.info('Q-46.missing_find function has been called!')\n",
    "    \n",
    "        if type(list_) == list:\n",
    "\n",
    "            m = max(list_)\n",
    "\n",
    "            count_array = [0] * (m+1)\n",
    "\n",
    "            for i in range(1,len(count_array)):\n",
    "\n",
    "                if i in list_:\n",
    "\n",
    "                    count_array[i] = list_.count(i)\n",
    "\n",
    "            for i in range(1,len(count_array)):\n",
    "\n",
    "                if count_array[i] == 0:\n",
    "\n",
    "                    return i\n",
    "\n",
    "            return 'Not available!'\n",
    "\n",
    "        else:\n",
    "\n",
    "            return 'Please give the list data type data!'\n",
    "        \n",
    "    except Exception as e:\n",
    "        \n",
    "        logging.error(f'Error occurred in the Q-46.missing_find function : {e}')"
   ]
  },
  {
   "cell_type": "code",
   "execution_count": 124,
   "id": "0c8c6d05",
   "metadata": {},
   "outputs": [
    {
     "data": {
      "text/plain": [
       "1"
      ]
     },
     "execution_count": 124,
     "metadata": {},
     "output_type": "execute_result"
    }
   ],
   "source": [
    "missing_find([-1,-2,2,3,4,5])"
   ]
  },
  {
   "cell_type": "code",
   "execution_count": 125,
   "id": "9674ce6b",
   "metadata": {},
   "outputs": [
    {
     "data": {
      "text/plain": [
       "2"
      ]
     },
     "execution_count": 125,
     "metadata": {},
     "output_type": "execute_result"
    }
   ],
   "source": [
    "missing_find([-4,-9,1,3,4,5,6,8])"
   ]
  },
  {
   "attachments": {
    "image.png": {
     "image/png": "[encoded data removed]"
    }
   },
   "cell_type": "markdown",
   "id": "089bf375",
   "metadata": {},
   "source": [
    "## Log File :\n",
    "\n",
    "![image.png](attachment:image.png)"
   ]
  }
 ],
 "metadata": {
  "kernelspec": {
   "display_name": "Python 3",
   "language": "python",
   "name": "python3"
  },
  "language_info": {
   "codemirror_mode": {
    "name": "ipython",
    "version": 3
   },
   "file_extension": ".py",
   "mimetype": "text/x-python",
   "name": "python",
   "nbconvert_exporter": "python",
   "pygments_lexer": "ipython3",
   "version": "3.8.8"
  },
  "varInspector": {
   "cols": {
    "lenName": 16,
    "lenType": 16,
    "lenVar": 40
   },
   "kernels_config": {
    "python": {
     "delete_cmd_postfix": "",
     "delete_cmd_prefix": "del ",
     "library": "var_list.py",
     "varRefreshCmd": "print(var_dic_list())"
    },
    "r": {
     "delete_cmd_postfix": ") ",
     "delete_cmd_prefix": "rm(",
     "library": "var_list.r",
     "varRefreshCmd": "cat(var_dic_list()) "
    }
   },
   "types_to_exclude": [
    "module",
    "function",
    "builtin_function_or_method",
    "instance",
    "_Feature"
   ],
   "window_display": false
  }
 },
 "nbformat": 4,
 "nbformat_minor": 5
}
