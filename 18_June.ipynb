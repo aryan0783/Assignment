{
 "cells": [
  {
   "cell_type": "markdown",
   "id": "9164708a",
   "metadata": {},
   "source": [
    "### 1. What is the role of the 'else' block in a try-except statement? Provide an example scenario where it would be useful."
   ]
  },
  {
   "cell_type": "markdown",
   "id": "6ab7dd61",
   "metadata": {},
   "source": [
    "- It can be used in the scenerio where the try block works smoothly without producting any error.It can be paired up with the execution of the try block."
   ]
  },
  {
   "cell_type": "code",
   "execution_count": 2,
   "id": "02acd711",
   "metadata": {},
   "outputs": [],
   "source": [
    "# eg :\n",
    "# here i need to show the try block executed successfully!\n",
    "\n",
    "def division(a,b):\n",
    "    try:\n",
    "        c = a/b\n",
    "    except ZeroDivisionError:\n",
    "        print('Zero Division Error occured!')\n",
    "    else:\n",
    "        print('Try block Executed smoothly')\n",
    "        print(\"Value of Division is : \",c)"
   ]
  },
  {
   "cell_type": "code",
   "execution_count": 3,
   "id": "499f9656",
   "metadata": {},
   "outputs": [
    {
     "name": "stdout",
     "output_type": "stream",
     "text": [
      "Try block Executed smoothly\n",
      "Value of Division is :  0.6666666666666666\n"
     ]
    }
   ],
   "source": [
    "division(4,6)"
   ]
  },
  {
   "cell_type": "code",
   "execution_count": 4,
   "id": "50ab65e2",
   "metadata": {},
   "outputs": [
    {
     "name": "stdout",
     "output_type": "stream",
     "text": [
      "Zero Division Error occured!\n"
     ]
    }
   ],
   "source": [
    "division(4,0)"
   ]
  },
  {
   "cell_type": "markdown",
   "id": "35400e75",
   "metadata": {},
   "source": [
    "### 2. Can a try-except block be nested inside another try-except block? Explain with an example."
   ]
  },
  {
   "cell_type": "code",
   "execution_count": 6,
   "id": "5b3dbd9c",
   "metadata": {},
   "outputs": [],
   "source": [
    "def sum_of_digits(a):\n",
    "    try:\n",
    "        value = int(a)\n",
    "        \n",
    "        try:\n",
    "            sum_ = 0\n",
    "            for i in str(value):\n",
    "                sum_ += int(i)\n",
    "            print(f\"The addition of the digits : {sum_}\")\n",
    "            \n",
    "        except Exception as e:\n",
    "            print(f\"Error occured : {e}\")\n",
    "        \n",
    "    except Exception as e:\n",
    "        print(f\"Error occured : {e}\")"
   ]
  },
  {
   "cell_type": "code",
   "execution_count": 7,
   "id": "6a046a2e",
   "metadata": {},
   "outputs": [
    {
     "name": "stdout",
     "output_type": "stream",
     "text": [
      "The addition of the digits : 3\n"
     ]
    }
   ],
   "source": [
    "sum_of_digits(1020)"
   ]
  },
  {
   "cell_type": "code",
   "execution_count": 9,
   "id": "80ac7f70",
   "metadata": {},
   "outputs": [
    {
     "name": "stdout",
     "output_type": "stream",
     "text": [
      "Error occured : invalid literal for int() with base 10: 'dfjhas'\n"
     ]
    }
   ],
   "source": [
    "sum_of_digits('dfjhas')"
   ]
  },
  {
   "cell_type": "markdown",
   "id": "c8c16da5",
   "metadata": {},
   "source": [
    "### 3. How can you create a custom exception class in Python? Provide an example that demonstrates its usage."
   ]
  },
  {
   "cell_type": "markdown",
   "id": "258efa0b",
   "metadata": {},
   "source": [
    "- Creation of custom exception class is possible by the help of the raise keyword."
   ]
  },
  {
   "cell_type": "code",
   "execution_count": 18,
   "id": "10f60f76",
   "metadata": {},
   "outputs": [],
   "source": [
    "class TypeofError(Exception):\n",
    "    \"To check Value Entered is not appropriate\"\n",
    "    pass"
   ]
  },
  {
   "cell_type": "code",
   "execution_count": 19,
   "id": "c520ed21",
   "metadata": {},
   "outputs": [],
   "source": [
    "def iter_digits(a):\n",
    "    \n",
    "    try:\n",
    "        if a.isdigit():\n",
    "            for i in str(a):\n",
    "                print(i)\n",
    "            \n",
    "        else:\n",
    "            raise TypeofError('Value Entered is not integer!')\n",
    "            \n",
    "    except Exception as e:\n",
    "        print(e)"
   ]
  },
  {
   "cell_type": "code",
   "execution_count": 20,
   "id": "6d8c2c0e",
   "metadata": {},
   "outputs": [
    {
     "name": "stdout",
     "output_type": "stream",
     "text": [
      "Value Entered is not integer!\n"
     ]
    }
   ],
   "source": [
    "iter_digits('asdga')"
   ]
  },
  {
   "cell_type": "markdown",
   "id": "18c96f21",
   "metadata": {},
   "source": [
    "### 4. What are some common exceptions that are built-in to Python?"
   ]
  },
  {
   "cell_type": "markdown",
   "id": "eb06bb38",
   "metadata": {},
   "source": [
    "### Common Exceptions that are built in to Python are :\n",
    "\n",
    "- ValueError\n",
    "- TypeError\n",
    "- ZeroDivisionError\n",
    "- NameError\n",
    "- IndentationError\n",
    "- KeyboardInterrupt\n",
    "- ModuleNotFoundError\n",
    "- IndexError\n",
    "- KeyError\n",
    "- StopIteration\n",
    "- SyntaxError\n",
    "- UnicodeError"
   ]
  },
  {
   "cell_type": "code",
   "execution_count": 1,
   "id": "ccb30d54",
   "metadata": {},
   "outputs": [
    {
     "name": "stdout",
     "output_type": "stream",
     "text": [
      "Enter the number : df\n"
     ]
    },
    {
     "ename": "ValueError",
     "evalue": "invalid literal for int() with base 10: 'df'",
     "output_type": "error",
     "traceback": [
      "\u001b[1;31m---------------------------------------------------------------------------\u001b[0m",
      "\u001b[1;31mValueError\u001b[0m                                Traceback (most recent call last)",
      "\u001b[1;32m<ipython-input-1-6baf2d1b9875>\u001b[0m in \u001b[0;36m<module>\u001b[1;34m\u001b[0m\n\u001b[0;32m      1\u001b[0m \u001b[1;31m# ValueError\u001b[0m\u001b[1;33m\u001b[0m\u001b[1;33m\u001b[0m\u001b[1;33m\u001b[0m\u001b[0m\n\u001b[0;32m      2\u001b[0m \u001b[1;33m\u001b[0m\u001b[0m\n\u001b[1;32m----> 3\u001b[1;33m \u001b[0mnum\u001b[0m \u001b[1;33m=\u001b[0m \u001b[0mint\u001b[0m\u001b[1;33m(\u001b[0m\u001b[0minput\u001b[0m\u001b[1;33m(\u001b[0m\u001b[1;34m\"Enter the number : \"\u001b[0m\u001b[1;33m)\u001b[0m\u001b[1;33m)\u001b[0m\u001b[1;33m\u001b[0m\u001b[1;33m\u001b[0m\u001b[0m\n\u001b[0m",
      "\u001b[1;31mValueError\u001b[0m: invalid literal for int() with base 10: 'df'"
     ]
    }
   ],
   "source": [
    "# ValueError\n",
    "\n",
    "num = int(input(\"Enter the number : \"))"
   ]
  },
  {
   "cell_type": "code",
   "execution_count": 4,
   "id": "d0d28e6d",
   "metadata": {},
   "outputs": [
    {
     "ename": "TypeError",
     "evalue": "can only concatenate str (not \"int\") to str",
     "output_type": "error",
     "traceback": [
      "\u001b[1;31m---------------------------------------------------------------------------\u001b[0m",
      "\u001b[1;31mTypeError\u001b[0m                                 Traceback (most recent call last)",
      "\u001b[1;32m<ipython-input-4-27f22cba3679>\u001b[0m in \u001b[0;36m<module>\u001b[1;34m\u001b[0m\n\u001b[0;32m      4\u001b[0m \u001b[0mlastname\u001b[0m \u001b[1;33m=\u001b[0m \u001b[1;36m435\u001b[0m\u001b[1;33m\u001b[0m\u001b[1;33m\u001b[0m\u001b[0m\n\u001b[0;32m      5\u001b[0m \u001b[1;33m\u001b[0m\u001b[0m\n\u001b[1;32m----> 6\u001b[1;33m \u001b[0mprint\u001b[0m\u001b[1;33m(\u001b[0m\u001b[0mfirstname\u001b[0m \u001b[1;33m+\u001b[0m \u001b[1;34m' '\u001b[0m \u001b[1;33m+\u001b[0m \u001b[0mlastname\u001b[0m\u001b[1;33m)\u001b[0m\u001b[1;33m\u001b[0m\u001b[1;33m\u001b[0m\u001b[0m\n\u001b[0m",
      "\u001b[1;31mTypeError\u001b[0m: can only concatenate str (not \"int\") to str"
     ]
    }
   ],
   "source": [
    "# TypeError\n",
    "\n",
    "firstname = 'krish'\n",
    "lastname = 435\n",
    "\n",
    "print(firstname + ' ' + lastname)"
   ]
  },
  {
   "cell_type": "code",
   "execution_count": 5,
   "id": "41077750",
   "metadata": {},
   "outputs": [
    {
     "name": "stdout",
     "output_type": "stream",
     "text": [
      "Enter the no. : 43\n",
      "Enter the no. : 0\n"
     ]
    },
    {
     "ename": "ZeroDivisionError",
     "evalue": "division by zero",
     "output_type": "error",
     "traceback": [
      "\u001b[1;31m---------------------------------------------------------------------------\u001b[0m",
      "\u001b[1;31mZeroDivisionError\u001b[0m                         Traceback (most recent call last)",
      "\u001b[1;32m<ipython-input-5-2df5c301b012>\u001b[0m in \u001b[0;36m<module>\u001b[1;34m\u001b[0m\n\u001b[0;32m      4\u001b[0m \u001b[0mnum2\u001b[0m \u001b[1;33m=\u001b[0m \u001b[0mint\u001b[0m\u001b[1;33m(\u001b[0m\u001b[0minput\u001b[0m\u001b[1;33m(\u001b[0m\u001b[1;34m\"Enter the no. : \"\u001b[0m\u001b[1;33m)\u001b[0m\u001b[1;33m)\u001b[0m\u001b[1;33m\u001b[0m\u001b[1;33m\u001b[0m\u001b[0m\n\u001b[0;32m      5\u001b[0m \u001b[1;33m\u001b[0m\u001b[0m\n\u001b[1;32m----> 6\u001b[1;33m \u001b[0mprint\u001b[0m\u001b[1;33m(\u001b[0m\u001b[0mnum1\u001b[0m\u001b[1;33m/\u001b[0m\u001b[0mnum2\u001b[0m\u001b[1;33m)\u001b[0m\u001b[1;33m\u001b[0m\u001b[1;33m\u001b[0m\u001b[0m\n\u001b[0m",
      "\u001b[1;31mZeroDivisionError\u001b[0m: division by zero"
     ]
    }
   ],
   "source": [
    "# ZeroDivisionError\n",
    "\n",
    "num1 = int(input(\"Enter the no. : \"))\n",
    "num2 = int(input(\"Enter the no. : \"))\n",
    "\n",
    "print(num1/num2)"
   ]
  },
  {
   "cell_type": "code",
   "execution_count": 6,
   "id": "964c56cf",
   "metadata": {},
   "outputs": [
    {
     "ename": "NameError",
     "evalue": "name 'firstnam' is not defined",
     "output_type": "error",
     "traceback": [
      "\u001b[1;31m---------------------------------------------------------------------------\u001b[0m",
      "\u001b[1;31mNameError\u001b[0m                                 Traceback (most recent call last)",
      "\u001b[1;32m<ipython-input-6-832d74c3cc70>\u001b[0m in \u001b[0;36m<module>\u001b[1;34m\u001b[0m\n\u001b[0;32m      4\u001b[0m \u001b[0mlastname\u001b[0m \u001b[1;33m=\u001b[0m \u001b[1;36m435\u001b[0m\u001b[1;33m\u001b[0m\u001b[1;33m\u001b[0m\u001b[0m\n\u001b[0;32m      5\u001b[0m \u001b[1;33m\u001b[0m\u001b[0m\n\u001b[1;32m----> 6\u001b[1;33m \u001b[0mprint\u001b[0m\u001b[1;33m(\u001b[0m\u001b[0mfirstnam\u001b[0m \u001b[1;33m+\u001b[0m \u001b[1;34m' '\u001b[0m \u001b[1;33m+\u001b[0m \u001b[0mlastname\u001b[0m\u001b[1;33m)\u001b[0m\u001b[1;33m\u001b[0m\u001b[1;33m\u001b[0m\u001b[0m\n\u001b[0m",
      "\u001b[1;31mNameError\u001b[0m: name 'firstnam' is not defined"
     ]
    }
   ],
   "source": [
    "# NameError \n",
    "\n",
    "firstname = 'krish'\n",
    "lastname = 435\n",
    "\n",
    "print(firstnam + ' ' + lastname)"
   ]
  },
  {
   "cell_type": "code",
   "execution_count": 8,
   "id": "097f6f81",
   "metadata": {},
   "outputs": [
    {
     "ename": "IndentationError",
     "evalue": "expected an indented block (<ipython-input-8-2cfd5b9fa4b8>, line 5)",
     "output_type": "error",
     "traceback": [
      "\u001b[1;36m  File \u001b[1;32m\"<ipython-input-8-2cfd5b9fa4b8>\"\u001b[1;36m, line \u001b[1;32m5\u001b[0m\n\u001b[1;33m    return firstname + ' ' + lastname\u001b[0m\n\u001b[1;37m    ^\u001b[0m\n\u001b[1;31mIndentationError\u001b[0m\u001b[1;31m:\u001b[0m expected an indented block\n"
     ]
    }
   ],
   "source": [
    "# IndentationError\n",
    "\n",
    "def name_printing(firstname,lastname):\n",
    "    \n",
    "return firstname + ' ' + lastname"
   ]
  },
  {
   "cell_type": "code",
   "execution_count": 9,
   "id": "5abacadb",
   "metadata": {},
   "outputs": [
    {
     "ename": "KeyboardInterrupt",
     "evalue": "",
     "output_type": "error",
     "traceback": [
      "\u001b[1;31m---------------------------------------------------------------------------\u001b[0m",
      "\u001b[1;31mKeyboardInterrupt\u001b[0m                         Traceback (most recent call last)",
      "\u001b[1;32m<ipython-input-9-6725c12d8298>\u001b[0m in \u001b[0;36m<module>\u001b[1;34m\u001b[0m\n\u001b[0;32m      5\u001b[0m \u001b[1;32mfor\u001b[0m \u001b[0mi\u001b[0m \u001b[1;32min\u001b[0m \u001b[0mrange\u001b[0m\u001b[1;33m(\u001b[0m\u001b[1;36m1\u001b[0m\u001b[1;33m,\u001b[0m\u001b[1;36m10000\u001b[0m\u001b[1;33m)\u001b[0m\u001b[1;33m:\u001b[0m\u001b[1;33m\u001b[0m\u001b[1;33m\u001b[0m\u001b[0m\n\u001b[0;32m      6\u001b[0m \u001b[1;33m\u001b[0m\u001b[0m\n\u001b[1;32m----> 7\u001b[1;33m     \u001b[0msquare_list\u001b[0m \u001b[1;33m+=\u001b[0m \u001b[1;33m[\u001b[0m\u001b[0mi\u001b[0m\u001b[1;33m**\u001b[0m\u001b[0mi\u001b[0m\u001b[1;33m]\u001b[0m\u001b[1;33m\u001b[0m\u001b[1;33m\u001b[0m\u001b[0m\n\u001b[0m",
      "\u001b[1;31mKeyboardInterrupt\u001b[0m: "
     ]
    }
   ],
   "source": [
    "# KeyboardInterrupt\n",
    "\n",
    "square_list = []\n",
    "\n",
    "for i in range(1,10000):\n",
    "    \n",
    "    square_list += [i**i]"
   ]
  },
  {
   "cell_type": "code",
   "execution_count": 10,
   "id": "04dd8edf",
   "metadata": {},
   "outputs": [
    {
     "ename": "ModuleNotFoundError",
     "evalue": "No module named 'math2'",
     "output_type": "error",
     "traceback": [
      "\u001b[1;31m---------------------------------------------------------------------------\u001b[0m",
      "\u001b[1;31mModuleNotFoundError\u001b[0m                       Traceback (most recent call last)",
      "\u001b[1;32m<ipython-input-10-e6343f66ff7c>\u001b[0m in \u001b[0;36m<module>\u001b[1;34m\u001b[0m\n\u001b[0;32m      1\u001b[0m \u001b[1;31m# ImportError\u001b[0m\u001b[1;33m\u001b[0m\u001b[1;33m\u001b[0m\u001b[1;33m\u001b[0m\u001b[0m\n\u001b[0;32m      2\u001b[0m \u001b[1;33m\u001b[0m\u001b[0m\n\u001b[1;32m----> 3\u001b[1;33m \u001b[1;32mimport\u001b[0m \u001b[0mmath2\u001b[0m\u001b[1;33m\u001b[0m\u001b[1;33m\u001b[0m\u001b[0m\n\u001b[0m",
      "\u001b[1;31mModuleNotFoundError\u001b[0m: No module named 'math2'"
     ]
    }
   ],
   "source": [
    "# ModuleNotFoundError \n",
    "\n",
    "import math2"
   ]
  },
  {
   "cell_type": "code",
   "execution_count": 1,
   "id": "9d8cf989",
   "metadata": {},
   "outputs": [
    {
     "ename": "IndexError",
     "evalue": "list index out of range",
     "output_type": "error",
     "traceback": [
      "\u001b[1;31m---------------------------------------------------------------------------\u001b[0m",
      "\u001b[1;31mIndexError\u001b[0m                                Traceback (most recent call last)",
      "\u001b[1;32m<ipython-input-1-1ab2187b8b1f>\u001b[0m in \u001b[0;36m<module>\u001b[1;34m\u001b[0m\n\u001b[0;32m      3\u001b[0m \u001b[0mlist_\u001b[0m \u001b[1;33m=\u001b[0m \u001b[1;33m[\u001b[0m\u001b[1;36m12\u001b[0m\u001b[1;33m,\u001b[0m\u001b[1;36m23\u001b[0m\u001b[1;33m,\u001b[0m\u001b[1;36m34\u001b[0m\u001b[1;33m,\u001b[0m\u001b[1;36m45\u001b[0m\u001b[1;33m]\u001b[0m\u001b[1;33m\u001b[0m\u001b[1;33m\u001b[0m\u001b[0m\n\u001b[0;32m      4\u001b[0m \u001b[1;33m\u001b[0m\u001b[0m\n\u001b[1;32m----> 5\u001b[1;33m \u001b[0mprint\u001b[0m\u001b[1;33m(\u001b[0m\u001b[0mlist_\u001b[0m\u001b[1;33m[\u001b[0m\u001b[1;36m5\u001b[0m\u001b[1;33m]\u001b[0m\u001b[1;33m)\u001b[0m\u001b[1;33m\u001b[0m\u001b[1;33m\u001b[0m\u001b[0m\n\u001b[0m",
      "\u001b[1;31mIndexError\u001b[0m: list index out of range"
     ]
    }
   ],
   "source": [
    "# IndexError\n",
    "\n",
    "list_ = [12,23,34,45]\n",
    "\n",
    "print(list_[5])"
   ]
  },
  {
   "cell_type": "code",
   "execution_count": 2,
   "id": "aa07455d",
   "metadata": {},
   "outputs": [
    {
     "ename": "KeyError",
     "evalue": "'c'",
     "output_type": "error",
     "traceback": [
      "\u001b[1;31m---------------------------------------------------------------------------\u001b[0m",
      "\u001b[1;31mKeyError\u001b[0m                                  Traceback (most recent call last)",
      "\u001b[1;32m<ipython-input-2-0bc4543bcb6d>\u001b[0m in \u001b[0;36m<module>\u001b[1;34m\u001b[0m\n\u001b[0;32m      3\u001b[0m \u001b[0mdict_\u001b[0m \u001b[1;33m=\u001b[0m \u001b[1;33m{\u001b[0m\u001b[1;34m'a'\u001b[0m\u001b[1;33m:\u001b[0m\u001b[1;36m123\u001b[0m\u001b[1;33m,\u001b[0m\u001b[1;34m'b'\u001b[0m\u001b[1;33m:\u001b[0m\u001b[1;36m439\u001b[0m\u001b[1;33m}\u001b[0m\u001b[1;33m\u001b[0m\u001b[1;33m\u001b[0m\u001b[0m\n\u001b[0;32m      4\u001b[0m \u001b[1;33m\u001b[0m\u001b[0m\n\u001b[1;32m----> 5\u001b[1;33m \u001b[0mdict_\u001b[0m\u001b[1;33m[\u001b[0m\u001b[1;34m'c'\u001b[0m\u001b[1;33m]\u001b[0m\u001b[1;33m\u001b[0m\u001b[1;33m\u001b[0m\u001b[0m\n\u001b[0m",
      "\u001b[1;31mKeyError\u001b[0m: 'c'"
     ]
    }
   ],
   "source": [
    "# KeyError\n",
    "\n",
    "dict_ = {'a':123,'b':439}\n",
    "\n",
    "dict_['c']"
   ]
  },
  {
   "cell_type": "code",
   "execution_count": 3,
   "id": "5e1b7b77",
   "metadata": {},
   "outputs": [],
   "source": [
    "# StopIteration\n",
    "\n",
    "list_ = [1,2,3,4]\n",
    "\n",
    "list_ = iter(list_)"
   ]
  },
  {
   "cell_type": "code",
   "execution_count": 8,
   "id": "2f07a6a2",
   "metadata": {},
   "outputs": [
    {
     "ename": "StopIteration",
     "evalue": "",
     "output_type": "error",
     "traceback": [
      "\u001b[1;31m---------------------------------------------------------------------------\u001b[0m",
      "\u001b[1;31mStopIteration\u001b[0m                             Traceback (most recent call last)",
      "\u001b[1;32m<ipython-input-8-8a7276f2e4e8>\u001b[0m in \u001b[0;36m<module>\u001b[1;34m\u001b[0m\n\u001b[1;32m----> 1\u001b[1;33m \u001b[0mnext\u001b[0m\u001b[1;33m(\u001b[0m\u001b[0mlist_\u001b[0m\u001b[1;33m)\u001b[0m\u001b[1;33m\u001b[0m\u001b[1;33m\u001b[0m\u001b[0m\n\u001b[0m",
      "\u001b[1;31mStopIteration\u001b[0m: "
     ]
    }
   ],
   "source": [
    "next(list_)"
   ]
  },
  {
   "cell_type": "code",
   "execution_count": 11,
   "id": "7619df04",
   "metadata": {},
   "outputs": [
    {
     "ename": "SyntaxError",
     "evalue": "EOL while scanning string literal (<ipython-input-11-8c735f17f0f3>, line 4)",
     "output_type": "error",
     "traceback": [
      "\u001b[1;36m  File \u001b[1;32m\"<ipython-input-11-8c735f17f0f3>\"\u001b[1;36m, line \u001b[1;32m4\u001b[0m\n\u001b[1;33m    return daf'\u001b[0m\n\u001b[1;37m               ^\u001b[0m\n\u001b[1;31mSyntaxError\u001b[0m\u001b[1;31m:\u001b[0m EOL while scanning string literal\n"
     ]
    }
   ],
   "source": [
    "# SyntaxError\n",
    "\n",
    "def _generator():\n",
    "    return daf'"
   ]
  },
  {
   "cell_type": "code",
   "execution_count": 20,
   "id": "d588fb77",
   "metadata": {},
   "outputs": [
    {
     "ename": "SyntaxError",
     "evalue": "(unicode error) 'unicodeescape' codec can't decode bytes in position 2-3: truncated \\UXXXXXXXX escape (<ipython-input-20-75aae1fdacdf>, line 1)",
     "output_type": "error",
     "traceback": [
      "\u001b[1;36m  File \u001b[1;32m\"<ipython-input-20-75aae1fdacdf>\"\u001b[1;36m, line \u001b[1;32m1\u001b[0m\n\u001b[1;33m    with open(\"C:\\Users\\ARYAN\\abc.txt\",'r') as f:\u001b[0m\n\u001b[1;37m              ^\u001b[0m\n\u001b[1;31mSyntaxError\u001b[0m\u001b[1;31m:\u001b[0m (unicode error) 'unicodeescape' codec can't decode bytes in position 2-3: truncated \\UXXXXXXXX escape\n"
     ]
    }
   ],
   "source": [
    "# UnicodeError\n",
    "\n",
    "with open(\"C:\\Users\\ARYAN\\abc.txt\",'r') as f:\n",
    "    pass"
   ]
  },
  {
   "cell_type": "markdown",
   "id": "a89ef076",
   "metadata": {},
   "source": [
    "### 5. What is logging in Python, and why is it important in software development?"
   ]
  },
  {
   "cell_type": "markdown",
   "id": "77fa9eba",
   "metadata": {},
   "source": [
    "- logging in python means to have a record of program cycle in a log file and it is done by the help of logging module.\n",
    "<br><br>\n",
    "- logging in software developement is important as it helps in keep the record for the program execution and program cycle."
   ]
  },
  {
   "cell_type": "code",
   "execution_count": 21,
   "id": "1a10d7ae",
   "metadata": {},
   "outputs": [],
   "source": [
    "import logging\n",
    "\n",
    "logging.basicConfig(filename = '18_June.log',level=logging.INFO,format = '%(asctime)s %(name)s %(levelname)s %(message)s')"
   ]
  },
  {
   "cell_type": "code",
   "execution_count": 22,
   "id": "bbdffb65",
   "metadata": {},
   "outputs": [],
   "source": [
    "def square_finder(num):\n",
    "    \n",
    "    try:\n",
    "        logging.info('Question5.square_finder function has been called!')\n",
    "        \n",
    "        return (num*num)\n",
    "    \n",
    "    except Exception as e:\n",
    "        \n",
    "        logging.error(f'Error occured in the Question5.square_finder function : {e}')"
   ]
  },
  {
   "cell_type": "code",
   "execution_count": 23,
   "id": "a9477a74",
   "metadata": {},
   "outputs": [
    {
     "data": {
      "text/plain": [
       "16"
      ]
     },
     "execution_count": 23,
     "metadata": {},
     "output_type": "execute_result"
    }
   ],
   "source": [
    "square_finder(4)"
   ]
  },
  {
   "cell_type": "code",
   "execution_count": 24,
   "id": "6270c987",
   "metadata": {},
   "outputs": [],
   "source": [
    "square_finder('dfg')"
   ]
  },
  {
   "attachments": {
    "image.png": {
     "image/png": "[encoded data removed]"
    }
   },
   "cell_type": "markdown",
   "id": "96d258de",
   "metadata": {},
   "source": [
    "<br>\n",
    "\n",
    "![image.png](attachment:image.png)\n",
    "\n",
    "<br>"
   ]
  },
  {
   "cell_type": "markdown",
   "id": "2bcf5910",
   "metadata": {},
   "source": [
    "### 6. Explain the purpose of log levels in Python logging and provide examples of when each log level would be appropriate."
   ]
  },
  {
   "cell_type": "markdown",
   "id": "d8ad6f10",
   "metadata": {},
   "source": [
    "#### Levels of the logging :\n",
    "\n",
    "- <b>critical</b> : used to express the critical errors\n",
    "\n",
    "- <b>Error</b> : used to denote the errors of the program\n",
    "\n",
    "- <b>Warning</b> : used to express the warning signals, <u>like name in caps</u>\n",
    "\n",
    "- <b>info</b> : used to provide the information of the program\n",
    " \n",
    "- <b>debug</b> : used to provide information which would be helpful in debugging\n",
    "\n",
    "#### Order of the logging : \n",
    "- critical\n",
    "- error\n",
    "- warning\n",
    "- info\n",
    "- debug\n",
    "\n",
    "#### Example of logging level :\n",
    "\n",
    "```\n",
    "choosing level info : critical , error , warning , info will work...\n",
    "```"
   ]
  },
  {
   "cell_type": "code",
   "execution_count": 25,
   "id": "8afb51d4",
   "metadata": {},
   "outputs": [],
   "source": [
    "# critical logging level :\n",
    "\n",
    "def name_combiner(firstname,lastname):\n",
    "    \n",
    "    try:\n",
    "        if type(firstname) == str and type(lastname) == str:\n",
    "            return firstname + ' ' + lastname\n",
    "        \n",
    "        else:\n",
    "            logging.critical('Error in the arguement datatype in Question6.name_combiner function')\n",
    "            \n",
    "    except Exception as e:\n",
    "        \n",
    "        logging.error('Error occured in the Question6.name_combiner function')"
   ]
  },
  {
   "cell_type": "code",
   "execution_count": 26,
   "id": "f702d75e",
   "metadata": {},
   "outputs": [
    {
     "data": {
      "text/plain": [
       "'Aryan Pankaj'"
      ]
     },
     "execution_count": 26,
     "metadata": {},
     "output_type": "execute_result"
    }
   ],
   "source": [
    "name_combiner('Aryan','Pankaj')"
   ]
  },
  {
   "cell_type": "code",
   "execution_count": 27,
   "id": "539e9493",
   "metadata": {},
   "outputs": [],
   "source": [
    "name_combiner(34,5)"
   ]
  },
  {
   "attachments": {
    "image.png": {
     "image/png": "[encoded data removed]"
    }
   },
   "cell_type": "markdown",
   "id": "c8a1314c",
   "metadata": {},
   "source": [
    "<br>\n",
    "\n",
    "![image.png](attachment:image.png)"
   ]
  },
  {
   "cell_type": "code",
   "execution_count": 33,
   "id": "df1b8d97",
   "metadata": {},
   "outputs": [],
   "source": [
    "# Error logging level :\n",
    "\n",
    "def name_combiner(firstname,lastname):\n",
    "    \n",
    "    try:\n",
    "        return firstname + ' ' + lastname\n",
    "        \n",
    "    except Exception as e:\n",
    "        \n",
    "        logging.error('Error occured in the Question6.name_combiner function')"
   ]
  },
  {
   "cell_type": "code",
   "execution_count": 34,
   "id": "efb9709e",
   "metadata": {},
   "outputs": [
    {
     "data": {
      "text/plain": [
       "'Aryan Pankaj'"
      ]
     },
     "execution_count": 34,
     "metadata": {},
     "output_type": "execute_result"
    }
   ],
   "source": [
    "name_combiner('Aryan','Pankaj')"
   ]
  },
  {
   "cell_type": "code",
   "execution_count": 35,
   "id": "a7ceafd9",
   "metadata": {},
   "outputs": [],
   "source": [
    "name_combiner('sdfg',455)"
   ]
  },
  {
   "attachments": {
    "image.png": {
     "image/png": "[encoded data removed]"
    }
   },
   "cell_type": "markdown",
   "id": "960db790",
   "metadata": {},
   "source": [
    "<br>\n",
    "\n",
    "![image.png](attachment:image.png)"
   ]
  },
  {
   "cell_type": "code",
   "execution_count": 40,
   "id": "74e9ec8b",
   "metadata": {},
   "outputs": [],
   "source": [
    "# warning logging level :\n",
    "\n",
    "def name_combiner(firstname,lastname):\n",
    "    \n",
    "    try:\n",
    "        if type(firstname) == str and type(lastname) == str:\n",
    "            if firstname.istitle() and lastname.istitle():\n",
    "                pass\n",
    "            else:\n",
    "                logging.warning('Arguments should be in capitalized form.')\n",
    "            return firstname + ' ' + lastname\n",
    "        \n",
    "    except Exception as e:\n",
    "        \n",
    "        logging.error('Error occured in the Question6.name_combiner function')"
   ]
  },
  {
   "cell_type": "code",
   "execution_count": 41,
   "id": "56be3227",
   "metadata": {},
   "outputs": [
    {
     "data": {
      "text/plain": [
       "'aryan pankaj'"
      ]
     },
     "execution_count": 41,
     "metadata": {},
     "output_type": "execute_result"
    }
   ],
   "source": [
    "name_combiner('aryan','pankaj')"
   ]
  },
  {
   "attachments": {
    "image.png": {
     "image/png": "[encoded data removed]"
    }
   },
   "cell_type": "markdown",
   "id": "bd8b98a9",
   "metadata": {},
   "source": [
    "<br>\n",
    "\n",
    "![image.png](attachment:image.png)"
   ]
  },
  {
   "cell_type": "code",
   "execution_count": 42,
   "id": "1f121720",
   "metadata": {},
   "outputs": [],
   "source": [
    "# info logging level :\n",
    "\n",
    "def name_combiner(firstname,lastname):\n",
    "    \n",
    "    try:\n",
    "        logging.info('Question6.name_combiner function has been called!')\n",
    "        return firstname + ' ' + lastname\n",
    "        \n",
    "    except Exception as e:\n",
    "        \n",
    "        logging.error('Error occured in the Question6.name_combiner function')"
   ]
  },
  {
   "cell_type": "code",
   "execution_count": 43,
   "id": "94002f4c",
   "metadata": {},
   "outputs": [
    {
     "data": {
      "text/plain": [
       "'aryan Pankaj'"
      ]
     },
     "execution_count": 43,
     "metadata": {},
     "output_type": "execute_result"
    }
   ],
   "source": [
    "name_combiner('aryan','Pankaj')"
   ]
  },
  {
   "attachments": {
    "image.png": {
     "image/png": "[encoded data removed]"
    }
   },
   "cell_type": "markdown",
   "id": "2d2f33d4",
   "metadata": {},
   "source": [
    "<br>\n",
    "\n",
    "![image.png](attachment:image.png)"
   ]
  },
  {
   "cell_type": "code",
   "execution_count": 1,
   "id": "1d5e04d7",
   "metadata": {},
   "outputs": [],
   "source": [
    "# debug is the lowest level so we are changing level name :\n",
    "\n",
    "import logging\n",
    "\n",
    "logging.basicConfig(filename = '18_June.log',level=logging.DEBUG,format = '%(asctime)s %(name)s %(levelname)s %(message)s')"
   ]
  },
  {
   "cell_type": "code",
   "execution_count": 2,
   "id": "087f4cab",
   "metadata": {},
   "outputs": [],
   "source": [
    "def name_combiner(firstname,lastname):\n",
    "    \n",
    "    try:\n",
    "        logging.info('Question6.name_combiner function has been called!')\n",
    "        if type(firstname) == str and type(lastname) == str:\n",
    "            return firstname + ' ' + lastname\n",
    "        else:\n",
    "            logging.debug('Debug : ')\n",
    "        \n",
    "    except Exception as e:\n",
    "        \n",
    "        logging.error(f'Error occured in Question6.name_combiner function : {e}')"
   ]
  },
  {
   "cell_type": "code",
   "execution_count": 3,
   "id": "01baefef",
   "metadata": {},
   "outputs": [],
   "source": [
    "name_combiner(34,456)"
   ]
  },
  {
   "attachments": {
    "image.png": {
     "image/png": "[encoded data removed]"
    }
   },
   "cell_type": "markdown",
   "id": "6291ff30",
   "metadata": {},
   "source": [
    "<br>\n",
    "\n",
    "![image.png](attachment:image.png)"
   ]
  },
  {
   "cell_type": "code",
   "execution_count": 9,
   "id": "e862d92d",
   "metadata": {},
   "outputs": [],
   "source": [
    "logging.shutdown()"
   ]
  },
  {
   "cell_type": "markdown",
   "id": "0259f1cd",
   "metadata": {},
   "source": [
    "### 7. What are log formatters in Python logging, and how can you customise the log message format using formatters?"
   ]
  },
  {
   "cell_type": "markdown",
   "id": "796e649a",
   "metadata": {},
   "source": [
    "- log formatters help us to customize the logging message in the log file.\n",
    "\n",
    "#### eg :\n",
    "\n",
    "```\n",
    "logging.basicConfig(filename = '18_June.log',level=logging.DEBUG,format = '%(asctime)s %(name)s %(levelname)s %(message)s')\n",
    "```\n",
    "<br>\n",
    "- we can format the logging message using the attributes.\n",
    "\n",
    "#### Some of attributes are :\n",
    "- asctime\n",
    "- levelname\n",
    "- name\n",
    "- message\n",
    "etc.."
   ]
  },
  {
   "cell_type": "markdown",
   "id": "5e8e7536",
   "metadata": {},
   "source": [
    "### 8. How can you set up logging to capture log messages from multiple modules or classes in a Python application?"
   ]
  },
  {
   "cell_type": "markdown",
   "id": "6ea99e7a",
   "metadata": {},
   "source": [
    "- We use to set up logging to capture log messages from multiple modules or classes by using seperate or unique log file name.\n",
    "\n",
    "<br>\n",
    "\n",
    "- in this filename parameter help us a lot.\n",
    "\n",
    "#### eg :\n",
    "\n",
    "```\n",
    "import logging\n",
    "\n",
    "logging.basicConfig(filename = 'person_class.log',level=logging.DEBUG,format = '%(asctime)s %(name)s %(levelname)s %(message)s')\n",
    "\n",
    "# class\n",
    "class Person:\n",
    "\n",
    "    pass\n",
    "```\n",
    "\n",
    "#### eg (in case of module) :\n",
    "\n",
    "```\n",
    "import logging\n",
    "\n",
    "logging.basicconfig(filename = 'file1.log',level=logging.DEBUG,format = '%(asctime)s %(name)s %(levelname)s %(message)s')\n",
    "\n",
    "```"
   ]
  },
  {
   "cell_type": "markdown",
   "id": "3b4b8f81",
   "metadata": {},
   "source": [
    "### 9. What is the difference between the logging and print statements in Python? When should you use logging over print statements in a real-world application?"
   ]
  },
  {
   "cell_type": "markdown",
   "id": "637dd653",
   "metadata": {},
   "source": [
    "### logging :\n",
    "\n",
    "- logging tries to display the statement in the file\n",
    "- logging returns in the log file.\n",
    "- use logging is the standard way of programming\n",
    "\n",
    "\n",
    "\n",
    "### print statemtent :\n",
    "\n",
    "- print tries to display the statement in the console\n",
    "- print return type is none\n",
    "- using print statement is not recommed in the standard code\n",
    "\n",
    "\n",
    "### Why logging is being imposed in real-world application?\n",
    "\n",
    "- logging helps to display the cycle of the program\n",
    "- logging helps to display the message based on time.\n",
    "- logging displays the message in the log file so that we can easily gather the info."
   ]
  },
  {
   "cell_type": "markdown",
   "id": "63d4b7be",
   "metadata": {},
   "source": [
    "### 10. Write a Python program that logs a message to a file named \"app.log\" with the following requirements:\n",
    "```\n",
    "● The log message should be \"Hello, World!\"\n",
    "● The log level should be set to \"INFO.\"\n",
    "● The log file should append new log entries without overwriting previous ones.\n",
    "```"
   ]
  },
  {
   "cell_type": "code",
   "execution_count": 1,
   "id": "d0857384",
   "metadata": {},
   "outputs": [],
   "source": [
    "import logging\n",
    "\n",
    "logging.basicConfig(filename='app.log',level=logging.INFO,format='%(message)s')"
   ]
  },
  {
   "cell_type": "code",
   "execution_count": 2,
   "id": "431daef7",
   "metadata": {},
   "outputs": [],
   "source": [
    "logging.info('Hello, World!')"
   ]
  },
  {
   "attachments": {
    "image.png": {
     "image/png": "[encoded data removed]"
    }
   },
   "cell_type": "markdown",
   "id": "d6b61bca",
   "metadata": {},
   "source": [
    "<br>\n",
    "\n",
    "![image.png](attachment:image.png)"
   ]
  },
  {
   "cell_type": "markdown",
   "id": "4aad8c8b",
   "metadata": {},
   "source": [
    "### 11. Create a Python program that logs an error message to the console and a file named \"errors.log\" if an exception occurs during the program's execution. The error message should include the exception type and a timestamp."
   ]
  },
  {
   "cell_type": "code",
   "execution_count": 1,
   "id": "059bbb96",
   "metadata": {},
   "outputs": [],
   "source": [
    "import logging\n",
    "\n",
    "logging.basicConfig(filename='app.log',level=logging.INFO,format='%(asctime)s %(message)s')"
   ]
  },
  {
   "cell_type": "code",
   "execution_count": 2,
   "id": "6d49c0ad",
   "metadata": {},
   "outputs": [],
   "source": [
    "def square(num):\n",
    "    \n",
    "    try:\n",
    "        return num*num\n",
    "    except Exception as e:\n",
    "        logging.error(f'Error occured in the square function : {e}')"
   ]
  },
  {
   "cell_type": "code",
   "execution_count": 3,
   "id": "dac82590",
   "metadata": {},
   "outputs": [],
   "source": [
    "square('asdfh')"
   ]
  },
  {
   "attachments": {
    "image.png": {
     "image/png": "[encoded data removed]"
    }
   },
   "cell_type": "markdown",
   "id": "fbc0d984",
   "metadata": {},
   "source": [
    "### Logging file with timestamp and message :\n",
    "\n",
    "<br>\n",
    "\n",
    "![image.png](attachment:image.png)"
   ]
  }
 ],
 "metadata": {
  "kernelspec": {
   "display_name": "Python 3",
   "language": "python",
   "name": "python3"
  },
  "language_info": {
   "codemirror_mode": {
    "name": "ipython",
    "version": 3
   },
   "file_extension": ".py",
   "mimetype": "text/x-python",
   "name": "python",
   "nbconvert_exporter": "python",
   "pygments_lexer": "ipython3",
   "version": "3.8.8"
  },
  "varInspector": {
   "cols": {
    "lenName": 16,
    "lenType": 16,
    "lenVar": 40
   },
   "kernels_config": {
    "python": {
     "delete_cmd_postfix": "",
     "delete_cmd_prefix": "del ",
     "library": "var_list.py",
     "varRefreshCmd": "print(var_dic_list())"
    },
    "r": {
     "delete_cmd_postfix": ") ",
     "delete_cmd_prefix": "rm(",
     "library": "var_list.r",
     "varRefreshCmd": "cat(var_dic_list()) "
    }
   },
   "types_to_exclude": [
    "module",
    "function",
    "builtin_function_or_method",
    "instance",
    "_Feature"
   ],
   "window_display": false
  }
 },
 "nbformat": 4,
 "nbformat_minor": 5
}
