{
 "cells": [
  {
   "cell_type": "markdown",
   "id": "55ff4086",
   "metadata": {},
   "source": [
    "### Q.1. Create two int type variables, apply addition, subtraction, division and multiplications and store the results in variables. Then print the data in the following format by calling the variables:\n",
    "\n",
    "```\n",
    "First variable is __ & second variable is __.\n",
    "Addition: __ + __ = __\n",
    "Subtraction: __ - __ = __\n",
    "Multiplication: __ * __ = __\n",
    "Division: __ / __ = __\n",
    "\n",
    "```"
   ]
  },
  {
   "cell_type": "code",
   "execution_count": 7,
   "id": "ae439941",
   "metadata": {},
   "outputs": [
    {
     "name": "stdout",
     "output_type": "stream",
     "text": [
      "Enter the no. : 56\n",
      "Enter the no. : 8\n",
      "************************************************************\n",
      "\n",
      "Addition: 56 + 8 = 64\n",
      "Subtraction: 56 - 8 = 48\n",
      "Multiplication: 56 * 8 = 448\n",
      "Division: 56 / 8 = 7.0\n",
      "\n",
      "************************************************************\n"
     ]
    }
   ],
   "source": [
    "value1 = int(input(\"Enter the no. : \"))\n",
    "value2 = int(input('Enter the no. : '))\n",
    "\n",
    "add = value1 + value2\n",
    "subtract = value1 - value2\n",
    "multiply = value1 * value2\n",
    "division = value1 / value2\n",
    "\n",
    "print(\"*\"*60)\n",
    "print()\n",
    "print(f'Addition: {value1} + {value2} = {add}')\n",
    "print(f'Subtraction: {value1} - {value2} = {subtract}')\n",
    "print(f'Multiplication: {value1} * {value2} = {multiply}')\n",
    "print(f'Division: {value1} / {value2} = {division}')\n",
    "print()\n",
    "print(\"*\"*60)"
   ]
  },
  {
   "cell_type": "markdown",
   "id": "a4227ea2",
   "metadata": {},
   "source": [
    "### Q.2. What is the difference between the following operators:\n",
    "```\n",
    "    (i) ‘/’ & ‘//’\n",
    "    (ii) ‘**’ & ‘^’\n",
    "    \n",
    "```"
   ]
  },
  {
   "cell_type": "code",
   "execution_count": 10,
   "id": "8e336ff7",
   "metadata": {},
   "outputs": [
    {
     "name": "stdout",
     "output_type": "stream",
     "text": [
      "Enter the no. : 45\n",
      "Enter the no. : 2\n",
      "22.5\n"
     ]
    }
   ],
   "source": [
    "# / is arithmetic operator that return the decimal value\n",
    "\n",
    "value1 = int(input('Enter the no. : '))\n",
    "value2 = int(input('Enter the no. : '))\n",
    "\n",
    "print(value1/value2)"
   ]
  },
  {
   "cell_type": "code",
   "execution_count": 11,
   "id": "fe18bb03",
   "metadata": {},
   "outputs": [
    {
     "name": "stdout",
     "output_type": "stream",
     "text": [
      "Enter the no. : 46\n",
      "Enter the no. : 9\n",
      "5\n"
     ]
    }
   ],
   "source": [
    "# // is an arithmetic operator that return the quotient only\n",
    "\n",
    "value1 = int(input('Enter the no. : '))\n",
    "value2 = int(input('Enter the no. : '))\n",
    "\n",
    "print(value1//value2)"
   ]
  },
  {
   "cell_type": "code",
   "execution_count": 12,
   "id": "43db8b52",
   "metadata": {},
   "outputs": [
    {
     "name": "stdout",
     "output_type": "stream",
     "text": [
      "Enter the no. : 2\n",
      "Enter the no. : 10\n",
      "1024\n"
     ]
    }
   ],
   "source": [
    "# ** is an arithmetic opeartor that return first raised to power second :\n",
    "\n",
    "value1 = int(input('Enter the no. : '))\n",
    "value2 = int(input('Enter the no. : '))\n",
    "\n",
    "print(value1**value2)"
   ]
  },
  {
   "cell_type": "code",
   "execution_count": 13,
   "id": "1cb698a3",
   "metadata": {},
   "outputs": [
    {
     "name": "stdout",
     "output_type": "stream",
     "text": [
      "Enter the no. : 3\n",
      "Enter the no. : 4\n",
      "7\n"
     ]
    }
   ],
   "source": [
    "# ^ is bitwise operator that implies XOR operator :\n",
    "\n",
    "value1 = int(input('Enter the no. : '))\n",
    "value2 = int(input('Enter the no. : '))\n",
    "\n",
    "print(value1^value2)"
   ]
  },
  {
   "cell_type": "markdown",
   "id": "0ec1bba7",
   "metadata": {},
   "source": [
    "### Q.3. List the logical operators."
   ]
  },
  {
   "cell_type": "markdown",
   "id": "3282430a",
   "metadata": {},
   "source": [
    "- and : true if both the operands are true\n",
    "- or : true if one of the operand is true\n",
    "- not : true if operand is false"
   ]
  },
  {
   "cell_type": "code",
   "execution_count": 14,
   "id": "f8befc9d",
   "metadata": {},
   "outputs": [
    {
     "name": "stdout",
     "output_type": "stream",
     "text": [
      "True\n"
     ]
    }
   ],
   "source": [
    "# and \n",
    "\n",
    "a = 5\n",
    "\n",
    "if a>3 and a<30:\n",
    "    print('True')"
   ]
  },
  {
   "cell_type": "code",
   "execution_count": 15,
   "id": "8aef20d6",
   "metadata": {},
   "outputs": [
    {
     "name": "stdout",
     "output_type": "stream",
     "text": [
      "True\n"
     ]
    }
   ],
   "source": [
    "# or\n",
    "\n",
    "a = 5\n",
    "\n",
    "if a<2 or a<30:\n",
    "    print('True')"
   ]
  },
  {
   "cell_type": "code",
   "execution_count": 24,
   "id": "175cd5a6",
   "metadata": {},
   "outputs": [
    {
     "name": "stdout",
     "output_type": "stream",
     "text": [
      "Value of a is False\n"
     ]
    }
   ],
   "source": [
    "# not\n",
    "\n",
    "a = 0\n",
    "\n",
    "if not a:\n",
    "    print('Value of a is False')\n",
    "    \n",
    "else:\n",
    "    print('Value of a is True')"
   ]
  },
  {
   "cell_type": "markdown",
   "id": "70a98642",
   "metadata": {},
   "source": [
    "### Q.4. Explain right shift operator and left shift operator with examples."
   ]
  },
  {
   "cell_type": "code",
   "execution_count": 29,
   "id": "e718b764",
   "metadata": {},
   "outputs": [
    {
     "data": {
      "text/plain": [
       "1"
      ]
     },
     "execution_count": 29,
     "metadata": {},
     "output_type": "execute_result"
    }
   ],
   "source": [
    "# >> : performs the right shift on the operand\n",
    "\n",
    "4 >> 2\n",
    "\n",
    "# 100 --> 1"
   ]
  },
  {
   "cell_type": "code",
   "execution_count": 30,
   "id": "3a0fd1af",
   "metadata": {},
   "outputs": [
    {
     "data": {
      "text/plain": [
       "16"
      ]
     },
     "execution_count": 30,
     "metadata": {},
     "output_type": "execute_result"
    }
   ],
   "source": [
    "4 << 2\n",
    "\n",
    "# 100 --> 1 0000"
   ]
  },
  {
   "cell_type": "markdown",
   "id": "948c9b86",
   "metadata": {},
   "source": [
    "### Q.5. Create a list containing int type data of length 15. Then write a code to check if 10 is present in the list or not."
   ]
  },
  {
   "cell_type": "code",
   "execution_count": 31,
   "id": "f61699a0",
   "metadata": {},
   "outputs": [
    {
     "name": "stdout",
     "output_type": "stream",
     "text": [
      "15 is not available in the list!\n"
     ]
    }
   ],
   "source": [
    "list_ = [12,23,34,45,56,67,78,45,63,54]\n",
    "\n",
    "if len(list_) == 10:\n",
    "    \n",
    "    if 15 in list_:\n",
    "        \n",
    "        print('15 is available in the list!')\n",
    "        \n",
    "    else:\n",
    "        \n",
    "        print('15 is not available in the list!')\n",
    "        \n",
    "else:\n",
    "    print('Lenght of the list is less than 10')"
   ]
  },
  {
   "cell_type": "code",
   "execution_count": 32,
   "id": "ffff3f6f",
   "metadata": {},
   "outputs": [
    {
     "name": "stdout",
     "output_type": "stream",
     "text": [
      "Lenght of the list is less than 10\n"
     ]
    }
   ],
   "source": [
    "list_ = [12,23,34,45,56,67,78,45,15]\n",
    "\n",
    "if len(list_) == 10:\n",
    "    \n",
    "    if 15 in list_:\n",
    "        \n",
    "        print('15 is available in the list!')\n",
    "        \n",
    "    else:\n",
    "        \n",
    "        print('15 is not available in the list!')\n",
    "        \n",
    "else:\n",
    "    print('Lenght of the list is less than 10')"
   ]
  },
  {
   "cell_type": "code",
   "execution_count": 33,
   "id": "b6464d79",
   "metadata": {},
   "outputs": [
    {
     "name": "stdout",
     "output_type": "stream",
     "text": [
      "15 is available in the list!\n"
     ]
    }
   ],
   "source": [
    "list_ = [12,23,34,45,56,67,78,45,15,34]\n",
    "\n",
    "if len(list_) == 10:\n",
    "    \n",
    "    if 15 in list_:\n",
    "        \n",
    "        print('15 is available in the list!')\n",
    "        \n",
    "    else:\n",
    "        \n",
    "        print('15 is not available in the list!')\n",
    "        \n",
    "else:\n",
    "    print('Lenght of the list is less than 10')"
   ]
  }
 ],
 "metadata": {
  "kernelspec": {
   "display_name": "Python 3",
   "language": "python",
   "name": "python3"
  },
  "language_info": {
   "codemirror_mode": {
    "name": "ipython",
    "version": 3
   },
   "file_extension": ".py",
   "mimetype": "text/x-python",
   "name": "python",
   "nbconvert_exporter": "python",
   "pygments_lexer": "ipython3",
   "version": "3.8.8"
  },
  "varInspector": {
   "cols": {
    "lenName": 16,
    "lenType": 16,
    "lenVar": 40
   },
   "kernels_config": {
    "python": {
     "delete_cmd_postfix": "",
     "delete_cmd_prefix": "del ",
     "library": "var_list.py",
     "varRefreshCmd": "print(var_dic_list())"
    },
    "r": {
     "delete_cmd_postfix": ") ",
     "delete_cmd_prefix": "rm(",
     "library": "var_list.r",
     "varRefreshCmd": "cat(var_dic_list()) "
    }
   },
   "types_to_exclude": [
    "module",
    "function",
    "builtin_function_or_method",
    "instance",
    "_Feature"
   ],
   "window_display": false
  }
 },
 "nbformat": 4,
 "nbformat_minor": 5
}
