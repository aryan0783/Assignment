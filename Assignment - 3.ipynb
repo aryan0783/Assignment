{
 "cells": [
  {
   "cell_type": "markdown",
   "id": "255bc0fc",
   "metadata": {},
   "source": [
    "### 1. Why are functions advantageous to have in your programs?"
   ]
  },
  {
   "cell_type": "markdown",
   "id": "9c26258a",
   "metadata": {},
   "source": [
    "### Advantage of functions :\n",
    "\n",
    "- using functions will save time and some code of line as it can reused again and again.\n",
    "<br>\n",
    "\n",
    "- we can track the large program easily by having a function when it is divided into multiple functions."
   ]
  },
  {
   "cell_type": "markdown",
   "id": "dcb0c232",
   "metadata": {},
   "source": [
    "### 2. When does the code in a function run: when it&#39;s specified or when it&#39;s called?"
   ]
  },
  {
   "cell_type": "markdown",
   "id": "12349f32",
   "metadata": {},
   "source": [
    "- The code inside the function runs when the function is called!"
   ]
  },
  {
   "cell_type": "code",
   "execution_count": 2,
   "id": "23f36722",
   "metadata": {},
   "outputs": [],
   "source": [
    "# eg :\n",
    "\n",
    "def code():\n",
    "    \n",
    "    for i in range(2):\n",
    "        print(i)"
   ]
  },
  {
   "cell_type": "code",
   "execution_count": 3,
   "id": "85df9146",
   "metadata": {},
   "outputs": [
    {
     "name": "stdout",
     "output_type": "stream",
     "text": [
      "0\n",
      "1\n"
     ]
    }
   ],
   "source": [
    "code()"
   ]
  },
  {
   "cell_type": "markdown",
   "id": "91523295",
   "metadata": {},
   "source": [
    "### 3. What statement creates a function?"
   ]
  },
  {
   "cell_type": "markdown",
   "id": "0a6ce968",
   "metadata": {},
   "source": [
    "- The statement which creates a function is :\n",
    "\n",
    "<br>\n",
    "\n",
    "def function_name(arguements):\n",
    "\n",
    "    pass # block of code\n",
    "\n"
   ]
  },
  {
   "cell_type": "markdown",
   "id": "2352afc3",
   "metadata": {},
   "source": [
    "### 4. What is the difference between a function and a function call?"
   ]
  },
  {
   "cell_type": "markdown",
   "id": "ce3c1290",
   "metadata": {},
   "source": [
    "- function means defining a function. Defining the logic of the function , defining the parameters etc.\n",
    "\n",
    "<br>\n",
    "\n",
    "- function call means to perform the function opertion."
   ]
  },
  {
   "cell_type": "code",
   "execution_count": 4,
   "id": "8f237068",
   "metadata": {},
   "outputs": [],
   "source": [
    "# function :\n",
    "\n",
    "def func():\n",
    "    \n",
    "    print('This is a function!!')"
   ]
  },
  {
   "cell_type": "code",
   "execution_count": 5,
   "id": "59ade004",
   "metadata": {},
   "outputs": [
    {
     "name": "stdout",
     "output_type": "stream",
     "text": [
      "This is a function!!\n"
     ]
    }
   ],
   "source": [
    "# function call :\n",
    "\n",
    "func()"
   ]
  },
  {
   "cell_type": "markdown",
   "id": "3585b5df",
   "metadata": {},
   "source": [
    "### 5. How many global scopes are there in a Python program? How many local scopes?"
   ]
  },
  {
   "cell_type": "markdown",
   "id": "a240ac40",
   "metadata": {},
   "source": [
    "- global scopes in python program is one as per the program\n",
    "<br>\n",
    "\n",
    "- local scopes can be n number based on the number of function in a program."
   ]
  },
  {
   "cell_type": "code",
   "execution_count": 6,
   "id": "c4f72bdd",
   "metadata": {},
   "outputs": [],
   "source": [
    "# global scope :\n",
    "\n",
    "myvar = 'aryan'\n",
    "\n",
    "def func():\n",
    "    \n",
    "    myint = 56  # local scope"
   ]
  },
  {
   "cell_type": "markdown",
   "id": "c2e15c00",
   "metadata": {},
   "source": [
    "### 6. What happens to variables in a local scope when the function call returns?"
   ]
  },
  {
   "cell_type": "markdown",
   "id": "75a79b4d",
   "metadata": {},
   "source": [
    "- as soon as the function call returns the variables in a local scope leaves the space in the memory or terminates."
   ]
  },
  {
   "cell_type": "code",
   "execution_count": 8,
   "id": "1274bd72",
   "metadata": {},
   "outputs": [],
   "source": [
    "def func():\n",
    "    \n",
    "    myint = 45\n",
    "    \n",
    "    print (myint)"
   ]
  },
  {
   "cell_type": "code",
   "execution_count": 9,
   "id": "9157ba2f",
   "metadata": {},
   "outputs": [
    {
     "name": "stdout",
     "output_type": "stream",
     "text": [
      "45\n"
     ]
    }
   ],
   "source": [
    "func()"
   ]
  },
  {
   "cell_type": "markdown",
   "id": "19c4e900",
   "metadata": {},
   "source": [
    "### 7. What is the concept of a return value? Is it possible to have a return value in an expression?"
   ]
  },
  {
   "cell_type": "markdown",
   "id": "10421028",
   "metadata": {},
   "source": [
    "- return value means the value which is returned by the function. It helps in storing the value in the variable.\n",
    "<br>\n",
    "\n",
    "- Yes it is possible to have a return value in an expression."
   ]
  },
  {
   "cell_type": "code",
   "execution_count": 10,
   "id": "00792eb1",
   "metadata": {},
   "outputs": [],
   "source": [
    "# returning of expression value :\n",
    "\n",
    "def exp_return():\n",
    "    \n",
    "    return 5 + 6 -78"
   ]
  },
  {
   "cell_type": "code",
   "execution_count": 11,
   "id": "37c1d758",
   "metadata": {},
   "outputs": [
    {
     "data": {
      "text/plain": [
       "-67"
      ]
     },
     "execution_count": 11,
     "metadata": {},
     "output_type": "execute_result"
    }
   ],
   "source": [
    "exp_return()"
   ]
  },
  {
   "cell_type": "markdown",
   "id": "1ba0348d",
   "metadata": {},
   "source": [
    "### 8. If a function does not have a return statement, what is the return value of a call to that function?"
   ]
  },
  {
   "cell_type": "markdown",
   "id": "57894cf3",
   "metadata": {},
   "source": [
    "- In this case the return value of the function is None."
   ]
  },
  {
   "cell_type": "code",
   "execution_count": 12,
   "id": "040ab4fe",
   "metadata": {},
   "outputs": [],
   "source": [
    "# eg :\n",
    "\n",
    "def func():\n",
    "    \n",
    "    print('Hello')"
   ]
  },
  {
   "cell_type": "code",
   "execution_count": 15,
   "id": "d1fbc1b6",
   "metadata": {},
   "outputs": [
    {
     "name": "stdout",
     "output_type": "stream",
     "text": [
      "Hello\n",
      "None\n"
     ]
    }
   ],
   "source": [
    "print(func())"
   ]
  },
  {
   "cell_type": "code",
   "execution_count": 16,
   "id": "c02f569d",
   "metadata": {},
   "outputs": [],
   "source": [
    "# eg of function with return :\n",
    "\n",
    "def func():\n",
    "    \n",
    "    return 4"
   ]
  },
  {
   "cell_type": "code",
   "execution_count": 17,
   "id": "58790c59",
   "metadata": {},
   "outputs": [
    {
     "name": "stdout",
     "output_type": "stream",
     "text": [
      "4\n"
     ]
    }
   ],
   "source": [
    "value = func()\n",
    "print(value)"
   ]
  },
  {
   "cell_type": "markdown",
   "id": "129ea588",
   "metadata": {},
   "source": [
    "### 9. How do you make a function variable refer to the global variable?"
   ]
  },
  {
   "cell_type": "markdown",
   "id": "84542638",
   "metadata": {},
   "source": [
    "- this is done by global keyword."
   ]
  },
  {
   "cell_type": "code",
   "execution_count": 18,
   "id": "0177be13",
   "metadata": {},
   "outputs": [],
   "source": [
    "# eg :\n",
    "\n",
    "val = 45\n",
    "\n",
    "def func():\n",
    "    \n",
    "    global val\n",
    "    \n",
    "    print(val)"
   ]
  },
  {
   "cell_type": "code",
   "execution_count": 19,
   "id": "a349adfc",
   "metadata": {},
   "outputs": [
    {
     "name": "stdout",
     "output_type": "stream",
     "text": [
      "45\n"
     ]
    }
   ],
   "source": [
    "func()"
   ]
  },
  {
   "cell_type": "markdown",
   "id": "91a52874",
   "metadata": {},
   "source": [
    "### 10. What is the data type of None?"
   ]
  },
  {
   "cell_type": "code",
   "execution_count": 20,
   "id": "d9056b3f",
   "metadata": {},
   "outputs": [
    {
     "name": "stdout",
     "output_type": "stream",
     "text": [
      "<class 'NoneType'>\n"
     ]
    }
   ],
   "source": [
    "# type of None is NoneType\n",
    "\n",
    "print(type(None))"
   ]
  },
  {
   "cell_type": "markdown",
   "id": "343b8b06",
   "metadata": {},
   "source": [
    "### 11. What does the sentence import areallyourpetsnamederic do?"
   ]
  },
  {
   "cell_type": "code",
   "execution_count": null,
   "id": "1062be4c",
   "metadata": {},
   "outputs": [],
   "source": [
    "# this statement will import all the functions from the module\n",
    "\n",
    "import areallyourpetsnamederic"
   ]
  },
  {
   "cell_type": "markdown",
   "id": "c76deb19",
   "metadata": {},
   "source": [
    "### 12. If you had a bacon() feature in a spam module, what would you call it after importing spam?"
   ]
  },
  {
   "cell_type": "code",
   "execution_count": null,
   "id": "94e35219",
   "metadata": {},
   "outputs": [],
   "source": [
    "import spam\n",
    "\n",
    "spam.bacon()  # calling the bacon feature from the spam module."
   ]
  },
  {
   "cell_type": "markdown",
   "id": "cbcf2d3a",
   "metadata": {},
   "source": [
    "### 13. What can you do to save a programme from crashing if it encounters an error?"
   ]
  },
  {
   "cell_type": "markdown",
   "id": "06d45b7e",
   "metadata": {},
   "source": [
    "- the errors can be handled through exceptional handlling.\n",
    "<br>\n",
    "\n",
    "- try: except: finally"
   ]
  },
  {
   "cell_type": "code",
   "execution_count": 23,
   "id": "364bd063",
   "metadata": {},
   "outputs": [],
   "source": [
    "# eg :\n",
    "\n",
    "try :\n",
    "    \n",
    "    pass\n",
    "\n",
    "except Exception as e:\n",
    "    \n",
    "    pass"
   ]
  },
  {
   "cell_type": "markdown",
   "id": "afd17cdc",
   "metadata": {},
   "source": [
    "### 14. What is the purpose of the try clause? What is the purpose of the except clause?"
   ]
  },
  {
   "cell_type": "markdown",
   "id": "76add962",
   "metadata": {},
   "source": [
    "- try clause is used to run the program where we may get an error.\n",
    "<br>\n",
    "\n",
    "- except block is used to catch the error of the try block program."
   ]
  },
  {
   "cell_type": "code",
   "execution_count": 22,
   "id": "b8f2d046",
   "metadata": {},
   "outputs": [
    {
     "name": "stdout",
     "output_type": "stream",
     "text": [
      "Error occured : division by zero\n"
     ]
    }
   ],
   "source": [
    "# eg :\n",
    "\n",
    "try:\n",
    "    a = 6\n",
    "    b = 0\n",
    "    print(a/b)\n",
    "    \n",
    "except Exception as e:\n",
    "    \n",
    "    print(f'Error occured : {e}')"
   ]
  }
 ],
 "metadata": {
  "kernelspec": {
   "display_name": "Python 3",
   "language": "python",
   "name": "python3"
  },
  "language_info": {
   "codemirror_mode": {
    "name": "ipython",
    "version": 3
   },
   "file_extension": ".py",
   "mimetype": "text/x-python",
   "name": "python",
   "nbconvert_exporter": "python",
   "pygments_lexer": "ipython3",
   "version": "3.8.8"
  },
  "varInspector": {
   "cols": {
    "lenName": 16,
    "lenType": 16,
    "lenVar": 40
   },
   "kernels_config": {
    "python": {
     "delete_cmd_postfix": "",
     "delete_cmd_prefix": "del ",
     "library": "var_list.py",
     "varRefreshCmd": "print(var_dic_list())"
    },
    "r": {
     "delete_cmd_postfix": ") ",
     "delete_cmd_prefix": "rm(",
     "library": "var_list.r",
     "varRefreshCmd": "cat(var_dic_list()) "
    }
   },
   "types_to_exclude": [
    "module",
    "function",
    "builtin_function_or_method",
    "instance",
    "_Feature"
   ],
   "window_display": false
  }
 },
 "nbformat": 4,
 "nbformat_minor": 5
}
