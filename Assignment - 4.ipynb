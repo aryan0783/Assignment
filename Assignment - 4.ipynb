{
 "cells": [
  {
   "cell_type": "markdown",
   "id": "5861745b",
   "metadata": {},
   "source": [
    "### 1. What exactly is [ ]?"
   ]
  },
  {
   "cell_type": "markdown",
   "id": "a6b8396f",
   "metadata": {},
   "source": [
    "- this [ ] is a square bracket which is used to define the list data type"
   ]
  },
  {
   "cell_type": "code",
   "execution_count": 1,
   "id": "eab23700",
   "metadata": {},
   "outputs": [
    {
     "name": "stdout",
     "output_type": "stream",
     "text": [
      "[1, 2, 3, 4, 5]\n"
     ]
    }
   ],
   "source": [
    "# eg :\n",
    "\n",
    "list_ = [1,2,3,4,5]\n",
    "print(list_)"
   ]
  },
  {
   "cell_type": "markdown",
   "id": "7ad21a8a",
   "metadata": {},
   "source": [
    "### 2. In a list of values stored in a variable called spam, how would you assign the value &#39;hello&#39; as the third value? (Assume [2, 4, 6, 8, 10] are in spam.)"
   ]
  },
  {
   "cell_type": "code",
   "execution_count": 2,
   "id": "b47c362c",
   "metadata": {},
   "outputs": [],
   "source": [
    "spam = [2,4,6,8,10]\n",
    "spam[2] = 'hello'"
   ]
  },
  {
   "cell_type": "code",
   "execution_count": 3,
   "id": "de0c13ae",
   "metadata": {},
   "outputs": [
    {
     "data": {
      "text/plain": [
       "[2, 4, 'hello', 8, 10]"
      ]
     },
     "execution_count": 3,
     "metadata": {},
     "output_type": "execute_result"
    }
   ],
   "source": [
    "spam"
   ]
  },
  {
   "cell_type": "markdown",
   "id": "d2e861df",
   "metadata": {},
   "source": [
    "### Let&#39;s pretend the spam includes the list [&#39;a&#39;, &#39;b&#39;, &#39;c&#39;, &#39;d&#39;] for the next three queries.\n",
    "\n",
    "\n",
    "3. What is the value of spam[int(int(&#39;3&#39; * 2) / 11)]?\n",
    "4. What is the value of spam[-1]?\n",
    "5. What is the value of spam[:2]?\n"
   ]
  },
  {
   "cell_type": "code",
   "execution_count": 4,
   "id": "623bf7f5",
   "metadata": {},
   "outputs": [],
   "source": [
    "spam = ['a','b','c','d']"
   ]
  },
  {
   "cell_type": "code",
   "execution_count": 5,
   "id": "70fa2d9d",
   "metadata": {},
   "outputs": [
    {
     "data": {
      "text/plain": [
       "'d'"
      ]
     },
     "execution_count": 5,
     "metadata": {},
     "output_type": "execute_result"
    }
   ],
   "source": [
    "# 3\n",
    "\n",
    "spam[int(int('3'*2)/11)]"
   ]
  },
  {
   "cell_type": "code",
   "execution_count": 6,
   "id": "43800970",
   "metadata": {},
   "outputs": [
    {
     "data": {
      "text/plain": [
       "'d'"
      ]
     },
     "execution_count": 6,
     "metadata": {},
     "output_type": "execute_result"
    }
   ],
   "source": [
    "# 4\n",
    "\n",
    "spam[-1]"
   ]
  },
  {
   "cell_type": "code",
   "execution_count": 7,
   "id": "c863b917",
   "metadata": {},
   "outputs": [
    {
     "data": {
      "text/plain": [
       "['a', 'b']"
      ]
     },
     "execution_count": 7,
     "metadata": {},
     "output_type": "execute_result"
    }
   ],
   "source": [
    "# 5\n",
    "\n",
    "spam[:2]"
   ]
  },
  {
   "cell_type": "markdown",
   "id": "bd085341",
   "metadata": {},
   "source": [
    "### Let&#39;s pretend bacon has the list [3.14, &#39;cat,&#39; 11, &#39;cat,&#39; True] for the next three questions.\n",
    "\n",
    "6. What is the value of bacon.index(&#39;cat&#39;)?\n",
    "7. How does bacon.append(99) change the look of the list value in bacon?\n",
    "8. How does bacon.remove(&#39;cat&#39;) change the look of the list in bacon?"
   ]
  },
  {
   "cell_type": "code",
   "execution_count": 12,
   "id": "5d0c1260",
   "metadata": {},
   "outputs": [],
   "source": [
    "bacon = [3.14,'cat',11,'cat',True]"
   ]
  },
  {
   "cell_type": "code",
   "execution_count": 13,
   "id": "d0ce4b90",
   "metadata": {},
   "outputs": [
    {
     "data": {
      "text/plain": [
       "1"
      ]
     },
     "execution_count": 13,
     "metadata": {},
     "output_type": "execute_result"
    }
   ],
   "source": [
    "# 6\n",
    "\n",
    "bacon.index('cat')"
   ]
  },
  {
   "cell_type": "code",
   "execution_count": 14,
   "id": "10a4d55f",
   "metadata": {},
   "outputs": [
    {
     "name": "stdout",
     "output_type": "stream",
     "text": [
      "[3.14, 'cat', 11, 'cat', True, 99]\n"
     ]
    }
   ],
   "source": [
    "# 7\n",
    "\n",
    "bacon.append(99)\n",
    "print(bacon)"
   ]
  },
  {
   "cell_type": "code",
   "execution_count": 15,
   "id": "47f2d9a2",
   "metadata": {},
   "outputs": [
    {
     "name": "stdout",
     "output_type": "stream",
     "text": [
      "[3.14, 11, 'cat', True, 99]\n"
     ]
    }
   ],
   "source": [
    "# 8\n",
    "\n",
    "bacon.remove('cat')\n",
    "print(bacon)"
   ]
  },
  {
   "cell_type": "markdown",
   "id": "2eab8e4b",
   "metadata": {},
   "source": [
    "### 9. What are the list concatenation and list replication operators?"
   ]
  },
  {
   "cell_type": "markdown",
   "id": "2d642dbe",
   "metadata": {},
   "source": [
    "- list concatenation operator is + and list replication operator is *"
   ]
  },
  {
   "cell_type": "code",
   "execution_count": 16,
   "id": "f1b59a8d",
   "metadata": {},
   "outputs": [],
   "source": [
    "list_ = [1,2,3,4]"
   ]
  },
  {
   "cell_type": "code",
   "execution_count": 17,
   "id": "766d175f",
   "metadata": {},
   "outputs": [
    {
     "data": {
      "text/plain": [
       "[1, 2, 3, 4, 34]"
      ]
     },
     "execution_count": 17,
     "metadata": {},
     "output_type": "execute_result"
    }
   ],
   "source": [
    "# list concatination :\n",
    "\n",
    "list_ + [34]"
   ]
  },
  {
   "cell_type": "code",
   "execution_count": 18,
   "id": "af2b6c66",
   "metadata": {},
   "outputs": [
    {
     "data": {
      "text/plain": [
       "[1, 2, 3, 4, 1, 2, 3, 4, 1, 2, 3, 4]"
      ]
     },
     "execution_count": 18,
     "metadata": {},
     "output_type": "execute_result"
    }
   ],
   "source": [
    "# list replication :\n",
    "\n",
    "list_ * 3"
   ]
  },
  {
   "cell_type": "markdown",
   "id": "f1b00992",
   "metadata": {},
   "source": [
    "### 10. What is difference between the list methods append() and insert()?"
   ]
  },
  {
   "cell_type": "markdown",
   "id": "7e94c87f",
   "metadata": {},
   "source": [
    "- list method append is used to add the element to the list at the end\n",
    "<br>\n",
    "\n",
    "- list insert method is used to add the element to the list at the desired position."
   ]
  },
  {
   "cell_type": "code",
   "execution_count": 19,
   "id": "bde334d5",
   "metadata": {},
   "outputs": [],
   "source": [
    "list_ = [1,2,3,4]"
   ]
  },
  {
   "cell_type": "code",
   "execution_count": 20,
   "id": "774ce8bb",
   "metadata": {},
   "outputs": [
    {
     "name": "stdout",
     "output_type": "stream",
     "text": [
      "[1, 2, 3, 4, 45]\n"
     ]
    }
   ],
   "source": [
    "# list append :\n",
    "\n",
    "list_.append(45)\n",
    "print(list_)"
   ]
  },
  {
   "cell_type": "code",
   "execution_count": 21,
   "id": "13934416",
   "metadata": {},
   "outputs": [
    {
     "name": "stdout",
     "output_type": "stream",
     "text": [
      "[1, 2, 3, 43, 4, 45]\n"
     ]
    }
   ],
   "source": [
    "# list insert :\n",
    "\n",
    "list_.insert(3,43)\n",
    "print(list_)"
   ]
  },
  {
   "cell_type": "markdown",
   "id": "6eaf473b",
   "metadata": {},
   "source": [
    "### 11. What are the two methods for removing items from a list?"
   ]
  },
  {
   "cell_type": "markdown",
   "id": "7e805213",
   "metadata": {},
   "source": [
    "- Two methods for removing the items from a list are : remove method and pop method.\n",
    "<br>\n",
    "\n",
    "- remove method takes the elements name where as pop method takes the index of the list"
   ]
  },
  {
   "cell_type": "code",
   "execution_count": 24,
   "id": "5a885dd5",
   "metadata": {},
   "outputs": [],
   "source": [
    "list_ = [23,34,45,56,67,60]"
   ]
  },
  {
   "cell_type": "code",
   "execution_count": 25,
   "id": "911dd5b9",
   "metadata": {},
   "outputs": [
    {
     "name": "stdout",
     "output_type": "stream",
     "text": [
      "[23, 34, 45, 56, 60]\n"
     ]
    }
   ],
   "source": [
    "# list remove method :\n",
    "\n",
    "list_.remove(67)\n",
    "print(list_)"
   ]
  },
  {
   "cell_type": "code",
   "execution_count": 26,
   "id": "5b447ade",
   "metadata": {},
   "outputs": [
    {
     "name": "stdout",
     "output_type": "stream",
     "text": [
      "[23, 34, 45, 60]\n"
     ]
    }
   ],
   "source": [
    "# list pop method :\n",
    "\n",
    "list_.pop(3)\n",
    "print(list_)"
   ]
  },
  {
   "cell_type": "markdown",
   "id": "3737df46",
   "metadata": {},
   "source": [
    "### 12. Describe how list values and string values are identical."
   ]
  },
  {
   "cell_type": "markdown",
   "id": "f53ae6d9",
   "metadata": {},
   "source": [
    "List values and string values are identical becuase of indexing."
   ]
  },
  {
   "cell_type": "code",
   "execution_count": 27,
   "id": "8fcebe0e",
   "metadata": {},
   "outputs": [
    {
     "name": "stdout",
     "output_type": "stream",
     "text": [
      "n\n",
      "45\n"
     ]
    }
   ],
   "source": [
    "# eg : \n",
    "\n",
    "mystr = 'aryan'\n",
    "mylist = [12,23,34,45,56]\n",
    "\n",
    "print(mystr[4])\n",
    "print(mylist[3])"
   ]
  },
  {
   "cell_type": "markdown",
   "id": "6370e13a",
   "metadata": {},
   "source": [
    "### 13. What&#39;s the difference between tuples and lists?"
   ]
  },
  {
   "cell_type": "markdown",
   "id": "74fbfc43",
   "metadata": {},
   "source": [
    "#### Tuples :\n",
    "\n",
    "- tuples are defined with the help of parenthesis.\n",
    "- tuples are immutable i.e values can't be changed.\n",
    "\n",
    "\n",
    "#### LIsts :\n",
    "\n",
    "- lists are defined with the help of square bracket.\n",
    "- lists are mutable in nature."
   ]
  },
  {
   "cell_type": "code",
   "execution_count": 28,
   "id": "980dc26e",
   "metadata": {},
   "outputs": [
    {
     "name": "stdout",
     "output_type": "stream",
     "text": [
      "<class 'tuple'>\n",
      "<class 'list'>\n"
     ]
    }
   ],
   "source": [
    "# tuple :\n",
    "\n",
    "tup = (23,3,45)\n",
    "list_ = [34,45,56]\n",
    "\n",
    "print(type(tup))\n",
    "print(type(list_))"
   ]
  },
  {
   "cell_type": "markdown",
   "id": "c0e17440",
   "metadata": {},
   "source": [
    "### 14. How do you type a tuple value that only contains the integer 42?"
   ]
  },
  {
   "cell_type": "code",
   "execution_count": 29,
   "id": "de0a62f5",
   "metadata": {},
   "outputs": [],
   "source": [
    "mytuple = 42,"
   ]
  },
  {
   "cell_type": "code",
   "execution_count": 30,
   "id": "585a600e",
   "metadata": {},
   "outputs": [
    {
     "name": "stdout",
     "output_type": "stream",
     "text": [
      "<class 'tuple'>\n"
     ]
    }
   ],
   "source": [
    "print(type(mytuple))"
   ]
  },
  {
   "cell_type": "markdown",
   "id": "01fd9616",
   "metadata": {},
   "source": [
    "### 15. How do you get a list value&#39;s tuple form? How do you get a tuple value&#39;s list form?"
   ]
  },
  {
   "cell_type": "code",
   "execution_count": 31,
   "id": "6e0b28b1",
   "metadata": {},
   "outputs": [],
   "source": [
    "mytuple = (12,23,43,546,56)\n",
    "\n",
    "mylist = [44,55,77,88]"
   ]
  },
  {
   "cell_type": "code",
   "execution_count": 32,
   "id": "3e4289e0",
   "metadata": {},
   "outputs": [
    {
     "name": "stdout",
     "output_type": "stream",
     "text": [
      "[12, 23, 43, 546, 56]\n"
     ]
    }
   ],
   "source": [
    "# tuple values list form :\n",
    "\n",
    "print(list(mytuple))"
   ]
  },
  {
   "cell_type": "code",
   "execution_count": 33,
   "id": "e5e22b70",
   "metadata": {},
   "outputs": [
    {
     "name": "stdout",
     "output_type": "stream",
     "text": [
      "(44, 55, 77, 88)\n"
     ]
    }
   ],
   "source": [
    "# list values tuple form :\n",
    "\n",
    "print(tuple(mylist))"
   ]
  },
  {
   "cell_type": "markdown",
   "id": "74d416dc",
   "metadata": {},
   "source": [
    "### 16. Variables that &quot;contain&quot; list values are not necessarily lists themselves. Instead, what do they contain?"
   ]
  },
  {
   "cell_type": "markdown",
   "id": "cb8a9137",
   "metadata": {},
   "source": [
    "- they contains the list reference to point out the list."
   ]
  },
  {
   "cell_type": "code",
   "execution_count": 34,
   "id": "857cb6e0",
   "metadata": {},
   "outputs": [
    {
     "name": "stdout",
     "output_type": "stream",
     "text": [
      "1992521963968\n"
     ]
    }
   ],
   "source": [
    "mylist = [12,23,34,5]\n",
    "\n",
    "print(id(mylist))"
   ]
  },
  {
   "cell_type": "markdown",
   "id": "648b2bef",
   "metadata": {},
   "source": [
    "### 17. How do you distinguish between copy.copy() and copy.deepcopy()?"
   ]
  },
  {
   "cell_type": "markdown",
   "id": "71ede783",
   "metadata": {},
   "source": [
    "#### copy.copy()\n",
    "\n",
    "- this is a shallow copy where the reference of the value is same and the changes made to the value affects the copied value.\n",
    "\n",
    "\n",
    "#### copy.deepcopy()\n",
    "\n",
    "- this is deep copy where the copy of the value is actually created."
   ]
  },
  {
   "cell_type": "code",
   "execution_count": 35,
   "id": "84b53de2",
   "metadata": {},
   "outputs": [],
   "source": [
    "import copy"
   ]
  },
  {
   "cell_type": "code",
   "execution_count": 40,
   "id": "3ada2f56",
   "metadata": {},
   "outputs": [],
   "source": [
    "# shallow copy\n",
    "\n",
    "mylist = [1,2,3,4,5]\n",
    "\n",
    "mylist1 = copy.copy(mylist)"
   ]
  },
  {
   "cell_type": "code",
   "execution_count": 43,
   "id": "ba90c8ed",
   "metadata": {},
   "outputs": [
    {
     "name": "stdout",
     "output_type": "stream",
     "text": [
      "[67, 2, 3, 4, 5]\n"
     ]
    }
   ],
   "source": [
    "mylist[0] = 67\n",
    "print(mylist1)"
   ]
  },
  {
   "cell_type": "code",
   "execution_count": 44,
   "id": "9bfd64da",
   "metadata": {},
   "outputs": [],
   "source": [
    "# deep copy\n",
    "\n",
    "mylist = [1,2,3,4,5]\n",
    "\n",
    "mylist1 = copy.deepcopy(mylist)"
   ]
  },
  {
   "cell_type": "code",
   "execution_count": 45,
   "id": "4a1cf051",
   "metadata": {},
   "outputs": [
    {
     "name": "stdout",
     "output_type": "stream",
     "text": [
      "[1, 2, 3, 4, 5]\n"
     ]
    }
   ],
   "source": [
    "mylist[0] = 89\n",
    "print(mylist1)"
   ]
  }
 ],
 "metadata": {
  "kernelspec": {
   "display_name": "Python 3",
   "language": "python",
   "name": "python3"
  },
  "language_info": {
   "codemirror_mode": {
    "name": "ipython",
    "version": 3
   },
   "file_extension": ".py",
   "mimetype": "text/x-python",
   "name": "python",
   "nbconvert_exporter": "python",
   "pygments_lexer": "ipython3",
   "version": "3.8.8"
  },
  "varInspector": {
   "cols": {
    "lenName": 16,
    "lenType": 16,
    "lenVar": 40
   },
   "kernels_config": {
    "python": {
     "delete_cmd_postfix": "",
     "delete_cmd_prefix": "del ",
     "library": "var_list.py",
     "varRefreshCmd": "print(var_dic_list())"
    },
    "r": {
     "delete_cmd_postfix": ") ",
     "delete_cmd_prefix": "rm(",
     "library": "var_list.r",
     "varRefreshCmd": "cat(var_dic_list()) "
    }
   },
   "types_to_exclude": [
    "module",
    "function",
    "builtin_function_or_method",
    "instance",
    "_Feature"
   ],
   "window_display": false
  }
 },
 "nbformat": 4,
 "nbformat_minor": 5
}
