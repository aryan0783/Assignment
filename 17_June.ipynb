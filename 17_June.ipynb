{
 "cells": [
  {
   "cell_type": "markdown",
   "id": "fe5535e2",
   "metadata": {},
   "source": [
    "### 1. What is the role of try and exception block?"
   ]
  },
  {
   "cell_type": "markdown",
   "id": "4d9afd85",
   "metadata": {},
   "source": [
    "#### Role of try and exception block :\n",
    "\n",
    "- try and except block helps us to deal with the runtime error in the program.\n",
    "- runtime error is a kind of error that arises at the time of the execution."
   ]
  },
  {
   "cell_type": "code",
   "execution_count": 4,
   "id": "40bffa75",
   "metadata": {},
   "outputs": [],
   "source": [
    "# try and exception block :\n",
    "\n",
    "def string_concat(a , b):\n",
    "    \n",
    "    try:\n",
    "        \n",
    "        return a + \" \" + b\n",
    "    \n",
    "    except Exception as e:\n",
    "         \n",
    "        return f\"Error occured : {e}\""
   ]
  },
  {
   "cell_type": "code",
   "execution_count": 5,
   "id": "c256101f",
   "metadata": {},
   "outputs": [
    {
     "data": {
      "text/plain": [
       "'Aryan Das'"
      ]
     },
     "execution_count": 5,
     "metadata": {},
     "output_type": "execute_result"
    }
   ],
   "source": [
    "string_concat('Aryan','Das')"
   ]
  },
  {
   "cell_type": "code",
   "execution_count": 7,
   "id": "1a5641cb",
   "metadata": {},
   "outputs": [
    {
     "data": {
      "text/plain": [
       "\"Error occured : unsupported operand type(s) for +: 'int' and 'str'\""
      ]
     },
     "execution_count": 7,
     "metadata": {},
     "output_type": "execute_result"
    }
   ],
   "source": [
    "string_concat(35,454)"
   ]
  },
  {
   "cell_type": "markdown",
   "id": "3fd1a4a3",
   "metadata": {},
   "source": [
    "### 2. What is the syntax for a basic try-except block?"
   ]
  },
  {
   "cell_type": "code",
   "execution_count": 8,
   "id": "b533060f",
   "metadata": {},
   "outputs": [],
   "source": [
    "try:  # try keyword with colon\n",
    "    \n",
    "    pass  # try block of statement\n",
    "\n",
    "except Exception as e:  # except keyword with Exception class \n",
    "    \n",
    "    pass # except block of statement"
   ]
  },
  {
   "cell_type": "code",
   "execution_count": 9,
   "id": "794e6981",
   "metadata": {},
   "outputs": [],
   "source": [
    "def division(a,b):\n",
    "    \n",
    "    try:\n",
    "        \n",
    "        return a/b\n",
    "    \n",
    "    except Exception as e:\n",
    "        \n",
    "        return f\"Error occured {e}\""
   ]
  },
  {
   "cell_type": "code",
   "execution_count": 10,
   "id": "6972a547",
   "metadata": {},
   "outputs": [
    {
     "data": {
      "text/plain": [
       "\"Error occured unsupported operand type(s) for /: 'str' and 'int'\""
      ]
     },
     "execution_count": 10,
     "metadata": {},
     "output_type": "execute_result"
    }
   ],
   "source": [
    "division('435',9)"
   ]
  },
  {
   "cell_type": "code",
   "execution_count": 11,
   "id": "08eb27f9",
   "metadata": {},
   "outputs": [
    {
     "data": {
      "text/plain": [
       "0.7555555555555555"
      ]
     },
     "execution_count": 11,
     "metadata": {},
     "output_type": "execute_result"
    }
   ],
   "source": [
    "division(34,45)"
   ]
  },
  {
   "cell_type": "markdown",
   "id": "3cf55411",
   "metadata": {},
   "source": [
    "### 3. What happens if an exception occurs inside a try block and there is no matching except block?"
   ]
  },
  {
   "cell_type": "markdown",
   "id": "b7a3272e",
   "metadata": {},
   "source": [
    "- the above condition will create the end of line error"
   ]
  },
  {
   "cell_type": "code",
   "execution_count": 13,
   "id": "6c3da80d",
   "metadata": {},
   "outputs": [
    {
     "ename": "SyntaxError",
     "evalue": "unexpected EOF while parsing (<ipython-input-13-b4aa09d9293c>, line 9)",
     "output_type": "error",
     "traceback": [
      "\u001b[1;36m  File \u001b[1;32m\"<ipython-input-13-b4aa09d9293c>\"\u001b[1;36m, line \u001b[1;32m9\u001b[0m\n\u001b[1;33m    #         return f\"Error occured {e}\"\u001b[0m\n\u001b[1;37m                                         ^\u001b[0m\n\u001b[1;31mSyntaxError\u001b[0m\u001b[1;31m:\u001b[0m unexpected EOF while parsing\n"
     ]
    }
   ],
   "source": [
    "def division(a,b):\n",
    "    \n",
    "    try:\n",
    "        \n",
    "        return a/b\n",
    "    \n",
    "#     except Exception as e:\n",
    "        \n",
    "#         return f\"Error occured {e}\""
   ]
  },
  {
   "cell_type": "markdown",
   "id": "09265cb7",
   "metadata": {},
   "source": [
    "### 4. What is the difference between using a bare except block and specifying a specific exception type?"
   ]
  },
  {
   "cell_type": "markdown",
   "id": "6c2746be",
   "metadata": {},
   "source": [
    "- In bare except block any kind of error/exception will be catched where as in the specific exception block only specified exception type error will be catched.\n",
    "<br>\n",
    "\n",
    "- bare except block deal with broad manner where as specific except block deals in narrow manner"
   ]
  },
  {
   "cell_type": "code",
   "execution_count": 9,
   "id": "2fdfc194",
   "metadata": {},
   "outputs": [],
   "source": [
    "# bare except block :\n",
    "\n",
    "def division(a,b):\n",
    "    \n",
    "    try:\n",
    "        \n",
    "        return a/b\n",
    "    \n",
    "    except Exception as e:\n",
    "        \n",
    "        return f\"Error occured {e}\""
   ]
  },
  {
   "cell_type": "code",
   "execution_count": 14,
   "id": "0b1d9dde",
   "metadata": {},
   "outputs": [
    {
     "data": {
      "text/plain": [
       "'Error occured division by zero'"
      ]
     },
     "execution_count": 14,
     "metadata": {},
     "output_type": "execute_result"
    }
   ],
   "source": [
    "division(45,0)"
   ]
  },
  {
   "cell_type": "code",
   "execution_count": 15,
   "id": "2ae56016",
   "metadata": {},
   "outputs": [
    {
     "data": {
      "text/plain": [
       "\"Error occured unsupported operand type(s) for /: 'int' and 'str'\""
      ]
     },
     "execution_count": 15,
     "metadata": {},
     "output_type": "execute_result"
    }
   ],
   "source": [
    "division(34,'sdaf')"
   ]
  },
  {
   "cell_type": "code",
   "execution_count": 16,
   "id": "8b4c0127",
   "metadata": {},
   "outputs": [],
   "source": [
    "# specific exception :\n",
    "\n",
    "def division(a,b):\n",
    "    \n",
    "    try:\n",
    "        \n",
    "        return a/b\n",
    "    \n",
    "    except ZeroDivisionError as e:\n",
    "        \n",
    "        return f\"Error occured {e}\""
   ]
  },
  {
   "cell_type": "code",
   "execution_count": 17,
   "id": "0af03cec",
   "metadata": {},
   "outputs": [
    {
     "data": {
      "text/plain": [
       "'Error occured division by zero'"
      ]
     },
     "execution_count": 17,
     "metadata": {},
     "output_type": "execute_result"
    }
   ],
   "source": [
    "division(34,0)"
   ]
  },
  {
   "cell_type": "code",
   "execution_count": 18,
   "id": "6155a905",
   "metadata": {},
   "outputs": [
    {
     "ename": "TypeError",
     "evalue": "unsupported operand type(s) for /: 'int' and 'str'",
     "output_type": "error",
     "traceback": [
      "\u001b[1;31m---------------------------------------------------------------------------\u001b[0m",
      "\u001b[1;31mTypeError\u001b[0m                                 Traceback (most recent call last)",
      "\u001b[1;32m<ipython-input-18-9a9f0cff1bc8>\u001b[0m in \u001b[0;36m<module>\u001b[1;34m\u001b[0m\n\u001b[1;32m----> 1\u001b[1;33m \u001b[0mdivision\u001b[0m\u001b[1;33m(\u001b[0m\u001b[1;36m34\u001b[0m\u001b[1;33m,\u001b[0m\u001b[1;34m'df'\u001b[0m\u001b[1;33m)\u001b[0m\u001b[1;33m\u001b[0m\u001b[1;33m\u001b[0m\u001b[0m\n\u001b[0m",
      "\u001b[1;32m<ipython-input-16-c6cda435f9aa>\u001b[0m in \u001b[0;36mdivision\u001b[1;34m(a, b)\u001b[0m\n\u001b[0;32m      5\u001b[0m     \u001b[1;32mtry\u001b[0m\u001b[1;33m:\u001b[0m\u001b[1;33m\u001b[0m\u001b[1;33m\u001b[0m\u001b[0m\n\u001b[0;32m      6\u001b[0m \u001b[1;33m\u001b[0m\u001b[0m\n\u001b[1;32m----> 7\u001b[1;33m         \u001b[1;32mreturn\u001b[0m \u001b[0ma\u001b[0m\u001b[1;33m/\u001b[0m\u001b[0mb\u001b[0m\u001b[1;33m\u001b[0m\u001b[1;33m\u001b[0m\u001b[0m\n\u001b[0m\u001b[0;32m      8\u001b[0m \u001b[1;33m\u001b[0m\u001b[0m\n\u001b[0;32m      9\u001b[0m     \u001b[1;32mexcept\u001b[0m \u001b[0mZeroDivisionError\u001b[0m \u001b[1;32mas\u001b[0m \u001b[0me\u001b[0m\u001b[1;33m:\u001b[0m\u001b[1;33m\u001b[0m\u001b[1;33m\u001b[0m\u001b[0m\n",
      "\u001b[1;31mTypeError\u001b[0m: unsupported operand type(s) for /: 'int' and 'str'"
     ]
    }
   ],
   "source": [
    "division(34,'df')"
   ]
  },
  {
   "cell_type": "markdown",
   "id": "53201b51",
   "metadata": {},
   "source": [
    "### 5. Can you have nested try-except blocks in Python? If yes, then give an example."
   ]
  },
  {
   "cell_type": "markdown",
   "id": "1657a5c5",
   "metadata": {},
   "source": [
    "- yes , we can have the nested try except block in python."
   ]
  },
  {
   "cell_type": "code",
   "execution_count": 26,
   "id": "37e59a2f",
   "metadata": {},
   "outputs": [],
   "source": [
    "def digit_counter(num):\n",
    "    \n",
    "    try:\n",
    "        num = int(num)\n",
    "        try:\n",
    "            count = 0\n",
    "            for i in str(num):\n",
    "                count+=1\n",
    "\n",
    "            return count\n",
    "\n",
    "        except Exception as e:\n",
    "            return f'Error occured as : {e}'\n",
    "            \n",
    "    except Exception as e:\n",
    "         \n",
    "        return f'Error occured as : {e}'"
   ]
  },
  {
   "cell_type": "code",
   "execution_count": 27,
   "id": "49898741",
   "metadata": {},
   "outputs": [
    {
     "data": {
      "text/plain": [
       "2"
      ]
     },
     "execution_count": 27,
     "metadata": {},
     "output_type": "execute_result"
    }
   ],
   "source": [
    "digit_counter(34)"
   ]
  },
  {
   "cell_type": "code",
   "execution_count": 28,
   "id": "caa43bb6",
   "metadata": {},
   "outputs": [
    {
     "data": {
      "text/plain": [
       "\"Error occured as : invalid literal for int() with base 10: 'dff'\""
      ]
     },
     "execution_count": 28,
     "metadata": {},
     "output_type": "execute_result"
    }
   ],
   "source": [
    "digit_counter('dff')"
   ]
  },
  {
   "cell_type": "markdown",
   "id": "9ceb2400",
   "metadata": {},
   "source": [
    "### 6. Can we use multiple exception blocks, if yes then give an example."
   ]
  },
  {
   "cell_type": "markdown",
   "id": "df4fc1a5",
   "metadata": {},
   "source": [
    "- yes we can have multiple exception blocks."
   ]
  },
  {
   "cell_type": "code",
   "execution_count": 30,
   "id": "76984649",
   "metadata": {},
   "outputs": [
    {
     "name": "stdout",
     "output_type": "stream",
     "text": [
      "23\n",
      "34\n",
      "45\n",
      "56\n",
      "The assignment is for exception handling!\n"
     ]
    }
   ],
   "source": [
    "try:\n",
    "    \n",
    "    for i in [23,34,45,56]:\n",
    "        print(i)\n",
    "        \n",
    "except Exception as e:\n",
    "    print(e)\n",
    "    \n",
    "    \n",
    "try :\n",
    "    \n",
    "    print('The assignment is for exception handling!')\n",
    "\n",
    "except Exception as e:\n",
    "    print(e)"
   ]
  },
  {
   "cell_type": "markdown",
   "id": "3184beff",
   "metadata": {},
   "source": [
    "### 7. Write the reason due to which following errors are raised:\n",
    "```\n",
    "a. EOFError\n",
    "b. FloatingPointError\n",
    "c. IndexError\n",
    "d. MemoryError\n",
    "e. OverflowError\n",
    "f. TabError\n",
    "g. ValueError\n",
    "```"
   ]
  },
  {
   "cell_type": "markdown",
   "id": "5f6a9c0b",
   "metadata": {},
   "source": [
    "- <b>EOFError</b> : this error occurs when input statement provides no input to code.\n",
    "- <b>FloatingPointError</b> : Arises when floating point operations fails\n",
    "- <b>IndexError</b> : arises when index is out of the range.\n",
    "- <b>MemoryError</b> : arises when memory gets smaller for the operation to be run.\n",
    "- <b>OverflowError</b> : arises when an result of arithmetic operation is too large to be represented.\n",
    "- <b>TabError</b> : raised when program contains inconsistent tabs\n",
    "- <b>ValueError</b> : raised when some function gets wrong data type for operation."
   ]
  },
  {
   "cell_type": "markdown",
   "id": "4631313d",
   "metadata": {},
   "source": [
    "### 8. Write code for the following given scenario and add try-exception block to it.\n",
    "\n",
    "```\n",
    "a. Program to divide two numbers\n",
    "b. Program to convert a string to an integer\n",
    "c. Program to access an element in a list\n",
    "d. Program to handle a specific exception\n",
    "e. Program to handle any exception\n",
    "\n",
    "```"
   ]
  },
  {
   "cell_type": "markdown",
   "id": "26dbe2f4",
   "metadata": {},
   "source": [
    "### a. Program to divide two numbers"
   ]
  },
  {
   "cell_type": "code",
   "execution_count": 45,
   "id": "fd6538f5",
   "metadata": {},
   "outputs": [],
   "source": [
    "def division(num1,num2):\n",
    "    \n",
    "    try:\n",
    "        return num1/num2\n",
    "    \n",
    "    except Exception as e:\n",
    "        return f\"Error occured : {e}\""
   ]
  },
  {
   "cell_type": "code",
   "execution_count": 46,
   "id": "68c1902b",
   "metadata": {},
   "outputs": [
    {
     "data": {
      "text/plain": [
       "9.0"
      ]
     },
     "execution_count": 46,
     "metadata": {},
     "output_type": "execute_result"
    }
   ],
   "source": [
    "division(45,5)"
   ]
  },
  {
   "cell_type": "code",
   "execution_count": 47,
   "id": "a171d498",
   "metadata": {},
   "outputs": [
    {
     "data": {
      "text/plain": [
       "\"Error occured : unsupported operand type(s) for /: 'int' and 'str'\""
      ]
     },
     "execution_count": 47,
     "metadata": {},
     "output_type": "execute_result"
    }
   ],
   "source": [
    "division(34,'df')"
   ]
  },
  {
   "cell_type": "markdown",
   "id": "6a3f6916",
   "metadata": {},
   "source": [
    "### b. Program to convert a string to an integer"
   ]
  },
  {
   "cell_type": "code",
   "execution_count": 48,
   "id": "bc202b79",
   "metadata": {},
   "outputs": [],
   "source": [
    "def convertion(a):\n",
    "    \n",
    "    try :\n",
    "        a = int(a)\n",
    "        return a\n",
    "    \n",
    "    except Exception as e:\n",
    "        return f\"Error occured : {e}\""
   ]
  },
  {
   "cell_type": "code",
   "execution_count": 49,
   "id": "11519b76",
   "metadata": {},
   "outputs": [
    {
     "data": {
      "text/plain": [
       "\"Error occured : invalid literal for int() with base 10: 'df'\""
      ]
     },
     "execution_count": 49,
     "metadata": {},
     "output_type": "execute_result"
    }
   ],
   "source": [
    "convertion('df')"
   ]
  },
  {
   "cell_type": "code",
   "execution_count": 50,
   "id": "dfd74680",
   "metadata": {},
   "outputs": [
    {
     "data": {
      "text/plain": [
       "34"
      ]
     },
     "execution_count": 50,
     "metadata": {},
     "output_type": "execute_result"
    }
   ],
   "source": [
    "convertion('34')"
   ]
  },
  {
   "cell_type": "markdown",
   "id": "7a99af7f",
   "metadata": {},
   "source": [
    "### c. Program to access an element in a list"
   ]
  },
  {
   "cell_type": "code",
   "execution_count": 52,
   "id": "3ce1ca62",
   "metadata": {},
   "outputs": [
    {
     "name": "stdout",
     "output_type": "stream",
     "text": [
      "Enter the index : df\n",
      "Error occured : invalid literal for int() with base 10: 'df'\n"
     ]
    }
   ],
   "source": [
    "list_ = [12,23,34,45,56,67]\n",
    "index = input(\"Enter the index : \")\n",
    "\n",
    "try:\n",
    "    index = int(index)\n",
    "    print(list_[index])\n",
    "    \n",
    "except Exception as e:\n",
    "    print(f'Error occured : {e}')"
   ]
  },
  {
   "cell_type": "markdown",
   "id": "fc097548",
   "metadata": {},
   "source": [
    "### d. Program to handle a specific exception"
   ]
  },
  {
   "cell_type": "code",
   "execution_count": 58,
   "id": "2e5d1cd6",
   "metadata": {},
   "outputs": [],
   "source": [
    "def name_printing(firstname,lastname):\n",
    "    \n",
    "    try:\n",
    "        return firstname + ' ' + lastname\n",
    "    \n",
    "    except TypeError as e:\n",
    "        return f'TypeError occured in the program : {e}'"
   ]
  },
  {
   "cell_type": "code",
   "execution_count": 59,
   "id": "e82b8d7c",
   "metadata": {},
   "outputs": [
    {
     "data": {
      "text/plain": [
       "\"TypeError occured in the program : unsupported operand type(s) for +: 'int' and 'str'\""
      ]
     },
     "execution_count": 59,
     "metadata": {},
     "output_type": "execute_result"
    }
   ],
   "source": [
    "name_printing(456,34)"
   ]
  },
  {
   "cell_type": "markdown",
   "id": "71afe633",
   "metadata": {},
   "source": [
    "### e. Program to handle any exception"
   ]
  },
  {
   "cell_type": "code",
   "execution_count": 60,
   "id": "7958cb10",
   "metadata": {},
   "outputs": [],
   "source": [
    "def division(num1,num2):\n",
    "    \n",
    "    try :\n",
    "        \n",
    "        return num1/ num2\n",
    "    \n",
    "    except Exception as e:\n",
    "        \n",
    "        return f'Error occured : {e}'"
   ]
  },
  {
   "cell_type": "code",
   "execution_count": 61,
   "id": "c1d8429b",
   "metadata": {},
   "outputs": [
    {
     "data": {
      "text/plain": [
       "\"Error occured : unsupported operand type(s) for /: 'int' and 'str'\""
      ]
     },
     "execution_count": 61,
     "metadata": {},
     "output_type": "execute_result"
    }
   ],
   "source": [
    "division(34,'df')"
   ]
  },
  {
   "cell_type": "code",
   "execution_count": 62,
   "id": "7d294edb",
   "metadata": {},
   "outputs": [
    {
     "data": {
      "text/plain": [
       "\"Error occured : unsupported operand type(s) for /: 'str' and 'str'\""
      ]
     },
     "execution_count": 62,
     "metadata": {},
     "output_type": "execute_result"
    }
   ],
   "source": [
    "division('df','df')"
   ]
  },
  {
   "cell_type": "code",
   "execution_count": 63,
   "id": "1dc8bc16",
   "metadata": {},
   "outputs": [
    {
     "data": {
      "text/plain": [
       "'Error occured : division by zero'"
      ]
     },
     "execution_count": 63,
     "metadata": {},
     "output_type": "execute_result"
    }
   ],
   "source": [
    "division(34,0)"
   ]
  }
 ],
 "metadata": {
  "kernelspec": {
   "display_name": "Python 3",
   "language": "python",
   "name": "python3"
  },
  "language_info": {
   "codemirror_mode": {
    "name": "ipython",
    "version": 3
   },
   "file_extension": ".py",
   "mimetype": "text/x-python",
   "name": "python",
   "nbconvert_exporter": "python",
   "pygments_lexer": "ipython3",
   "version": "3.8.8"
  },
  "varInspector": {
   "cols": {
    "lenName": 16,
    "lenType": 16,
    "lenVar": 40
   },
   "kernels_config": {
    "python": {
     "delete_cmd_postfix": "",
     "delete_cmd_prefix": "del ",
     "library": "var_list.py",
     "varRefreshCmd": "print(var_dic_list())"
    },
    "r": {
     "delete_cmd_postfix": ") ",
     "delete_cmd_prefix": "rm(",
     "library": "var_list.r",
     "varRefreshCmd": "cat(var_dic_list()) "
    }
   },
   "types_to_exclude": [
    "module",
    "function",
    "builtin_function_or_method",
    "instance",
    "_Feature"
   ],
   "window_display": false
  }
 },
 "nbformat": 4,
 "nbformat_minor": 5
}
