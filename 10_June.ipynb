{
 "cells": [
  {
   "cell_type": "markdown",
   "id": "c51ac770",
   "metadata": {},
   "source": [
    "### 1. In Python, what is the difference between a built-in function and a user-defined function? Provide an example of each."
   ]
  },
  {
   "cell_type": "markdown",
   "id": "9faf2bd5",
   "metadata": {},
   "source": [
    "- in built in function we need to just use the function, the logic of the function is pre-defined.\n",
    "<br>\n",
    "\n",
    "- in user-defined function we need to define the logic of the function"
   ]
  },
  {
   "cell_type": "code",
   "execution_count": 1,
   "id": "099cee29",
   "metadata": {},
   "outputs": [
    {
     "data": {
      "text/plain": [
       "5"
      ]
     },
     "execution_count": 1,
     "metadata": {},
     "output_type": "execute_result"
    }
   ],
   "source": [
    "# eg of the built in function :\n",
    "\n",
    "mystr = 'aryan'\n",
    "len(mystr)"
   ]
  },
  {
   "cell_type": "code",
   "execution_count": 2,
   "id": "79fa2322",
   "metadata": {},
   "outputs": [
    {
     "name": "stdout",
     "output_type": "stream",
     "text": [
      "Aryan\n"
     ]
    }
   ],
   "source": [
    "print('Aryan')"
   ]
  },
  {
   "cell_type": "code",
   "execution_count": 3,
   "id": "ad8bcb2f",
   "metadata": {},
   "outputs": [
    {
     "data": {
      "text/plain": [
       "25"
      ]
     },
     "execution_count": 3,
     "metadata": {},
     "output_type": "execute_result"
    }
   ],
   "source": [
    "eval('5 + 4 * 5')"
   ]
  },
  {
   "cell_type": "code",
   "execution_count": 7,
   "id": "52b7df8f",
   "metadata": {},
   "outputs": [],
   "source": [
    "# eg of the user defined function :\n",
    "\n",
    "def str_concat(a,b):\n",
    "    \n",
    "    if type(a) == str and type(b) == str :\n",
    "        return a + \" \" + b\n",
    "    \n",
    "    else :\n",
    "        return 'Please Enter the string!'"
   ]
  },
  {
   "cell_type": "code",
   "execution_count": 8,
   "id": "36dafeaa",
   "metadata": {},
   "outputs": [
    {
     "data": {
      "text/plain": [
       "'Hello World'"
      ]
     },
     "execution_count": 8,
     "metadata": {},
     "output_type": "execute_result"
    }
   ],
   "source": [
    "str_concat('Hello','World')"
   ]
  },
  {
   "cell_type": "markdown",
   "id": "dfec48b5",
   "metadata": {},
   "source": [
    "### 2. How can you pass arguments to a function in Python? Explain the difference between positional arguments and keyword arguments."
   ]
  },
  {
   "cell_type": "markdown",
   "id": "161f84f9",
   "metadata": {},
   "source": [
    "- we pass arguments in a function by just writing it in the paranthesis which is followed by the function name.\n",
    "<br>\n",
    "\n",
    "### Positional Arguments :\n",
    "\n",
    "- it is passed by without mentioning the name of the parameter.\n",
    "- order of the arguments cannot be changed\n",
    "- <b>syntax</b> : functionName(value)\n",
    "\n",
    "\n",
    "### Keyword Arguments :\n",
    "\n",
    "- it is passed by mentioning the name of the parameter.\n",
    "- order of the arguments can be changed\n",
    "- <b>syntax</b> : functionName(parameterName = value)"
   ]
  },
  {
   "cell_type": "code",
   "execution_count": 9,
   "id": "c5009eed",
   "metadata": {},
   "outputs": [],
   "source": [
    "def str_concat(a,b):\n",
    "    \n",
    "    if type(a) == str and type(b) == str :\n",
    "        return a + \" \" + b\n",
    "    \n",
    "    else :\n",
    "        return 'Please Enter the string!'"
   ]
  },
  {
   "cell_type": "code",
   "execution_count": 10,
   "id": "5d52dc9f",
   "metadata": {},
   "outputs": [
    {
     "data": {
      "text/plain": [
       "'Hello World'"
      ]
     },
     "execution_count": 10,
     "metadata": {},
     "output_type": "execute_result"
    }
   ],
   "source": [
    "# positional arguments\n",
    "\n",
    "str_concat('Hello','World')"
   ]
  },
  {
   "cell_type": "code",
   "execution_count": 11,
   "id": "6079e33c",
   "metadata": {},
   "outputs": [
    {
     "data": {
      "text/plain": [
       "'Hello World'"
      ]
     },
     "execution_count": 11,
     "metadata": {},
     "output_type": "execute_result"
    }
   ],
   "source": [
    "# keyword arguments\n",
    "\n",
    "str_concat(b='World',a='Hello')"
   ]
  },
  {
   "cell_type": "markdown",
   "id": "60629fa3",
   "metadata": {},
   "source": [
    "### 3. What is the purpose of the return statement in a function? Can a function have multiple return statements? Explain with an example."
   ]
  },
  {
   "cell_type": "markdown",
   "id": "63dc64ba",
   "metadata": {},
   "source": [
    "- Purpose of return statement is to return the value from the user defined function."
   ]
  },
  {
   "cell_type": "code",
   "execution_count": 12,
   "id": "ebfda7dd",
   "metadata": {},
   "outputs": [],
   "source": [
    "# eg :\n",
    "\n",
    "def num_square(num):\n",
    "    \n",
    "    return num**2"
   ]
  },
  {
   "cell_type": "code",
   "execution_count": 13,
   "id": "1a90c7fe",
   "metadata": {},
   "outputs": [
    {
     "data": {
      "text/plain": [
       "144"
      ]
     },
     "execution_count": 13,
     "metadata": {},
     "output_type": "execute_result"
    }
   ],
   "source": [
    "num_square(12)"
   ]
  },
  {
   "cell_type": "markdown",
   "id": "c56aafc2",
   "metadata": {},
   "source": [
    "- a function can not have multiple return statement, it can be possible only in the case of decision statement."
   ]
  },
  {
   "cell_type": "code",
   "execution_count": 17,
   "id": "f6c7c451",
   "metadata": {},
   "outputs": [],
   "source": [
    "# eg :\n",
    "\n",
    "def sumation(a,b):\n",
    "    \n",
    "    return a+b\n",
    "    return 'Hello World!'"
   ]
  },
  {
   "cell_type": "code",
   "execution_count": 18,
   "id": "23c69490",
   "metadata": {},
   "outputs": [
    {
     "data": {
      "text/plain": [
       "57"
      ]
     },
     "execution_count": 18,
     "metadata": {},
     "output_type": "execute_result"
    }
   ],
   "source": [
    "sumation(23,34)\n",
    "\n",
    "# return 'Hello World' haven't executed!"
   ]
  },
  {
   "cell_type": "code",
   "execution_count": 14,
   "id": "246194fe",
   "metadata": {},
   "outputs": [],
   "source": [
    "# eg :\n",
    "\n",
    "def num_square(num):\n",
    "    \n",
    "    if type(num) == int:\n",
    "        \n",
    "        return num**2\n",
    "    \n",
    "    else:\n",
    "        \n",
    "        return \"Please give integer data type as argument!\""
   ]
  },
  {
   "cell_type": "code",
   "execution_count": 15,
   "id": "feaf46f2",
   "metadata": {},
   "outputs": [
    {
     "data": {
      "text/plain": [
       "529"
      ]
     },
     "execution_count": 15,
     "metadata": {},
     "output_type": "execute_result"
    }
   ],
   "source": [
    "num_square(23)"
   ]
  },
  {
   "cell_type": "code",
   "execution_count": 16,
   "id": "4dd1067f",
   "metadata": {},
   "outputs": [
    {
     "data": {
      "text/plain": [
       "'Please give integer data type as argument!'"
      ]
     },
     "execution_count": 16,
     "metadata": {},
     "output_type": "execute_result"
    }
   ],
   "source": [
    "num_square([35])"
   ]
  },
  {
   "cell_type": "markdown",
   "id": "079cb841",
   "metadata": {},
   "source": [
    "### 4. What are lambda functions in Python? How are they different from regular functions? Provide an example where a lambda function can be useful."
   ]
  },
  {
   "cell_type": "markdown",
   "id": "216ee0e5",
   "metadata": {},
   "source": [
    "- Lambda function in python are the functions which are anonymous function i.e they do not have any name.\n",
    "<br>\n",
    "\n",
    "### Lambda Function :\n",
    "\n",
    "- Lambda function do not have a name.\n",
    "- Lambda functions are one liner functions.\n",
    "- Lambda functions cannot be documented.\n",
    "\n",
    "\n",
    "### Regular Function :\n",
    "\n",
    "- Regular function have a name.\n",
    "- Regular function have multiple line of logic.\n",
    "- Regular function can be documented."
   ]
  },
  {
   "cell_type": "code",
   "execution_count": 19,
   "id": "a259837d",
   "metadata": {},
   "outputs": [],
   "source": [
    "# lambda function \n",
    "\n",
    "x = lambda a : 'Even Number' if a%2==0 else 'Number is not Even'"
   ]
  },
  {
   "cell_type": "code",
   "execution_count": 20,
   "id": "dd9172d7",
   "metadata": {},
   "outputs": [
    {
     "data": {
      "text/plain": [
       "'Number is not Even'"
      ]
     },
     "execution_count": 20,
     "metadata": {},
     "output_type": "execute_result"
    }
   ],
   "source": [
    "x(45)"
   ]
  },
  {
   "cell_type": "markdown",
   "id": "b90474d4",
   "metadata": {},
   "source": [
    "### 5. How does the concept of \"scope\" apply to functions in Python? Explain the difference between local scope and global scope."
   ]
  },
  {
   "cell_type": "markdown",
   "id": "287b2094",
   "metadata": {},
   "source": [
    "### Scope :\n",
    "\n",
    "- scope refers to the area or region where a variable is defined.\n",
    "\n",
    "### Local scope :\n",
    "\n",
    "- a variable which is defined inside a function belongs to the local scope.\n",
    "\n",
    "\n",
    "### Global scope :\n",
    "\n",
    "- a variable which is defined outside a function belongs to the global scope."
   ]
  },
  {
   "cell_type": "code",
   "execution_count": 21,
   "id": "8c403f7c",
   "metadata": {},
   "outputs": [],
   "source": [
    "# local variable example :\n",
    "\n",
    "def cube(x):\n",
    "    \n",
    "    return x**3\n",
    "    "
   ]
  },
  {
   "cell_type": "code",
   "execution_count": 22,
   "id": "21fcba06",
   "metadata": {},
   "outputs": [
    {
     "data": {
      "text/plain": [
       "64"
      ]
     },
     "execution_count": 22,
     "metadata": {},
     "output_type": "execute_result"
    }
   ],
   "source": [
    "cube(4)"
   ]
  },
  {
   "cell_type": "code",
   "execution_count": 23,
   "id": "1469ddf6",
   "metadata": {},
   "outputs": [],
   "source": [
    "# global variable example :\n",
    "\n",
    "x = 100\n",
    "\n",
    "def func():\n",
    "    \n",
    "    x = 200\n",
    "    \n",
    "    print(x)  # func is associated with local x variable"
   ]
  },
  {
   "cell_type": "code",
   "execution_count": 24,
   "id": "faeff093",
   "metadata": {},
   "outputs": [
    {
     "name": "stdout",
     "output_type": "stream",
     "text": [
      "200\n"
     ]
    }
   ],
   "source": [
    "func()"
   ]
  },
  {
   "cell_type": "code",
   "execution_count": 29,
   "id": "67692cdb",
   "metadata": {},
   "outputs": [],
   "source": [
    "# use of global variable inside a function : \n",
    "\n",
    "x = 100\n",
    "\n",
    "def func():\n",
    "    \n",
    "    # use of global keyword to use global variable inside local scope\n",
    "    global x \n",
    "    \n",
    "    print(x)"
   ]
  },
  {
   "cell_type": "code",
   "execution_count": 30,
   "id": "3ca87abd",
   "metadata": {},
   "outputs": [
    {
     "name": "stdout",
     "output_type": "stream",
     "text": [
      "100\n"
     ]
    }
   ],
   "source": [
    "func()"
   ]
  },
  {
   "cell_type": "markdown",
   "id": "dc5fa3c5",
   "metadata": {},
   "source": [
    "### 6. How can you use the \"return\" statement in a Python function to return multiple values?"
   ]
  },
  {
   "cell_type": "markdown",
   "id": "209bf96b",
   "metadata": {},
   "source": [
    "#### Use of the return statement :\n",
    "\n",
    "- return statement is used in the function to return a value\n",
    "- It is used by using return keyword."
   ]
  },
  {
   "cell_type": "code",
   "execution_count": 31,
   "id": "3a513cca",
   "metadata": {},
   "outputs": [],
   "source": [
    "def func():\n",
    "    \n",
    "    return 'Hello',67"
   ]
  },
  {
   "cell_type": "code",
   "execution_count": 32,
   "id": "0ce79287",
   "metadata": {},
   "outputs": [],
   "source": [
    "# unpacking the values :\n",
    "\n",
    "a,b = func()"
   ]
  },
  {
   "cell_type": "code",
   "execution_count": 33,
   "id": "0c53378b",
   "metadata": {},
   "outputs": [
    {
     "name": "stdout",
     "output_type": "stream",
     "text": [
      "Hello\n",
      "67\n"
     ]
    }
   ],
   "source": [
    "print(a)\n",
    "print(b)"
   ]
  },
  {
   "cell_type": "markdown",
   "id": "9e52694f",
   "metadata": {},
   "source": [
    "### 7. What is the difference between the \"pass by value\" and \"pass by reference\" concepts when it comes to function arguments in Python?"
   ]
  },
  {
   "cell_type": "markdown",
   "id": "b68590a5",
   "metadata": {},
   "source": [
    "### Pass by value vs Pass by reference :\n",
    "\n",
    "#### pass by value :\n",
    "\n",
    "- in pass by value , value is passed to the function as an argument.\n",
    "\n",
    "#### pass by reference :\n",
    "\n",
    "- in pass by reference , reference of a variable or value is passed to the function."
   ]
  },
  {
   "cell_type": "code",
   "execution_count": 34,
   "id": "98e883f6",
   "metadata": {},
   "outputs": [
    {
     "name": "stdout",
     "output_type": "stream",
     "text": [
      "140705828251728\n",
      "140705828251728\n"
     ]
    }
   ],
   "source": [
    "# eg : \n",
    "\n",
    "def func(x):\n",
    "    \n",
    "    print(id(x))\n",
    "    \n",
    "    \n",
    "x = 10\n",
    "print(id(x))\n",
    "func(x)"
   ]
  },
  {
   "cell_type": "code",
   "execution_count": 35,
   "id": "770233ca",
   "metadata": {},
   "outputs": [
    {
     "name": "stdout",
     "output_type": "stream",
     "text": [
      "Global Scope :  140705828251728\n",
      "Before assign :  140705828251728\n",
      "After assign :  140705828253552\n"
     ]
    }
   ],
   "source": [
    "# eg : \n",
    "\n",
    "def func(x):\n",
    "    \n",
    "    print('Before assign : ',id(x))\n",
    "    \n",
    "    x = 67\n",
    "    \n",
    "    print('After assign : ',id(x))\n",
    "    \n",
    "x = 10\n",
    "print('Global Scope : ',id(x))\n",
    "func(x)"
   ]
  },
  {
   "cell_type": "markdown",
   "id": "1df9cd4f",
   "metadata": {},
   "source": [
    "### 8. Create a function that can intake integer or decimal value and do following operations:\n",
    "```\n",
    "a. Logarithmic function (log x)\n",
    "b. Exponential function (exp(x))\n",
    "c. Power function with base 2 (2^x)\n",
    "d. Square root\n",
    "```"
   ]
  },
  {
   "cell_type": "code",
   "execution_count": 54,
   "id": "cf1bfe74",
   "metadata": {},
   "outputs": [],
   "source": [
    "# Logarithmic function :\n",
    "\n",
    "import math\n",
    "\n",
    "def log_func(x):\n",
    "    \n",
    "    if type(x) == int or type(x) == float :\n",
    "        return math.log(x)\n",
    "    \n",
    "    else:\n",
    "        return 'Pass the appropriate data type value'"
   ]
  },
  {
   "cell_type": "code",
   "execution_count": 55,
   "id": "a1255926",
   "metadata": {},
   "outputs": [
    {
     "data": {
      "text/plain": [
       "2.302585092994046"
      ]
     },
     "execution_count": 55,
     "metadata": {},
     "output_type": "execute_result"
    }
   ],
   "source": [
    "log_func(10)"
   ]
  },
  {
   "cell_type": "code",
   "execution_count": 58,
   "id": "9bf77616",
   "metadata": {},
   "outputs": [],
   "source": [
    "# Exponential function :\n",
    "\n",
    "def exp_func(x):\n",
    "    \n",
    "    if type(x) == int or type(x) == float :\n",
    "        return math.exp(x)\n",
    "    \n",
    "    else:\n",
    "        return 'Pass the appropriate data type value'"
   ]
  },
  {
   "cell_type": "code",
   "execution_count": 59,
   "id": "98bf8d35",
   "metadata": {},
   "outputs": [
    {
     "data": {
      "text/plain": [
       "3.4934271057485095e+19"
      ]
     },
     "execution_count": 59,
     "metadata": {},
     "output_type": "execute_result"
    }
   ],
   "source": [
    "exp_func(45)"
   ]
  },
  {
   "cell_type": "code",
   "execution_count": 61,
   "id": "8b3aac47",
   "metadata": {},
   "outputs": [],
   "source": [
    "# power function :\n",
    "\n",
    "def power_func(x):\n",
    "    \n",
    "    if type(x) == int or type(x) == float :\n",
    "        return math.pow(2,x)\n",
    "    \n",
    "    else:\n",
    "        return 'Pass the appropriate data type value'"
   ]
  },
  {
   "cell_type": "code",
   "execution_count": 62,
   "id": "85da9ba0",
   "metadata": {},
   "outputs": [
    {
     "data": {
      "text/plain": [
       "1024.0"
      ]
     },
     "execution_count": 62,
     "metadata": {},
     "output_type": "execute_result"
    }
   ],
   "source": [
    "power_func(10)"
   ]
  },
  {
   "cell_type": "code",
   "execution_count": 63,
   "id": "20e27885",
   "metadata": {},
   "outputs": [],
   "source": [
    "# square root function :\n",
    "\n",
    "def square_root(x):\n",
    "    \n",
    "    if type(x) == int or type(x) == float :\n",
    "        return math.sqrt(x)\n",
    "    \n",
    "    else:\n",
    "        return 'Pass the appropriate data type value'"
   ]
  },
  {
   "cell_type": "code",
   "execution_count": 64,
   "id": "e83d44cb",
   "metadata": {},
   "outputs": [
    {
     "data": {
      "text/plain": [
       "2.0"
      ]
     },
     "execution_count": 64,
     "metadata": {},
     "output_type": "execute_result"
    }
   ],
   "source": [
    "square_root(4)"
   ]
  },
  {
   "cell_type": "markdown",
   "id": "0ba1450d",
   "metadata": {},
   "source": [
    "### 9. Create a function that takes a full name as an argument and returns first name and last name."
   ]
  },
  {
   "cell_type": "code",
   "execution_count": 66,
   "id": "9d767a1c",
   "metadata": {},
   "outputs": [],
   "source": [
    "# multiple return statement\n",
    "# multiple value returned through return statement\n",
    "\n",
    "def name_splitter(x):\n",
    "    \n",
    "    if type(x) == str:\n",
    "        if len(x.split()) == 2:\n",
    "            firstname,lastname = x.split()\n",
    "            \n",
    "            return f'Firstname : {firstname}\\nLastname : {lastname}'\n",
    "            \n",
    "        elif len(x.split()) == 3:\n",
    "            firstname, middlename, lastname = x.split()\n",
    "\n",
    "            return f'Firstname : {firstname}\\nMiddlename : {middlename}\\nLastname : {lastname}'"
   ]
  },
  {
   "cell_type": "code",
   "execution_count": 69,
   "id": "c45037c2",
   "metadata": {},
   "outputs": [
    {
     "name": "stdout",
     "output_type": "stream",
     "text": [
      "Firstname : Aryan\n",
      "Lastname : Das\n"
     ]
    }
   ],
   "source": [
    "print(name_splitter('Aryan Das'))"
   ]
  },
  {
   "cell_type": "code",
   "execution_count": 70,
   "id": "b7d988f3",
   "metadata": {},
   "outputs": [
    {
     "name": "stdout",
     "output_type": "stream",
     "text": [
      "Firstname : Aryan\n",
      "Middlename : Rahul\n",
      "Lastname : Das\n"
     ]
    }
   ],
   "source": [
    "print(name_splitter('Aryan Rahul Das'))"
   ]
  }
 ],
 "metadata": {
  "kernelspec": {
   "display_name": "Python 3",
   "language": "python",
   "name": "python3"
  },
  "language_info": {
   "codemirror_mode": {
    "name": "ipython",
    "version": 3
   },
   "file_extension": ".py",
   "mimetype": "text/x-python",
   "name": "python",
   "nbconvert_exporter": "python",
   "pygments_lexer": "ipython3",
   "version": "3.8.8"
  },
  "varInspector": {
   "cols": {
    "lenName": 16,
    "lenType": 16,
    "lenVar": 40
   },
   "kernels_config": {
    "python": {
     "delete_cmd_postfix": "",
     "delete_cmd_prefix": "del ",
     "library": "var_list.py",
     "varRefreshCmd": "print(var_dic_list())"
    },
    "r": {
     "delete_cmd_postfix": ") ",
     "delete_cmd_prefix": "rm(",
     "library": "var_list.r",
     "varRefreshCmd": "cat(var_dic_list()) "
    }
   },
   "types_to_exclude": [
    "module",
    "function",
    "builtin_function_or_method",
    "instance",
    "_Feature"
   ],
   "window_display": false
  }
 },
 "nbformat": 4,
 "nbformat_minor": 5
}
