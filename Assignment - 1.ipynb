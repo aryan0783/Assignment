{
 "cells": [
  {
   "cell_type": "markdown",
   "id": "5c32b396",
   "metadata": {},
   "source": [
    "### 1. In the below elements which of them are values or an expression? eg:- values can be integer or string and expressions will be mathematical operators.\n",
    "```\n",
    "*\n",
    "'hello'\n",
    "-87.8\n",
    "-\n",
    "/\n",
    "+\n",
    "6\n",
    "```"
   ]
  },
  {
   "cell_type": "markdown",
   "id": "7126a474",
   "metadata": {},
   "source": [
    "```\n",
    "* : Arithmetic operator : used to multiply two operands\n",
    "'hello' : String data type value\n",
    "-87.8 : floating point data type value\n",
    "- : Arithmetic operator : used to subtract two term\n",
    "/ : Arithmetic operator : used to divide two term.\n",
    "+ : Arithemtic operator : used to add two term.\n",
    "6 : integer data type value.\n",
    "```"
   ]
  },
  {
   "cell_type": "markdown",
   "id": "993a17c6",
   "metadata": {},
   "source": [
    "### 2. What is the difference between string and variable?"
   ]
  },
  {
   "cell_type": "markdown",
   "id": "0b8a7d07",
   "metadata": {},
   "source": [
    "#### String Vs Variable :\n",
    "\n",
    "- String is a primitive data type.\n",
    "- Variable can be defined as a area in memory where a value can be stored.\n",
    "- We can have string data type variable.\n",
    "Eg : mystr = 'Aryan'"
   ]
  },
  {
   "cell_type": "markdown",
   "id": "46bc5061",
   "metadata": {},
   "source": [
    "### 3. Describe three different data types."
   ]
  },
  {
   "cell_type": "markdown",
   "id": "a2f94a16",
   "metadata": {},
   "source": [
    "#### Types of data types are :\n",
    "\n",
    "- string : string is a type of data type which consist of characters.\n",
    "- integer : integer data type consist of numeric value.\n",
    "- float : floating point data type consist of values with decimal."
   ]
  },
  {
   "cell_type": "code",
   "execution_count": 1,
   "id": "c2f70d49",
   "metadata": {},
   "outputs": [],
   "source": [
    "# string :\n",
    "mystr = 'Aryan'\n",
    "\n",
    "# integer :\n",
    "myint = 454\n",
    "\n",
    "# float :\n",
    "floating_value = 2.3"
   ]
  },
  {
   "cell_type": "markdown",
   "id": "1b31872f",
   "metadata": {},
   "source": [
    "### 4. What is an expression made up of? What do all expressions do?"
   ]
  },
  {
   "cell_type": "markdown",
   "id": "cbaa131d",
   "metadata": {},
   "source": [
    "- Expression is made up of operators and operands. Eg : +,-,/,* etc\n",
    "- Expression perform some operations. Eg : 4 + 3 - 2 or 5 ^ 89"
   ]
  },
  {
   "cell_type": "code",
   "execution_count": 2,
   "id": "63e66d8c",
   "metadata": {},
   "outputs": [
    {
     "name": "stdout",
     "output_type": "stream",
     "text": [
      "-75.0\n"
     ]
    }
   ],
   "source": [
    "# eg of expressions :\n",
    "\n",
    "print(45 - 90 * 4/3)"
   ]
  },
  {
   "cell_type": "markdown",
   "id": "1e4a1b8c",
   "metadata": {},
   "source": [
    "### 5. This assignment statements, like spam = 10. What is the difference between an expression and a statement?"
   ]
  },
  {
   "cell_type": "markdown",
   "id": "29f5c949",
   "metadata": {},
   "source": [
    "- statement in python is used to create variables or display value.\n",
    "- expression in python can be assigned or used as operands."
   ]
  },
  {
   "cell_type": "code",
   "execution_count": 3,
   "id": "83fddf3e",
   "metadata": {},
   "outputs": [
    {
     "data": {
      "text/plain": [
       "144"
      ]
     },
     "execution_count": 3,
     "metadata": {},
     "output_type": "execute_result"
    }
   ],
   "source": [
    "# eg of statement :\n",
    "\n",
    "spam = 10\n",
    "\n",
    "# eg of expression :\n",
    "\n",
    "spam * 10 + 44"
   ]
  },
  {
   "cell_type": "markdown",
   "id": "eb80e3e1",
   "metadata": {},
   "source": [
    "### 6. After running the following code, what does the variable bacon contain?\n",
    "```\n",
    "bacon = 22\n",
    "bacon + 1\n",
    "```"
   ]
  },
  {
   "cell_type": "code",
   "execution_count": 4,
   "id": "7bf08a8e",
   "metadata": {},
   "outputs": [
    {
     "name": "stdout",
     "output_type": "stream",
     "text": [
      "23\n"
     ]
    }
   ],
   "source": [
    "bacon = 22\n",
    "bacon += 1\n",
    "\n",
    "print(bacon)"
   ]
  },
  {
   "cell_type": "markdown",
   "id": "e16b5a1d",
   "metadata": {},
   "source": [
    "### 7. What should the values of the following two terms be?\n",
    "```\n",
    "'spam' + 'spamspam' \n",
    "'spam' * 3\n",
    "```"
   ]
  },
  {
   "cell_type": "code",
   "execution_count": 5,
   "id": "df062cf1",
   "metadata": {},
   "outputs": [
    {
     "data": {
      "text/plain": [
       "'spamspamspam'"
      ]
     },
     "execution_count": 5,
     "metadata": {},
     "output_type": "execute_result"
    }
   ],
   "source": [
    "# string concatination operation :\n",
    "\n",
    "'spam' +  'spamspam'"
   ]
  },
  {
   "cell_type": "code",
   "execution_count": 6,
   "id": "a94655c7",
   "metadata": {},
   "outputs": [
    {
     "data": {
      "text/plain": [
       "'spamspamspam'"
      ]
     },
     "execution_count": 6,
     "metadata": {},
     "output_type": "execute_result"
    }
   ],
   "source": [
    "# string multiplication operation :\n",
    "\n",
    "'spam' * 3"
   ]
  },
  {
   "cell_type": "markdown",
   "id": "95045698",
   "metadata": {},
   "source": [
    "### 8. Why is eggs a valid variable name while 100 is invalid?"
   ]
  },
  {
   "cell_type": "markdown",
   "id": "6d29e4e6",
   "metadata": {},
   "source": [
    "- eggs follow the rules to define a variable name\n",
    "- 100 is against the rule of to define a variable name"
   ]
  },
  {
   "cell_type": "markdown",
   "id": "8692b50b",
   "metadata": {},
   "source": [
    "### 9. What three functions can be used to get the integer, floating-point number, or string version of a value?"
   ]
  },
  {
   "cell_type": "code",
   "execution_count": 7,
   "id": "4748a050",
   "metadata": {},
   "outputs": [
    {
     "data": {
      "text/plain": [
       "''"
      ]
     },
     "execution_count": 7,
     "metadata": {},
     "output_type": "execute_result"
    }
   ],
   "source": [
    "# functions are :\n",
    "\n",
    "int()\n",
    "float()\n",
    "str()"
   ]
  },
  {
   "cell_type": "markdown",
   "id": "99aebbb1",
   "metadata": {},
   "source": [
    "### 10. Why does this expression cause an error? How can you fix it?\n",
    "\n",
    "&#39;I have eaten &#39; + 99 + &#39; burritos.&#39;"
   ]
  },
  {
   "cell_type": "code",
   "execution_count": 8,
   "id": "eef54a98",
   "metadata": {},
   "outputs": [
    {
     "ename": "TypeError",
     "evalue": "can only concatenate str (not \"int\") to str",
     "output_type": "error",
     "traceback": [
      "\u001b[1;31m---------------------------------------------------------------------------\u001b[0m",
      "\u001b[1;31mTypeError\u001b[0m                                 Traceback (most recent call last)",
      "\u001b[1;32m<ipython-input-8-d24137131a5c>\u001b[0m in \u001b[0;36m<module>\u001b[1;34m\u001b[0m\n\u001b[1;32m----> 1\u001b[1;33m \u001b[1;34m'I have eaten '\u001b[0m \u001b[1;33m+\u001b[0m \u001b[1;36m99\u001b[0m \u001b[1;33m+\u001b[0m \u001b[1;34m' burritos.'\u001b[0m\u001b[1;33m\u001b[0m\u001b[1;33m\u001b[0m\u001b[0m\n\u001b[0m",
      "\u001b[1;31mTypeError\u001b[0m: can only concatenate str (not \"int\") to str"
     ]
    }
   ],
   "source": [
    "'I have eaten ' + 99 + ' burritos.'"
   ]
  },
  {
   "cell_type": "code",
   "execution_count": 9,
   "id": "986548a8",
   "metadata": {},
   "outputs": [
    {
     "data": {
      "text/plain": [
       "'I have eaten 99 burritos.'"
      ]
     },
     "execution_count": 9,
     "metadata": {},
     "output_type": "execute_result"
    }
   ],
   "source": [
    "# string concatination :\n",
    "\n",
    "'I have eaten ' + \"99\" + ' burritos.'"
   ]
  }
 ],
 "metadata": {
  "kernelspec": {
   "display_name": "Python 3",
   "language": "python",
   "name": "python3"
  },
  "language_info": {
   "codemirror_mode": {
    "name": "ipython",
    "version": 3
   },
   "file_extension": ".py",
   "mimetype": "text/x-python",
   "name": "python",
   "nbconvert_exporter": "python",
   "pygments_lexer": "ipython3",
   "version": "3.8.8"
  },
  "varInspector": {
   "cols": {
    "lenName": 16,
    "lenType": 16,
    "lenVar": 40
   },
   "kernels_config": {
    "python": {
     "delete_cmd_postfix": "",
     "delete_cmd_prefix": "del ",
     "library": "var_list.py",
     "varRefreshCmd": "print(var_dic_list())"
    },
    "r": {
     "delete_cmd_postfix": ") ",
     "delete_cmd_prefix": "rm(",
     "library": "var_list.r",
     "varRefreshCmd": "cat(var_dic_list()) "
    }
   },
   "types_to_exclude": [
    "module",
    "function",
    "builtin_function_or_method",
    "instance",
    "_Feature"
   ],
   "window_display": false
  }
 },
 "nbformat": 4,
 "nbformat_minor": 5
}
